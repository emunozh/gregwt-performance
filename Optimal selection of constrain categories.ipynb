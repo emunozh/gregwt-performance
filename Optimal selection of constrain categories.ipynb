{
 "cells": [
  {
   "cell_type": "markdown",
   "metadata": {},
   "source": [
    "# Optimal selection of constrain categories"
   ]
  },
  {
   "cell_type": "markdown",
   "metadata": {},
   "source": [
    "M. Esteban Muñoz H. <marcelo.hidalgo@hcu-hamburg.de>\n",
    "\n",
    "HafenCity Universität – Infrastrukturplanung und Stadttechnik"
   ]
  },
  {
   "cell_type": "markdown",
   "metadata": {},
   "source": [
    "#Table of Contents\n",
    "* [1. Re-weighting results for 4 small areas](#1.-Re-weighting-results-for-4-small-areas)\n",
    "\t* [1.1 load the simulation data](#1.1-load-the-simulation-data)\n",
    "\t* [1.2 Load the original census data from R.](#1.2-Load-the-original-census-data-from-R.)\n",
    "* [2. Plot the result](#2.-Plot-the-result)\n"
   ]
  },
  {
   "cell_type": "markdown",
   "metadata": {},
   "source": [
    "# 1. Re-weighting results for 4 small areas"
   ]
  },
  {
   "cell_type": "markdown",
   "metadata": {},
   "source": [
    "In order to perform a re-weighting of the survey design weights with a GREGWT method I need to define which category of each variable should be used as a \"reference\" category (i.e this category won't be use as a constrain). This is important because the resulting performance of the method (measured as Total Absolute Error TAD) is influenced by the selection of the reference category."
   ]
  },
  {
   "cell_type": "markdown",
   "metadata": {},
   "source": [
    "Needed libraries to read and plot the resulting data from the re-weighting process."
   ]
  },
  {
   "cell_type": "code",
   "execution_count": 38,
   "metadata": {
    "collapsed": true
   },
   "outputs": [],
   "source": [
    "import pandas as pd\n",
    "import matplotlib.pyplot as plt\n",
    "import numpy as np\n",
    "import pylab\n",
    "import seaborn as sns # statistical graphics in Python\n",
    "%matplotlib inline\n",
    "pd.options.display.mpl_style = 'default'\n",
    "pylab.rcParams['figure.figsize'] = (15.0, 8.0)"
   ]
  },
  {
   "cell_type": "markdown",
   "metadata": {},
   "source": [
    "## 1.1 load the simulation data"
   ]
  },
  {
   "cell_type": "markdown",
   "metadata": {},
   "source": [
    "Load the data. This data contains the result from all possible combination of categories to be used as reference categories in the re-weighting process. I perform this computation 2 times. The first time the area population is not used as a benchmark, for the second computation the area population was included as a constrain. "
   ]
  },
  {
   "cell_type": "code",
   "execution_count": 39,
   "metadata": {
    "collapsed": false
   },
   "outputs": [],
   "source": [
    "#result = pd.read_csv(\"./Simulation-Result-opt3.csv\",\n",
    "#                     index_col=[\"area\", \"cat1\", \"cat2\", \"cat3\"],\n",
    "#                     usecols=[\"area\", \"cat1\", \"cat2\", \"cat3\", \"PSAE\"])\n",
    "#result = result.sort_index();\n",
    "#result[\"PSAE\"] = result[\"PSAE\"] #/ 588"
   ]
  },
  {
   "cell_type": "code",
   "execution_count": 40,
   "metadata": {
    "collapsed": false
   },
   "outputs": [],
   "source": [
    "#result_pop = pd.read_csv(\"./Simulation-Result-opt6.csv\",\n",
    "result_pop = pd.read_csv(\"./Simulation-Result-opt7.csv\",\n",
    "                     #index_col=[\"area\", \"cat1\", \"cat2\", \"cat3\"],\n",
    "                     usecols=[\"area\", \"cat1\", \"cat2\", \"cat3\", \"PSAE\"])\n",
    "#result_pop = result_pop.sort_index();\n",
    "#result_pop[\"PSAE\"] = result_pop[\"PSAE\"] #/ 588"
   ]
  },
  {
   "cell_type": "code",
   "execution_count": 41,
   "metadata": {
    "collapsed": false
   },
   "outputs": [],
   "source": [
    "result_pop = result_pop[-np.isnan(result_pop[\"PSAE\"])]"
   ]
  },
  {
   "cell_type": "code",
   "execution_count": 42,
   "metadata": {
    "collapsed": true
   },
   "outputs": [],
   "source": [
    "result_pop.fillna(\"-\", inplace=True)"
   ]
  },
  {
   "cell_type": "code",
   "execution_count": 43,
   "metadata": {
    "collapsed": false
   },
   "outputs": [],
   "source": [
    "result_pop[\"allcat\"] = result_pop[\"cat1\"] + result_pop[\"cat2\"] + result_pop[\"cat3\"] + result_pop[\"area\"].astype(str)"
   ]
  },
  {
   "cell_type": "code",
   "execution_count": 44,
   "metadata": {
    "collapsed": false
   },
   "outputs": [],
   "source": [
    "result_pop = result_pop.drop_duplicates(\"allcat\")"
   ]
  },
  {
   "cell_type": "code",
   "execution_count": 45,
   "metadata": {
    "collapsed": true
   },
   "outputs": [],
   "source": [
    "del(result_pop[\"allcat\"])"
   ]
  },
  {
   "cell_type": "code",
   "execution_count": 46,
   "metadata": {
    "collapsed": false
   },
   "outputs": [],
   "source": [
    "#result_pop.loc[(result_pop[\"cat1\"] == \"75.and.over\") &\n",
    "#               (result_pop[\"cat2\"] == \"Divorced\") &\n",
    "#               (result_pop[\"area\"] == 2),:]"
   ]
  },
  {
   "cell_type": "markdown",
   "metadata": {},
   "source": [
    "Lowest combination of categories, measured by the $PSAE$."
   ]
  },
  {
   "cell_type": "code",
   "execution_count": 47,
   "metadata": {
    "collapsed": false
   },
   "outputs": [],
   "source": [
    "#result[-result[\"PSAE\"].isnull()].loc[2].sort(\"PSAE\").head()"
   ]
  },
  {
   "cell_type": "markdown",
   "metadata": {},
   "source": [
    "**Table 1:** Lowest $PSAE$ for combination of categories used as reference for area 02."
   ]
  },
  {
   "cell_type": "code",
   "execution_count": 48,
   "metadata": {
    "collapsed": false
   },
   "outputs": [],
   "source": [
    "result_pop = result_pop[-result_pop[\"PSAE\"].isnull()]"
   ]
  },
  {
   "cell_type": "code",
   "execution_count": 49,
   "metadata": {
    "collapsed": false
   },
   "outputs": [],
   "source": [
    "#result[-result[\"PSAE\"].isnull()].loc[11].sort(\"PSAE\").head()"
   ]
  },
  {
   "cell_type": "markdown",
   "metadata": {},
   "source": [
    "**Table 2:** Lowest $PSAE$ for combination of categories used as reference for area 11."
   ]
  },
  {
   "cell_type": "code",
   "execution_count": 50,
   "metadata": {
    "collapsed": false
   },
   "outputs": [],
   "source": [
    "#result[-result[\"PSAE\"].isnull()].loc[4011].sort(\"PSAE\").head()"
   ]
  },
  {
   "cell_type": "markdown",
   "metadata": {},
   "source": [
    "**Table 3:** Lowest $PSAE$ for combination of categories used as reference for area 4011."
   ]
  },
  {
   "cell_type": "code",
   "execution_count": 51,
   "metadata": {
    "collapsed": false
   },
   "outputs": [],
   "source": [
    "#result[-result[\"PSAE\"].isnull()].loc[4012].sort(\"PSAE\").head()"
   ]
  },
  {
   "cell_type": "markdown",
   "metadata": {},
   "source": [
    "**Table 4:** Lowest $PSAE$ for combination of categories used as reference for area 4012."
   ]
  },
  {
   "cell_type": "code",
   "execution_count": 52,
   "metadata": {
    "collapsed": false
   },
   "outputs": [],
   "source": [
    "#cat = pd.DataFrame({\n",
    "#    \"02\":   result[-result[\"PSAE\"].isnull()].sort(\"PSAE\").loc[2].ix[0],\n",
    "#    \"11\":   result[-result[\"PSAE\"].isnull()].sort(\"PSAE\").loc[11].ix[0],\n",
    "#    \"4011\": result[-result[\"PSAE\"].isnull()].sort(\"PSAE\").loc[4011].ix[0],\n",
    "#    \"4012\": result[-result[\"PSAE\"].isnull()].sort(\"PSAE\").loc[4012].ix[0]})\n",
    "#cat"
   ]
  },
  {
   "cell_type": "markdown",
   "metadata": {},
   "source": [
    "**Table 5:** Lowest achieved $PSAE$ for each area."
   ]
  },
  {
   "cell_type": "markdown",
   "metadata": {},
   "source": [
    "## 1.2 Load the original census data from R."
   ]
  },
  {
   "cell_type": "code",
   "execution_count": 53,
   "metadata": {
    "collapsed": true
   },
   "outputs": [],
   "source": [
    "data = pd.read_csv(\"Zensus-2011-clean.csv\", index_col=1)"
   ]
  },
  {
   "cell_type": "code",
   "execution_count": 54,
   "metadata": {
    "collapsed": false
   },
   "outputs": [],
   "source": [
    "del(data['Unnamed: 0'])"
   ]
  },
  {
   "cell_type": "code",
   "execution_count": 55,
   "metadata": {
    "collapsed": false
   },
   "outputs": [
    {
     "data": {
      "text/html": [
       "<div>\n",
       "<table border=\"1\" class=\"dataframe\">\n",
       "  <thead>\n",
       "    <tr style=\"text-align: right;\">\n",
       "      <th></th>\n",
       "      <th>Under.3</th>\n",
       "      <th>3...5</th>\n",
       "      <th>6...14</th>\n",
       "      <th>15...17</th>\n",
       "      <th>18...24</th>\n",
       "      <th>25...29</th>\n",
       "      <th>30...39</th>\n",
       "      <th>40...49</th>\n",
       "      <th>50...64</th>\n",
       "      <th>65...74</th>\n",
       "      <th>...</th>\n",
       "      <th>Widowed</th>\n",
       "      <th>Divorced</th>\n",
       "      <th>Party.to.a.civil.union</th>\n",
       "      <th>Civil.union.terminated</th>\n",
       "      <th>1.person</th>\n",
       "      <th>2.persons</th>\n",
       "      <th>3.persons</th>\n",
       "      <th>4.persons</th>\n",
       "      <th>5.persons</th>\n",
       "      <th>6.or.more.people</th>\n",
       "    </tr>\n",
       "    <tr>\n",
       "      <th>Area.Code</th>\n",
       "      <th></th>\n",
       "      <th></th>\n",
       "      <th></th>\n",
       "      <th></th>\n",
       "      <th></th>\n",
       "      <th></th>\n",
       "      <th></th>\n",
       "      <th></th>\n",
       "      <th></th>\n",
       "      <th></th>\n",
       "      <th></th>\n",
       "      <th></th>\n",
       "      <th></th>\n",
       "      <th></th>\n",
       "      <th></th>\n",
       "      <th></th>\n",
       "      <th></th>\n",
       "      <th></th>\n",
       "      <th></th>\n",
       "      <th></th>\n",
       "      <th></th>\n",
       "    </tr>\n",
       "  </thead>\n",
       "  <tbody>\n",
       "    <tr>\n",
       "      <th>2</th>\n",
       "      <td>47757</td>\n",
       "      <td>45575</td>\n",
       "      <td>132476</td>\n",
       "      <td>42239</td>\n",
       "      <td>138325</td>\n",
       "      <td>136313</td>\n",
       "      <td>258238</td>\n",
       "      <td>280671</td>\n",
       "      <td>301189</td>\n",
       "      <td>178471</td>\n",
       "      <td>...</td>\n",
       "      <td>104503</td>\n",
       "      <td>143354</td>\n",
       "      <td>3353</td>\n",
       "      <td>412</td>\n",
       "      <td>400440</td>\n",
       "      <td>528441</td>\n",
       "      <td>303930</td>\n",
       "      <td>264486</td>\n",
       "      <td>103963</td>\n",
       "      <td>67650</td>\n",
       "    </tr>\n",
       "    <tr>\n",
       "      <th>11</th>\n",
       "      <td>94867</td>\n",
       "      <td>86753</td>\n",
       "      <td>239171</td>\n",
       "      <td>73592</td>\n",
       "      <td>271412</td>\n",
       "      <td>263554</td>\n",
       "      <td>464285</td>\n",
       "      <td>539688</td>\n",
       "      <td>624691</td>\n",
       "      <td>376088</td>\n",
       "      <td>...</td>\n",
       "      <td>196801</td>\n",
       "      <td>333989</td>\n",
       "      <td>8709</td>\n",
       "      <td>930</td>\n",
       "      <td>860542</td>\n",
       "      <td>1092332</td>\n",
       "      <td>582501</td>\n",
       "      <td>427341</td>\n",
       "      <td>163306</td>\n",
       "      <td>119185</td>\n",
       "    </tr>\n",
       "    <tr>\n",
       "      <th>4011</th>\n",
       "      <td>12996</td>\n",
       "      <td>12714</td>\n",
       "      <td>41156</td>\n",
       "      <td>14431</td>\n",
       "      <td>49366</td>\n",
       "      <td>39910</td>\n",
       "      <td>68692</td>\n",
       "      <td>85587</td>\n",
       "      <td>104168</td>\n",
       "      <td>62164</td>\n",
       "      <td>...</td>\n",
       "      <td>38945</td>\n",
       "      <td>48267</td>\n",
       "      <td>795</td>\n",
       "      <td>60</td>\n",
       "      <td>121056</td>\n",
       "      <td>172867</td>\n",
       "      <td>98675</td>\n",
       "      <td>84504</td>\n",
       "      <td>33651</td>\n",
       "      <td>22602</td>\n",
       "    </tr>\n",
       "    <tr>\n",
       "      <th>4012</th>\n",
       "      <td>2643</td>\n",
       "      <td>2822</td>\n",
       "      <td>8919</td>\n",
       "      <td>3199</td>\n",
       "      <td>9296</td>\n",
       "      <td>6757</td>\n",
       "      <td>12021</td>\n",
       "      <td>16093</td>\n",
       "      <td>22277</td>\n",
       "      <td>13100</td>\n",
       "      <td>...</td>\n",
       "      <td>9161</td>\n",
       "      <td>9723</td>\n",
       "      <td>89</td>\n",
       "      <td>15</td>\n",
       "      <td>26444</td>\n",
       "      <td>34910</td>\n",
       "      <td>18396</td>\n",
       "      <td>15138</td>\n",
       "      <td>6721</td>\n",
       "      <td>4994</td>\n",
       "    </tr>\n",
       "  </tbody>\n",
       "</table>\n",
       "<p>4 rows × 23 columns</p>\n",
       "</div>"
      ],
      "text/plain": [
       "           Under.3  3...5  6...14  15...17  18...24  25...29  30...39  \\\n",
       "Area.Code                                                               \n",
       "2            47757  45575  132476    42239   138325   136313   258238   \n",
       "11           94867  86753  239171    73592   271412   263554   464285   \n",
       "4011         12996  12714   41156    14431    49366    39910    68692   \n",
       "4012          2643   2822    8919     3199     9296     6757    12021   \n",
       "\n",
       "           40...49  50...64  65...74        ...         Widowed  Divorced  \\\n",
       "Area.Code                                   ...                             \n",
       "2           280671   301189   178471        ...          104503    143354   \n",
       "11          539688   624691   376088        ...          196801    333989   \n",
       "4011         85587   104168    62164        ...           38945     48267   \n",
       "4012         16093    22277    13100        ...            9161      9723   \n",
       "\n",
       "           Party.to.a.civil.union  Civil.union.terminated  1.person  \\\n",
       "Area.Code                                                             \n",
       "2                            3353                     412    400440   \n",
       "11                           8709                     930    860542   \n",
       "4011                          795                      60    121056   \n",
       "4012                           89                      15     26444   \n",
       "\n",
       "           2.persons  3.persons  4.persons  5.persons  6.or.more.people  \n",
       "Area.Code                                                                \n",
       "2             528441     303930     264486     103963             67650  \n",
       "11           1092332     582501     427341     163306            119185  \n",
       "4011          172867      98675      84504      33651             22602  \n",
       "4012           34910      18396      15138       6721              4994  \n",
       "\n",
       "[4 rows x 23 columns]"
      ]
     },
     "execution_count": 55,
     "metadata": {},
     "output_type": "execute_result"
    }
   ],
   "source": [
    "data.loc[[2,11,4011,4012]]"
   ]
  },
  {
   "cell_type": "markdown",
   "metadata": {},
   "source": [
    "**Table 6:** Original census data."
   ]
  },
  {
   "cell_type": "code",
   "execution_count": 56,
   "metadata": {
    "collapsed": false
   },
   "outputs": [
    {
     "data": {
      "image/png": "[encoded data removed]",
      "text/plain": [
       "<matplotlib.figure.Figure at 0x7fc8ddd84978>"
      ]
     },
     "metadata": {},
     "output_type": "display_data"
    }
   ],
   "source": [
    "x1 = data.ix[2, \"Under.3\":\"75.and.over\"].astype(float)\n",
    "x2 = data.ix[11, \"Under.3\":\"75.and.over\"].astype(float)\n",
    "x3 = data.ix[4011, \"Under.3\":\"75.and.over\"].astype(float)\n",
    "x4 = data.ix[4012, \"Under.3\":\"75.and.over\"].astype(float)\n",
    "\n",
    "f, (ax1, ax2, ax3, ax4) = plt.subplots(4, 1, figsize=(12, 6), sharex=True)\n",
    "sns.barplot(x1.index, x1, ci=None, palette=\"coolwarm\", hline=.1, ax=ax1)\n",
    "ax1.set_xlabel(\"\")\n",
    "ax1.set_title(\"Area 02\")\n",
    "sns.barplot(x2.index, x2, ci=None, palette=\"coolwarm\", hline=.1, ax=ax2)\n",
    "ax2.set_xlabel(\"\")\n",
    "ax2.set_title(\"Area 11\")\n",
    "sns.barplot(x3.index, x3, ci=None, palette=\"coolwarm\", hline=.1, ax=ax3)\n",
    "ax3.set_xlabel(\"\")\n",
    "ax3.set_title(\"Area 4011\")\n",
    "sns.barplot(x4.index, x4, ci=None, palette=\"coolwarm\", hline=.1, ax=ax4)\n",
    "ax4.set_xlabel(\"\")\n",
    "ax4.set_title(\"Area 4012\")\n",
    "sns.despine(bottom=True)\n",
    "plt.xticks(rotation=90);"
   ]
  },
  {
   "cell_type": "markdown",
   "metadata": {},
   "source": [
    "**Figure 1:** Original **age** data for all four areas from the census."
   ]
  },
  {
   "cell_type": "code",
   "execution_count": 57,
   "metadata": {
    "collapsed": false
   },
   "outputs": [
    {
     "data": {
      "image/png": "[encoded data removed]",
      "text/plain": [
       "<matplotlib.figure.Figure at 0x7fc8de1e4518>"
      ]
     },
     "metadata": {},
     "output_type": "display_data"
    }
   ],
   "source": [
    "x1 = data.ix[2, \"Single\":\"Civil.union.terminated\"].astype(float)\n",
    "x2 = data.ix[11, \"Single\":\"Civil.union.terminated\"].astype(float)\n",
    "x3 = data.ix[4011, \"Single\":\"Civil.union.terminated\"].astype(float)\n",
    "x4 = data.ix[4012, \"Single\":\"Civil.union.terminated\"].astype(float)\n",
    "\n",
    "f, (ax1, ax2, ax3, ax4) = plt.subplots(4, 1, figsize=(6, 6), sharex=True)\n",
    "sns.barplot(x1.index, x1, ci=None, palette=\"coolwarm\", hline=.1, ax=ax1)\n",
    "ax1.set_xlabel(\"\")\n",
    "ax1.set_title(\"Area 02\")\n",
    "sns.barplot(x2.index, x2, ci=None, palette=\"coolwarm\", hline=.1, ax=ax2)\n",
    "ax2.set_xlabel(\"\")\n",
    "ax2.set_title(\"Area 11\")\n",
    "sns.barplot(x3.index, x3, ci=None, palette=\"coolwarm\", hline=.1, ax=ax3)\n",
    "ax3.set_xlabel(\"\")\n",
    "ax3.set_title(\"Area 4011\")\n",
    "sns.barplot(x4.index, x4, ci=None, palette=\"coolwarm\", hline=.1, ax=ax4)\n",
    "ax4.set_xlabel(\"\")\n",
    "ax4.set_title(\"Area 4012\")\n",
    "sns.despine(bottom=True)\n",
    "plt.xticks(rotation=90);"
   ]
  },
  {
   "cell_type": "markdown",
   "metadata": {},
   "source": [
    "**Figure 2:** Original **marital status** data for all four areas from the census."
   ]
  },
  {
   "cell_type": "code",
   "execution_count": 58,
   "metadata": {
    "collapsed": false
   },
   "outputs": [
    {
     "data": {
      "image/png": "[encoded data removed]",
      "text/plain": [
       "<matplotlib.figure.Figure at 0x7fc8de1e4828>"
      ]
     },
     "metadata": {},
     "output_type": "display_data"
    }
   ],
   "source": [
    "x1 = data.ix[2, \"1.person\":\"6.or.more.people\"].astype(float)\n",
    "x2 = data.ix[11, \"1.person\":\"6.or.more.people\"].astype(float)\n",
    "x3 = data.ix[4011, \"1.person\":\"6.or.more.people\"].astype(float)\n",
    "x4 = data.ix[4012, \"1.person\":\"6.or.more.people\"].astype(float)\n",
    "\n",
    "f, (ax1, ax2, ax3, ax4) = plt.subplots(4, 1, figsize=(6, 6), sharex=True)\n",
    "sns.barplot(x1.index, x1, ci=None, palette=\"coolwarm\", hline=.1, ax=ax1)\n",
    "ax1.set_xlabel(\"\")\n",
    "ax1.set_title(\"Area 02\")\n",
    "sns.barplot(x2.index, x2, ci=None, palette=\"coolwarm\", hline=.1, ax=ax2)\n",
    "ax2.set_xlabel(\"\")\n",
    "ax2.set_title(\"Area 11\")\n",
    "sns.barplot(x3.index, x3, ci=None, palette=\"coolwarm\", hline=.1, ax=ax3)\n",
    "ax3.set_xlabel(\"\")\n",
    "ax3.set_title(\"Area 4011\")\n",
    "sns.barplot(x4.index, x4, ci=None, palette=\"coolwarm\", hline=.1, ax=ax4)\n",
    "ax4.set_xlabel(\"\")\n",
    "ax4.set_title(\"Area 4012\")\n",
    "sns.despine(bottom=True)\n",
    "plt.xticks(rotation=90);"
   ]
  },
  {
   "cell_type": "markdown",
   "metadata": {},
   "source": [
    "**Figure 3:** Original **household size** data for all four areas from the census."
   ]
  },
  {
   "cell_type": "markdown",
   "metadata": {},
   "source": [
    "# 2. Plot the result"
   ]
  },
  {
   "cell_type": "markdown",
   "metadata": {},
   "source": [
    "Plot the performance for all four areas."
   ]
  },
  {
   "cell_type": "code",
   "execution_count": 59,
   "metadata": {
    "collapsed": false
   },
   "outputs": [],
   "source": [
    "#f, (ax1, ax2, ax3, ax4) = plt.subplots(4, 1, figsize=(10, 10), sharex=True)\n",
    "#result.loc[2].sort(\"PSAE\", ascending=False).plot(rot=90, ax=ax1);\n",
    "#ax1.set_title(\"Area 02\")\n",
    "#ax1.set_xlabel(\"\")\n",
    "#result.loc[11].sort(\"PSAE\", ascending=False).plot(rot=90, ax=ax2);\n",
    "#ax2.set_title(\"Area 11\")\n",
    "#ax2.set_xlabel(\"\")\n",
    "#result.loc[4011].sort(\"PSAE\", ascending=False).plot(rot=90, ax=ax3);\n",
    "#ax3.set_title(\"Area 4011\")\n",
    "#ax3.set_xlabel(\"\")\n",
    "#result.loc[4012].sort(\"PSAE\", ascending=False).plot(rot=90, ax=ax4);\n",
    "#ax4.set_title(\"Area 4012\")\n",
    "#ax4.set_xlabel(\"\");\n",
    "#plt.savefig(\"FIGURES/performance.pdf\", format=\"pdf\")"
   ]
  },
  {
   "cell_type": "markdown",
   "metadata": {},
   "source": [
    "**Figure 4.** Performance of the re-weighting process depending of defined reference categories."
   ]
  },
  {
   "cell_type": "code",
   "execution_count": 60,
   "metadata": {
    "collapsed": false
   },
   "outputs": [],
   "source": [
    "result_pop = result_pop.sort(\"PSAE\", ascending=False)"
   ]
  },
  {
   "cell_type": "code",
   "execution_count": 61,
   "metadata": {
    "collapsed": false
   },
   "outputs": [],
   "source": [
    "#result_pop = result_pop.loc[result_pop[\"area\"] == 2, \"PSAE\"].sort(\"PSAE\")"
   ]
  },
  {
   "cell_type": "code",
   "execution_count": 62,
   "metadata": {
    "collapsed": false
   },
   "outputs": [],
   "source": [
    "#result_pop.loc[result_pop[\"area\"] == 2,\"PSAE\"]"
   ]
  },
  {
   "cell_type": "code",
   "execution_count": 63,
   "metadata": {
    "collapsed": false
   },
   "outputs": [
    {
     "data": {
      "text/html": [
       "<div>\n",
       "<table border=\"1\" class=\"dataframe\">\n",
       "  <thead>\n",
       "    <tr style=\"text-align: right;\">\n",
       "      <th></th>\n",
       "      <th>cat1</th>\n",
       "      <th>cat2</th>\n",
       "      <th>cat3</th>\n",
       "      <th>area</th>\n",
       "      <th>PSAE</th>\n",
       "    </tr>\n",
       "  </thead>\n",
       "  <tbody>\n",
       "    <tr>\n",
       "      <th>491</th>\n",
       "      <td>3...5</td>\n",
       "      <td>-</td>\n",
       "      <td>6.or.more.people</td>\n",
       "      <td>4012</td>\n",
       "      <td>1.377269</td>\n",
       "    </tr>\n",
       "    <tr>\n",
       "      <th>1635</th>\n",
       "      <td>15...17</td>\n",
       "      <td>-</td>\n",
       "      <td>6.or.more.people</td>\n",
       "      <td>4012</td>\n",
       "      <td>1.376122</td>\n",
       "    </tr>\n",
       "    <tr>\n",
       "      <th>459</th>\n",
       "      <td>Under.3</td>\n",
       "      <td>-</td>\n",
       "      <td>6.or.more.people</td>\n",
       "      <td>4012</td>\n",
       "      <td>1.375121</td>\n",
       "    </tr>\n",
       "    <tr>\n",
       "      <th>1131</th>\n",
       "      <td>25...29</td>\n",
       "      <td>-</td>\n",
       "      <td>6.or.more.people</td>\n",
       "      <td>4012</td>\n",
       "      <td>1.365318</td>\n",
       "    </tr>\n",
       "    <tr>\n",
       "      <th>839</th>\n",
       "      <td>6...14</td>\n",
       "      <td>-</td>\n",
       "      <td>6.or.more.people</td>\n",
       "      <td>4012</td>\n",
       "      <td>1.364736</td>\n",
       "    </tr>\n",
       "  </tbody>\n",
       "</table>\n",
       "</div>"
      ],
      "text/plain": [
       "         cat1 cat2              cat3  area      PSAE\n",
       "491     3...5    -  6.or.more.people  4012  1.377269\n",
       "1635  15...17    -  6.or.more.people  4012  1.376122\n",
       "459   Under.3    -  6.or.more.people  4012  1.375121\n",
       "1131  25...29    -  6.or.more.people  4012  1.365318\n",
       "839    6...14    -  6.or.more.people  4012  1.364736"
      ]
     },
     "execution_count": 63,
     "metadata": {},
     "output_type": "execute_result"
    }
   ],
   "source": [
    "result_pop.head()"
   ]
  },
  {
   "cell_type": "code",
   "execution_count": 64,
   "metadata": {
    "collapsed": false
   },
   "outputs": [
    {
     "data": {
      "text/plain": [
       "2044"
      ]
     },
     "execution_count": 64,
     "metadata": {},
     "output_type": "execute_result"
    }
   ],
   "source": [
    "result_pop.shape[0]"
   ]
  },
  {
   "cell_type": "code",
   "execution_count": 65,
   "metadata": {
    "collapsed": false,
    "scrolled": false
   },
   "outputs": [
    {
     "data": {
      "image/png": "[encoded data removed]",
      "text/plain": [
       "<matplotlib.figure.Figure at 0x7fc8dd8ae358>"
      ]
     },
     "metadata": {},
     "output_type": "display_data"
    }
   ],
   "source": [
    "#f, (ax1, ax2, ax3, ax4) = plt.subplots(4, 1, figsize=(10, 10), sharex=True)\n",
    "f, (ax1) = plt.subplots(1, 1, figsize=(10, 4), sharex=True)\n",
    "#result_pop.loc[0].sort(\"PSAE\", ascending=False).plot(rot=90, ax=ax1);\n",
    "\n",
    "#result_pop.loc[result_pop[\"area\"] == 2,\"PSAE\"].plot(rot=90, ax=ax1);\n",
    "y = result_pop.loc[result_pop[\"area\"] == 2, \"PSAE\"]\n",
    "x = [i for i in range(len(y))]\n",
    "ax1.plot(x, y, label=\"02\")\n",
    "#ax1.set_title(\"Area 02\")\n",
    "#ax1.set_xlabel(\"\")\n",
    "\n",
    "#result_pop.loc[1].sort(\"PSAE\", ascending=False).plot(rot=90, ax=ax2);\n",
    "y = result_pop.loc[result_pop[\"area\"] == 11, \"PSAE\"]\n",
    "x = [i for i in range(len(y))]\n",
    "ax1.plot(x, y, label=\"11\")\n",
    "#ax2.set_title(\"Area 11\")\n",
    "#ax2.set_xlabel(\"\")\n",
    "\n",
    "#result_pop.loc[2].sort(\"PSAE\", ascending=False).plot(rot=90, ax=ax3);\n",
    "y = result_pop.loc[result_pop[\"area\"] == 4011, \"PSAE\"]\n",
    "x = [i for i in range(len(y))]\n",
    "ax1.plot(x, y, label=\"4011\")\n",
    "#ax3.set_title(\"Area 4011\")\n",
    "#ax3.set_xlabel(\"\")\n",
    "\n",
    "#result_pop.loc[3].sort(\"PSAE\", ascending=False).plot(rot=90, ax=ax4);\n",
    "y = result_pop.loc[result_pop[\"area\"] == 4012, \"PSAE\"]\n",
    "x = [i for i in range(len(y))]\n",
    "ax1.plot(x, y, label=\"4012\")\n",
    "#ax4.set_title(\"Area 4012\")\n",
    "ax1.set_xlabel(\"Iterations\");\n",
    "\n",
    "ax1.set_ylabel(\"PSAE [%]\");\n",
    "\n",
    "ax1.legend(loc=\"best\", title=\"areas\")\n",
    "\n",
    "plt.savefig(\"FIGURES/performance_pop.pdf\", format=\"pdf\", bbox_inches='tight')"
   ]
  },
  {
   "cell_type": "code",
   "execution_count": 66,
   "metadata": {
    "collapsed": false
   },
   "outputs": [
    {
     "data": {
      "image/png": "[encoded data removed]",
      "text/plain": [
       "<matplotlib.figure.Figure at 0x7fc8de14aeb8>"
      ]
     },
     "metadata": {},
     "output_type": "display_data"
    }
   ],
   "source": [
    "f, ax1 = plt.subplots(1, 1, figsize=(10, 3), sharex=True)\n",
    "#result_pop.loc[0].sort(\"PSAE\", ascending=False).plot(rot=90, ax=ax1);\n",
    "\n",
    "#result_pop.loc[result_pop[\"area\"] == 2,\"PSAE\"].plot(rot=90, ax=ax1);\n",
    "y = result_pop.loc[result_pop[\"area\"] == 2, \"PSAE\"]\n",
    "y = y[335:]\n",
    "x = [i for i in range(335, len(y)+335)]\n",
    "ax1.plot(x, y)\n",
    "ax1.set_xlim(335,600)\n",
    "ax1.set_title(\"Area 02\")\n",
    "ax1.set_xlabel(\"Iterations\");\n",
    "plt.savefig(\"FIGURES/performance_pop_sub1.pdf\", format=\"pdf\")"
   ]
  },
  {
   "cell_type": "code",
   "execution_count": 67,
   "metadata": {
    "collapsed": false
   },
   "outputs": [
    {
     "data": {
      "image/png": "[encoded data removed]",
      "text/plain": [
       "<matplotlib.figure.Figure at 0x7fc8de2c3828>"
      ]
     },
     "metadata": {},
     "output_type": "display_data"
    }
   ],
   "source": [
    "f, ax1 = plt.subplots(1, 1, figsize=(10, 3), sharex=True)\n",
    "#result_pop.loc[0].sort(\"PSAE\", ascending=False).plot(rot=90, ax=ax1);\n",
    "\n",
    "#result_pop.loc[result_pop[\"area\"] == 2,\"PSAE\"].plot(rot=90, ax=ax1);\n",
    "y = result_pop.loc[result_pop[\"area\"] == 2, \"PSAE\"]\n",
    "y = y[475:]\n",
    "x = [i for i in range(475, len(y)+475)]\n",
    "ax1.plot(x, y)\n",
    "ax1.set_xlim(475,600)\n",
    "ax1.set_title(\"Area 02\")\n",
    "ax1.set_xlabel(\"Iterations\");\n",
    "plt.savefig(\"FIGURES/performance_pop_sub2.pdf\", format=\"pdf\")"
   ]
  },
  {
   "cell_type": "markdown",
   "metadata": {},
   "source": [
    "**Figure 5.** Performance of the re-weighting process depending of defined reference categories, using area population as a constrain."
   ]
  },
  {
   "cell_type": "markdown",
   "metadata": {},
   "source": [
    "For each area there is a unique combination of categories constrains that result on the \"optimal\" TAE."
   ]
  },
  {
   "cell_type": "code",
   "execution_count": 68,
   "metadata": {
    "collapsed": false
   },
   "outputs": [],
   "source": [
    "#optcat = result.loc[2].sort([\"PSAE\"]).ix[[0],0]\n",
    "#optcat = optcat.append(result.loc[11].sort([\"PSAE\"]).ix[[0],0])\n",
    "#optcat = optcat.append(result.loc[4011].sort([\"PSAE\"]).ix[[0],0])\n",
    "#optcat = optcat.append(result.loc[4012].sort([\"PSAE\"]).ix[[0],0])\n",
    "#optcat = pd.DataFrame(optcat)\n",
    "#optcat[\"area\"] = [\"2\", \"11\", \"4011\", \"4012\"]"
   ]
  },
  {
   "cell_type": "code",
   "execution_count": 69,
   "metadata": {
    "collapsed": false
   },
   "outputs": [],
   "source": [
    "y = result_pop.loc[result_pop[\"area\"] == 2, \"PSAE\"]"
   ]
  },
  {
   "cell_type": "code",
   "execution_count": 70,
   "metadata": {
    "collapsed": false
   },
   "outputs": [
    {
     "data": {
      "text/plain": [
       "0.012070105045368399"
      ]
     },
     "execution_count": 70,
     "metadata": {},
     "output_type": "execute_result"
    }
   ],
   "source": [
    "result_pop.loc[result_pop[\"area\"] == 2, \"PSAE\"].min()"
   ]
  },
  {
   "cell_type": "markdown",
   "metadata": {},
   "source": [
    "**Table 7:** Optimal categories for each area, without having area population as a constrain."
   ]
  },
  {
   "cell_type": "code",
   "execution_count": 71,
   "metadata": {
    "collapsed": false
   },
   "outputs": [
    {
     "data": {
      "text/html": [
       "<div>\n",
       "<table border=\"1\" class=\"dataframe\">\n",
       "  <thead>\n",
       "    <tr style=\"text-align: right;\">\n",
       "      <th></th>\n",
       "      <th>cat1</th>\n",
       "      <th>cat2</th>\n",
       "      <th>cat3</th>\n",
       "      <th>area</th>\n",
       "      <th>PSAE</th>\n",
       "    </tr>\n",
       "  </thead>\n",
       "  <tbody>\n",
       "    <tr>\n",
       "      <th>372</th>\n",
       "      <td>30...39</td>\n",
       "      <td>Widowed</td>\n",
       "      <td>-</td>\n",
       "      <td>2</td>\n",
       "      <td>0.01207</td>\n",
       "    </tr>\n",
       "  </tbody>\n",
       "</table>\n",
       "</div>"
      ],
      "text/plain": [
       "        cat1     cat2 cat3  area     PSAE\n",
       "372  30...39  Widowed    -     2  0.01207"
      ]
     },
     "execution_count": 71,
     "metadata": {},
     "output_type": "execute_result"
    }
   ],
   "source": [
    "result_pop.loc[(result_pop[\"area\"] == 2) &\n",
    "               (result_pop[\"PSAE\"] == result_pop.loc[result_pop[\"area\"] == 2, \"PSAE\"].min())]"
   ]
  },
  {
   "cell_type": "code",
   "execution_count": 72,
   "metadata": {
    "collapsed": false
   },
   "outputs": [
    {
     "data": {
      "text/html": [
       "<div>\n",
       "<table border=\"1\" class=\"dataframe\">\n",
       "  <thead>\n",
       "    <tr style=\"text-align: right;\">\n",
       "      <th></th>\n",
       "      <th>cat1</th>\n",
       "      <th>cat2</th>\n",
       "      <th>cat3</th>\n",
       "      <th>area</th>\n",
       "      <th>PSAE</th>\n",
       "    </tr>\n",
       "  </thead>\n",
       "  <tbody>\n",
       "    <tr>\n",
       "      <th>1353</th>\n",
       "      <td>25...29</td>\n",
       "      <td>Married</td>\n",
       "      <td>-</td>\n",
       "      <td>11</td>\n",
       "      <td>0.022446</td>\n",
       "    </tr>\n",
       "  </tbody>\n",
       "</table>\n",
       "</div>"
      ],
      "text/plain": [
       "         cat1     cat2 cat3  area      PSAE\n",
       "1353  25...29  Married    -    11  0.022446"
      ]
     },
     "execution_count": 72,
     "metadata": {},
     "output_type": "execute_result"
    }
   ],
   "source": [
    "result_pop.loc[(result_pop[\"area\"] == 11) &\n",
    "               (result_pop[\"PSAE\"] == result_pop.loc[result_pop[\"area\"] == 11, \"PSAE\"].min())]"
   ]
  },
  {
   "cell_type": "code",
   "execution_count": 73,
   "metadata": {
    "collapsed": false
   },
   "outputs": [
    {
     "data": {
      "text/html": [
       "<div>\n",
       "<table border=\"1\" class=\"dataframe\">\n",
       "  <thead>\n",
       "    <tr style=\"text-align: right;\">\n",
       "      <th></th>\n",
       "      <th>cat1</th>\n",
       "      <th>cat2</th>\n",
       "      <th>cat3</th>\n",
       "      <th>area</th>\n",
       "      <th>PSAE</th>\n",
       "    </tr>\n",
       "  </thead>\n",
       "  <tbody>\n",
       "    <tr>\n",
       "      <th>486</th>\n",
       "      <td>18...24</td>\n",
       "      <td>Divorced</td>\n",
       "      <td>-</td>\n",
       "      <td>4011</td>\n",
       "      <td>0.045513</td>\n",
       "    </tr>\n",
       "  </tbody>\n",
       "</table>\n",
       "</div>"
      ],
      "text/plain": [
       "        cat1      cat2 cat3  area      PSAE\n",
       "486  18...24  Divorced    -  4011  0.045513"
      ]
     },
     "execution_count": 73,
     "metadata": {},
     "output_type": "execute_result"
    }
   ],
   "source": [
    "result_pop.loc[(result_pop[\"area\"] == 4011) &\n",
    "               (result_pop[\"PSAE\"] == result_pop.loc[result_pop[\"area\"] == 4011, \"PSAE\"].min())]"
   ]
  },
  {
   "cell_type": "code",
   "execution_count": 74,
   "metadata": {
    "collapsed": false
   },
   "outputs": [
    {
     "data": {
      "text/html": [
       "<div>\n",
       "<table border=\"1\" class=\"dataframe\">\n",
       "  <thead>\n",
       "    <tr style=\"text-align: right;\">\n",
       "      <th></th>\n",
       "      <th>cat1</th>\n",
       "      <th>cat2</th>\n",
       "      <th>cat3</th>\n",
       "      <th>area</th>\n",
       "      <th>PSAE</th>\n",
       "    </tr>\n",
       "  </thead>\n",
       "  <tbody>\n",
       "    <tr>\n",
       "      <th>2003</th>\n",
       "      <td>-</td>\n",
       "      <td>Married</td>\n",
       "      <td>-</td>\n",
       "      <td>4012</td>\n",
       "      <td>0.092459</td>\n",
       "    </tr>\n",
       "  </tbody>\n",
       "</table>\n",
       "</div>"
      ],
      "text/plain": [
       "     cat1     cat2 cat3  area      PSAE\n",
       "2003    -  Married    -  4012  0.092459"
      ]
     },
     "execution_count": 74,
     "metadata": {},
     "output_type": "execute_result"
    }
   ],
   "source": [
    "result_pop.loc[(result_pop[\"area\"] == 4012) &\n",
    "               (result_pop[\"PSAE\"] == result_pop.loc[result_pop[\"area\"] == 4012, \"PSAE\"].min())]"
   ]
  },
  {
   "cell_type": "markdown",
   "metadata": {},
   "source": [
    "**Table 9:** Optimal categories for each area, having area population as a constrain."
   ]
  },
  {
   "cell_type": "code",
   "execution_count": 75,
   "metadata": {
    "collapsed": false
   },
   "outputs": [
    {
     "data": {
      "text/html": [
       "<div>\n",
       "<table border=\"1\" class=\"dataframe\">\n",
       "  <thead>\n",
       "    <tr style=\"text-align: right;\">\n",
       "      <th></th>\n",
       "      <th>cat1</th>\n",
       "      <th>cat2</th>\n",
       "      <th>cat3</th>\n",
       "      <th>area</th>\n",
       "      <th>PSAE</th>\n",
       "    </tr>\n",
       "  </thead>\n",
       "  <tbody>\n",
       "    <tr>\n",
       "      <th>491</th>\n",
       "      <td>3...5</td>\n",
       "      <td>-</td>\n",
       "      <td>6.or.more.people</td>\n",
       "      <td>4012</td>\n",
       "      <td>1.377269</td>\n",
       "    </tr>\n",
       "    <tr>\n",
       "      <th>1635</th>\n",
       "      <td>15...17</td>\n",
       "      <td>-</td>\n",
       "      <td>6.or.more.people</td>\n",
       "      <td>4012</td>\n",
       "      <td>1.376122</td>\n",
       "    </tr>\n",
       "    <tr>\n",
       "      <th>459</th>\n",
       "      <td>Under.3</td>\n",
       "      <td>-</td>\n",
       "      <td>6.or.more.people</td>\n",
       "      <td>4012</td>\n",
       "      <td>1.375121</td>\n",
       "    </tr>\n",
       "    <tr>\n",
       "      <th>1131</th>\n",
       "      <td>25...29</td>\n",
       "      <td>-</td>\n",
       "      <td>6.or.more.people</td>\n",
       "      <td>4012</td>\n",
       "      <td>1.365318</td>\n",
       "    </tr>\n",
       "    <tr>\n",
       "      <th>839</th>\n",
       "      <td>6...14</td>\n",
       "      <td>-</td>\n",
       "      <td>6.or.more.people</td>\n",
       "      <td>4012</td>\n",
       "      <td>1.364736</td>\n",
       "    </tr>\n",
       "  </tbody>\n",
       "</table>\n",
       "</div>"
      ],
      "text/plain": [
       "         cat1 cat2              cat3  area      PSAE\n",
       "491     3...5    -  6.or.more.people  4012  1.377269\n",
       "1635  15...17    -  6.or.more.people  4012  1.376122\n",
       "459   Under.3    -  6.or.more.people  4012  1.375121\n",
       "1131  25...29    -  6.or.more.people  4012  1.365318\n",
       "839    6...14    -  6.or.more.people  4012  1.364736"
      ]
     },
     "execution_count": 75,
     "metadata": {},
     "output_type": "execute_result"
    }
   ],
   "source": [
    "result_pop.head()"
   ]
  },
  {
   "cell_type": "code",
   "execution_count": null,
   "metadata": {
    "collapsed": false
   },
   "outputs": [],
   "source": []
  },
  {
   "cell_type": "code",
   "execution_count": null,
   "metadata": {
    "collapsed": true
   },
   "outputs": [],
   "source": []
  }
 ],
 "metadata": {
  "kernelspec": {
   "display_name": "Python 3",
   "language": "python",
   "name": "python3"
  },
  "language_info": {
   "codemirror_mode": {
    "name": "ipython",
    "version": 3
   },
   "file_extension": ".py",
   "mimetype": "text/x-python",
   "name": "python",
   "nbconvert_exporter": "python",
   "pygments_lexer": "ipython3",
   "version": "3.4.3"
  }
 },
 "nbformat": 4,
 "nbformat_minor": 0
}
