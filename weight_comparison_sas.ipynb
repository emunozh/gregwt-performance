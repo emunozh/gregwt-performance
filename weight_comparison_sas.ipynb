{
 "metadata": {
  "gist_id": "29b31bc74c613c0bff47",
  "hide_input": false,
  "name": "",
  "signature": "sha256:4954736301ba4f7fe32f572dbde7d3cea5236a91cf2ce4b5bb7ae05c9bcccbad"
 },
 "nbformat": 3,
 "nbformat_minor": 0,
 "worksheets": [
  {
   "cells": [
    {
     "cell_type": "markdown",
     "metadata": {
      "slideshow": {
       "slide_type": "slide"
      }
     },
     "source": [
      "# Performance of the GREGWT algorithm\n",
      "\n",
      "M. Esteban Mu\u00f1oz H. <marcelo.hidalgo@hcu-hamburg.de>\n",
      "\n",
      "HafenCity Universit\u00e4t \u2013 Infrastrukturplanung und Stadttechnik"
     ]
    },
    {
     "cell_type": "markdown",
     "metadata": {
      "slideshow": {
       "slide_type": "fragment"
      }
     },
     "source": [
      "#Table of Contents\n",
      "* [1. The data used to comparte the performance of the GREGWT algorithm](#1.-The-data-used-to-comparte-the-performance-of-the-GREGWT-algorithm)\n",
      "\t* [1.1 Input data](#1.1-Input-data)\n",
      "\t\t* [1.1.1 The micro census data](#1.1.1-The-micro-census-data)\n",
      "\t\t* [1.1.2 The census data](#1.1.2-The-census-data)\n",
      "\t* [1.2 Simulation results](#1.2-Simulation-results)\n",
      "* [2. Total Absolute Error](#2.-Total-Absolute-Error)\n",
      "\t* [2.1 Comparison of marginal totals between implementations](#2.1-Comparison-of-marginal-totals-between-implementations)\n",
      "\t* [2.2 Comparison of marginal totals between simulations and census data (TAE)](#2.2-Comparison-of-marginal-totals-between-simulations-and-census-data-%28TAE%29)\n",
      "\t* [2.3 Total absolute error of the R and SAS implementations](#2.3-Total-absolute-error-of-the-R-and-SAS-implementations)\n",
      "\t\t* [2.3.1 Total absolute error $TAE$ of the individual constrains for the diffrent simulations](#2.3.1-Total-absolute-error-$TAE$-of-the-individual-constrains-for-the-diffrent-simulations)\n",
      "\t\t* [2.3.2 Sum of the total absolute error $TAE$ for all simulation areas](#2.3.2-Sum-of-the-total-absolute-error-$TAE$-for-all-simulation-areas)\n",
      "* [3. Percentage Absolute Error](#3.-Percentage-Absolute-Error)\n",
      "\t* [3.1 Percentage absolute error $PSAE$ for the different simulations](#3.1-Percentage-absolute-error-$PSAE$-for-the-different-simulations)\n",
      "\t* [3.2 Comparison of the sum of the percentage absolute error $PSAE$](#3.2-Comparison-of-the-sum-of-the-percentage-absolute-error-$PSAE$)\n",
      "* [4. Comparison of used categories](#4.-Comparison-of-used-categories)\n"
     ]
    },
    {
     "cell_type": "heading",
     "level": 1,
     "metadata": {
      "slideshow": {
       "slide_type": "slide"
      }
     },
     "source": [
      "1. The data used to comparte the performance of the GREGWT algorithm"
     ]
    },
    {
     "cell_type": "markdown",
     "metadata": {
      "slideshow": {
       "slide_type": "fragment"
      }
     },
     "source": [
      "For this comparison I use two datasets, both datasets are the result from a simulation with the same input data. Both datasets represent the estimated new weights for 4 small areas using:\n",
      "\n",
      "1. An implementation of the GREGWT algorithm in he **SAS** language; and\n",
      "2. An implementation of the GREGWT algorithm in the **R** language.\n",
      "\n",
      "First I compare the resulting weights from both datasets and in a second step I compare the Total Absolute Error $TAE$ and the Percentage Absolute Error $PSAE$."
     ]
    },
    {
     "cell_type": "code",
     "collapsed": false,
     "input": [
      "# load some libraries\n",
      "import pandas as pd # library for data analysis\n",
      "#import seaborn as sns # statistical graphics in Python\n",
      "import matplotlib.pyplot as plt\n",
      "import numpy as np\n",
      "%matplotlib inline"
     ],
     "language": "python",
     "metadata": {
      "format": "row",
      "slideshow": {
       "slide_type": "skip"
      }
     },
     "outputs": [],
     "prompt_number": 487
    },
    {
     "cell_type": "heading",
     "level": 2,
     "metadata": {
      "slideshow": {
       "slide_type": "slide"
      }
     },
     "source": [
      "1.1 Input data"
     ]
    },
    {
     "cell_type": "markdown",
     "metadata": {
      "slideshow": {
       "slide_type": "fragment"
      }
     },
     "source": [
      "The input data consists of two datasets:\n",
      "\n",
      "1. A individual level survey; and\n",
      "2. Census records available at a district level, which correspond to the \"Nomenclature of Territorial Units for Statistics\" 3 **(NUTS 3)** aggregation level."
     ]
    },
    {
     "cell_type": "heading",
     "level": 3,
     "metadata": {
      "slideshow": {
       "slide_type": "fragment"
      }
     },
     "source": [
      "1.1.1 The micro census data"
     ]
    },
    {
     "cell_type": "code",
     "collapsed": false,
     "input": [
      "survey = pd.read_csv(\"./Mikrozensus-2010-cat.csv\", index_col=0)\n",
      "col = survey.columns\n",
      "for c in col: survey[c] = survey[c].astype('category')"
     ],
     "language": "python",
     "metadata": {
      "format": "row",
      "slideshow": {
       "slide_type": "skip"
      }
     },
     "outputs": [],
     "prompt_number": 488
    },
    {
     "cell_type": "code",
     "collapsed": false,
     "input": [
      "survey.head()"
     ],
     "language": "python",
     "metadata": {
      "slideshow": {
       "slide_type": "fragment"
      }
     },
     "outputs": [
      {
       "html": [
        "<div style=\"max-height:1000px;max-width:1500px;overflow:auto;\">\n",
        "<table border=\"1\" class=\"dataframe\">\n",
        "  <thead>\n",
        "    <tr style=\"text-align: right;\">\n",
        "      <th></th>\n",
        "      <th>Age</th>\n",
        "      <th>Marital.Status</th>\n",
        "      <th>Household.Size</th>\n",
        "      <th>Heat.Expenditure</th>\n",
        "      <th>Weights</th>\n",
        "    </tr>\n",
        "  </thead>\n",
        "  <tbody>\n",
        "    <tr>\n",
        "      <th>1</th>\n",
        "      <td>     65...74</td>\n",
        "      <td> Divorced</td>\n",
        "      <td>  1.person</td>\n",
        "      <td> NaN</td>\n",
        "      <td>  90,173</td>\n",
        "    </tr>\n",
        "    <tr>\n",
        "      <th>2</th>\n",
        "      <td>     40...49</td>\n",
        "      <td>  Married</td>\n",
        "      <td> 4.persons</td>\n",
        "      <td> NaN</td>\n",
        "      <td> 119,987</td>\n",
        "    </tr>\n",
        "    <tr>\n",
        "      <th>3</th>\n",
        "      <td>     40...49</td>\n",
        "      <td>  Married</td>\n",
        "      <td> 4.persons</td>\n",
        "      <td> NaN</td>\n",
        "      <td> 119,987</td>\n",
        "    </tr>\n",
        "    <tr>\n",
        "      <th>4</th>\n",
        "      <td>     18...24</td>\n",
        "      <td>   Single</td>\n",
        "      <td> 4.persons</td>\n",
        "      <td> NaN</td>\n",
        "      <td> 119,987</td>\n",
        "    </tr>\n",
        "    <tr>\n",
        "      <th>5</th>\n",
        "      <td> 75.and.over</td>\n",
        "      <td>  Widowed</td>\n",
        "      <td> 4.persons</td>\n",
        "      <td> NaN</td>\n",
        "      <td> 119,987</td>\n",
        "    </tr>\n",
        "  </tbody>\n",
        "</table>\n",
        "</div>"
       ],
       "metadata": {},
       "output_type": "pyout",
       "prompt_number": 489,
       "text": [
        "           Age Marital.Status Household.Size Heat.Expenditure  Weights\n",
        "1      65...74       Divorced       1.person              NaN   90,173\n",
        "2      40...49        Married      4.persons              NaN  119,987\n",
        "3      40...49        Married      4.persons              NaN  119,987\n",
        "4      18...24         Single      4.persons              NaN  119,987\n",
        "5  75.and.over        Widowed      4.persons              NaN  119,987"
       ]
      }
     ],
     "prompt_number": 489
    },
    {
     "cell_type": "markdown",
     "metadata": {
      "slideshow": {
       "slide_type": "skip"
      }
     },
     "source": [
      "**Table 1:** Description of the used survey data"
     ]
    },
    {
     "cell_type": "markdown",
     "metadata": {
      "slideshow": {
       "slide_type": "fragment"
      }
     },
     "source": [
      "This survey data contains $23374$ records and corresponds to the $3\\%$ of the official micro census data for scientific use ($1\\%$ of the total German population). This data set represents $0.03\\%$ of the German population. The file can be downloaded from [here](http://www.forschungsdatenzentrum.de/bestand/mikrozensus/cf/2002/) the official page of the German statistical office."
     ]
    },
    {
     "cell_type": "code",
     "collapsed": false,
     "input": [
      "categories = pd.DataFrame({\"number of ctaegories\": [len(survey[col].cat.categories) for col in survey.columns],\n",
      "                           \"categories\": [[survey[col].cat.categories] for col in survey.columns]}, index=survey.columns)\n",
      "categories.loc[\"Weights\"] = [\"numeric\", \"/\"]"
     ],
     "language": "python",
     "metadata": {
      "format": "row",
      "slideshow": {
       "slide_type": "skip"
      }
     },
     "outputs": [],
     "prompt_number": 490
    },
    {
     "cell_type": "code",
     "collapsed": false,
     "input": [
      "categories"
     ],
     "language": "python",
     "metadata": {
      "slideshow": {
       "slide_type": "fragment"
      }
     },
     "outputs": [
      {
       "html": [
        "<div style=\"max-height:1000px;max-width:1500px;overflow:auto;\">\n",
        "<table border=\"1\" class=\"dataframe\">\n",
        "  <thead>\n",
        "    <tr style=\"text-align: right;\">\n",
        "      <th></th>\n",
        "      <th>categories</th>\n",
        "      <th>number of ctaegories</th>\n",
        "    </tr>\n",
        "  </thead>\n",
        "  <tbody>\n",
        "    <tr>\n",
        "      <th>Age</th>\n",
        "      <td> [[15...17, 18...24, 25...29, 3...5, 30...39, 4...</td>\n",
        "      <td> 11</td>\n",
        "    </tr>\n",
        "    <tr>\n",
        "      <th>Marital.Status</th>\n",
        "      <td> [[Civil.union.terminated, Divorced, Married, P...</td>\n",
        "      <td>  6</td>\n",
        "    </tr>\n",
        "    <tr>\n",
        "      <th>Household.Size</th>\n",
        "      <td> [[1.person, 2.persons, 3.persons, 4.persons, 5...</td>\n",
        "      <td>  6</td>\n",
        "    </tr>\n",
        "    <tr>\n",
        "      <th>Heat.Expenditure</th>\n",
        "      <td> [[100...150, 150...200, 200...300, 300...400, ...</td>\n",
        "      <td>  6</td>\n",
        "    </tr>\n",
        "    <tr>\n",
        "      <th>Weights</th>\n",
        "      <td>                                           numeric</td>\n",
        "      <td>  /</td>\n",
        "    </tr>\n",
        "  </tbody>\n",
        "</table>\n",
        "</div>"
       ],
       "metadata": {},
       "output_type": "pyout",
       "prompt_number": 491,
       "text": [
        "                                                         categories  \\\n",
        "Age               [[15...17, 18...24, 25...29, 3...5, 30...39, 4...   \n",
        "Marital.Status    [[Civil.union.terminated, Divorced, Married, P...   \n",
        "Household.Size    [[1.person, 2.persons, 3.persons, 4.persons, 5...   \n",
        "Heat.Expenditure  [[100...150, 150...200, 200...300, 300...400, ...   \n",
        "Weights                                                     numeric   \n",
        "\n",
        "                 number of ctaegories  \n",
        "Age                                11  \n",
        "Marital.Status                      6  \n",
        "Household.Size                      6  \n",
        "Heat.Expenditure                    6  \n",
        "Weights                             /  "
       ]
      }
     ],
     "prompt_number": 491
    },
    {
     "cell_type": "markdown",
     "metadata": {
      "slideshow": {
       "slide_type": "skip"
      }
     },
     "source": [
      "**Table 2:** Number of categories of the survey variables"
     ]
    },
    {
     "cell_type": "heading",
     "level": 3,
     "metadata": {
      "slideshow": {
       "slide_type": "slide"
      }
     },
     "source": [
      "1.1.2 The census data"
     ]
    },
    {
     "cell_type": "code",
     "collapsed": false,
     "input": [
      "census = pd.read_csv(\"./Zensus-2011-clean.csv\", index_col=\"Area.Code\")\n",
      "census = census.drop('Unnamed: 0', 1)\n",
      "census = census.loc[[2, 11, 4011, 4012]]\n",
      "total_pop = pd.read_csv(\"./total_pop.csv\", index_col=\"Area.ID\")\n",
      "total_pop = total_pop.drop('Unnamed: 0', 1)\n",
      "total_pop = total_pop.loc[[2, 11, 4011, 4012]]\n",
      "total_pop.columns = [\"pop\"]\n",
      "census = pd.merge(census, total_pop, left_index=True, right_index=True)"
     ],
     "language": "python",
     "metadata": {
      "format": "row",
      "slideshow": {
       "slide_type": "skip"
      }
     },
     "outputs": [],
     "prompt_number": 492
    },
    {
     "cell_type": "code",
     "collapsed": false,
     "input": [
      "census"
     ],
     "language": "python",
     "metadata": {
      "slideshow": {
       "slide_type": "fragment"
      }
     },
     "outputs": [
      {
       "html": [
        "<div style=\"max-height:1000px;max-width:1500px;overflow:auto;\">\n",
        "<table border=\"1\" class=\"dataframe\">\n",
        "  <thead>\n",
        "    <tr style=\"text-align: right;\">\n",
        "      <th></th>\n",
        "      <th>Under.3</th>\n",
        "      <th>3...5</th>\n",
        "      <th>6...14</th>\n",
        "      <th>15...17</th>\n",
        "      <th>18...24</th>\n",
        "      <th>25...29</th>\n",
        "      <th>30...39</th>\n",
        "      <th>40...49</th>\n",
        "      <th>50...64</th>\n",
        "      <th>65...74</th>\n",
        "      <th>...</th>\n",
        "      <th>Divorced</th>\n",
        "      <th>Party.to.a.civil.union</th>\n",
        "      <th>Civil.union.terminated</th>\n",
        "      <th>1.person</th>\n",
        "      <th>2.persons</th>\n",
        "      <th>3.persons</th>\n",
        "      <th>4.persons</th>\n",
        "      <th>5.persons</th>\n",
        "      <th>6.or.more.people</th>\n",
        "      <th>pop</th>\n",
        "    </tr>\n",
        "    <tr>\n",
        "      <th>Area.Code</th>\n",
        "      <th></th>\n",
        "      <th></th>\n",
        "      <th></th>\n",
        "      <th></th>\n",
        "      <th></th>\n",
        "      <th></th>\n",
        "      <th></th>\n",
        "      <th></th>\n",
        "      <th></th>\n",
        "      <th></th>\n",
        "      <th></th>\n",
        "      <th></th>\n",
        "      <th></th>\n",
        "      <th></th>\n",
        "      <th></th>\n",
        "      <th></th>\n",
        "      <th></th>\n",
        "      <th></th>\n",
        "      <th></th>\n",
        "      <th></th>\n",
        "      <th></th>\n",
        "    </tr>\n",
        "  </thead>\n",
        "  <tbody>\n",
        "    <tr>\n",
        "      <th>2   </th>\n",
        "      <td> 47757</td>\n",
        "      <td> 45575</td>\n",
        "      <td> 132476</td>\n",
        "      <td> 42239</td>\n",
        "      <td> 138325</td>\n",
        "      <td> 136313</td>\n",
        "      <td> 258238</td>\n",
        "      <td> 280671</td>\n",
        "      <td> 301189</td>\n",
        "      <td> 178471</td>\n",
        "      <td>...</td>\n",
        "      <td> 143354</td>\n",
        "      <td> 3353</td>\n",
        "      <td> 412</td>\n",
        "      <td> 400440</td>\n",
        "      <td>  528441</td>\n",
        "      <td> 303930</td>\n",
        "      <td> 264486</td>\n",
        "      <td> 103963</td>\n",
        "      <td>  67650</td>\n",
        "      <td> 1706696</td>\n",
        "    </tr>\n",
        "    <tr>\n",
        "      <th>11  </th>\n",
        "      <td> 94867</td>\n",
        "      <td> 86753</td>\n",
        "      <td> 239171</td>\n",
        "      <td> 73592</td>\n",
        "      <td> 271412</td>\n",
        "      <td> 263554</td>\n",
        "      <td> 464285</td>\n",
        "      <td> 539688</td>\n",
        "      <td> 624691</td>\n",
        "      <td> 376088</td>\n",
        "      <td>...</td>\n",
        "      <td> 333989</td>\n",
        "      <td> 8709</td>\n",
        "      <td> 930</td>\n",
        "      <td> 860542</td>\n",
        "      <td> 1092332</td>\n",
        "      <td> 582501</td>\n",
        "      <td> 427341</td>\n",
        "      <td> 163306</td>\n",
        "      <td> 119185</td>\n",
        "      <td> 3292365</td>\n",
        "    </tr>\n",
        "    <tr>\n",
        "      <th>4011</th>\n",
        "      <td> 12996</td>\n",
        "      <td> 12714</td>\n",
        "      <td>  41156</td>\n",
        "      <td> 14431</td>\n",
        "      <td>  49366</td>\n",
        "      <td>  39910</td>\n",
        "      <td>  68692</td>\n",
        "      <td>  85587</td>\n",
        "      <td> 104168</td>\n",
        "      <td>  62164</td>\n",
        "      <td>...</td>\n",
        "      <td>  48267</td>\n",
        "      <td>  795</td>\n",
        "      <td>  60</td>\n",
        "      <td> 121056</td>\n",
        "      <td>  172867</td>\n",
        "      <td>  98675</td>\n",
        "      <td>  84504</td>\n",
        "      <td>  33651</td>\n",
        "      <td>  22602</td>\n",
        "      <td>  542707</td>\n",
        "    </tr>\n",
        "    <tr>\n",
        "      <th>4012</th>\n",
        "      <td>  2643</td>\n",
        "      <td>  2822</td>\n",
        "      <td>   8919</td>\n",
        "      <td>  3199</td>\n",
        "      <td>   9296</td>\n",
        "      <td>   6757</td>\n",
        "      <td>  12021</td>\n",
        "      <td>  16093</td>\n",
        "      <td>  22277</td>\n",
        "      <td>  13100</td>\n",
        "      <td>...</td>\n",
        "      <td>   9723</td>\n",
        "      <td>   89</td>\n",
        "      <td>  15</td>\n",
        "      <td>  26444</td>\n",
        "      <td>   34910</td>\n",
        "      <td>  18396</td>\n",
        "      <td>  15138</td>\n",
        "      <td>   6721</td>\n",
        "      <td>   4994</td>\n",
        "      <td>  108156</td>\n",
        "    </tr>\n",
        "  </tbody>\n",
        "</table>\n",
        "<p>4 rows \u00d7 24 columns</p>\n",
        "</div>"
       ],
       "metadata": {},
       "output_type": "pyout",
       "prompt_number": 493,
       "text": [
        "           Under.3  3...5  6...14  15...17  18...24  25...29  30...39  \\\n",
        "Area.Code                                                               \n",
        "2            47757  45575  132476    42239   138325   136313   258238   \n",
        "11           94867  86753  239171    73592   271412   263554   464285   \n",
        "4011         12996  12714   41156    14431    49366    39910    68692   \n",
        "4012          2643   2822    8919     3199     9296     6757    12021   \n",
        "\n",
        "           40...49  50...64  65...74   ...     Divorced  \\\n",
        "Area.Code                              ...                \n",
        "2           280671   301189   178471   ...       143354   \n",
        "11          539688   624691   376088   ...       333989   \n",
        "4011         85587   104168    62164   ...        48267   \n",
        "4012         16093    22277    13100   ...         9723   \n",
        "\n",
        "           Party.to.a.civil.union  Civil.union.terminated  1.person  \\\n",
        "Area.Code                                                             \n",
        "2                            3353                     412    400440   \n",
        "11                           8709                     930    860542   \n",
        "4011                          795                      60    121056   \n",
        "4012                           89                      15     26444   \n",
        "\n",
        "           2.persons  3.persons  4.persons  5.persons  6.or.more.people  \\\n",
        "Area.Code                                                                 \n",
        "2             528441     303930     264486     103963             67650   \n",
        "11           1092332     582501     427341     163306            119185   \n",
        "4011          172867      98675      84504      33651             22602   \n",
        "4012           34910      18396      15138       6721              4994   \n",
        "\n",
        "               pop  \n",
        "Area.Code           \n",
        "2          1706696  \n",
        "11         3292365  \n",
        "4011        542707  \n",
        "4012        108156  \n",
        "\n",
        "[4 rows x 24 columns]"
       ]
      }
     ],
     "prompt_number": 493
    },
    {
     "cell_type": "markdown",
     "metadata": {
      "slideshow": {
       "slide_type": "skip"
      }
     },
     "source": [
      "**Table 3:** Description of the census data"
     ]
    },
    {
     "cell_type": "markdown",
     "metadata": {
      "slideshow": {
       "slide_type": "fragment"
      }
     },
     "source": [
      "The census data listed above comes from the census 2011 and can be access [here](https://ergebnisse.zensus2011.de/). All the results from the census can be access through the web portal. Unfortunately there is no API to access the data remotely."
     ]
    },
    {
     "cell_type": "heading",
     "level": 2,
     "metadata": {
      "slideshow": {
       "slide_type": "slide"
      }
     },
     "source": [
      "1.2 Simulation results"
     ]
    },
    {
     "cell_type": "code",
     "collapsed": false,
     "input": [
      "rgwData = pd.read_csv(\"./Simulation-Result-weights10.csv\", index_col=0)\n",
      "ipfData = pd.read_csv(\"./Simulation-Result-ipf.csv\", index_col=0)\n",
      "#rgwData = pd.read_csv(\"./Simulation-Result-ipf.csv\", index_col=0)\n",
      "#sasData = pd.read_csv(\"./areawts_150206_wpopmin1class.csv\",index_col=\"Pers_ID\", usecols=[0,2,3,4,5])\n",
      "sasData = pd.read_csv(\"./areawts_150206_withpop.csv\",index_col=\"Pers_ID\", usecols=[0,2,3,4,5])\n",
      "#sasData = pd.read_csv(\"./areawts_150119.csv\",index_col=\"Pers_ID\", usecols=[0,2,3,4,5])"
     ],
     "language": "python",
     "metadata": {
      "format": "row",
      "slideshow": {
       "slide_type": "skip"
      }
     },
     "outputs": [],
     "prompt_number": 494
    },
    {
     "cell_type": "code",
     "collapsed": false,
     "input": [
      "plot_data = pd.merge(rgwData, sasData, left_index=True, right_index=True)\n",
      "plot_data = pd.merge(plot_data, ipfData, left_index=True, right_index=True)\n",
      "plot_data.columns = ['Weights R area 02',   'Weights R area 11',   'Weights R area 4011',   'Weights R area 4012',\n",
      "                     'Weights SAS area 02', 'Weights SAS area 11', 'Weights SAS area 4011', 'Weights SAS area 4012',\n",
      "                     'Weights IPF area 02', 'Weights IPF area 11', 'Weights IPF area 4011', 'Weights IPF area 4012']"
     ],
     "language": "python",
     "metadata": {
      "format": "row",
      "slideshow": {
       "slide_type": "skip"
      }
     },
     "outputs": [],
     "prompt_number": 495
    },
    {
     "cell_type": "code",
     "collapsed": false,
     "input": [
      "#plot_data.to_csv(\"results_merged.csv\")"
     ],
     "language": "python",
     "metadata": {},
     "outputs": [],
     "prompt_number": 496
    },
    {
     "cell_type": "code",
     "collapsed": false,
     "input": [
      "plot_data.head()"
     ],
     "language": "python",
     "metadata": {
      "slideshow": {
       "slide_type": "fragment"
      }
     },
     "outputs": [
      {
       "html": [
        "<div style=\"max-height:1000px;max-width:1500px;overflow:auto;\">\n",
        "<table border=\"1\" class=\"dataframe\">\n",
        "  <thead>\n",
        "    <tr style=\"text-align: right;\">\n",
        "      <th></th>\n",
        "      <th>Weights R area 02</th>\n",
        "      <th>Weights R area 11</th>\n",
        "      <th>Weights R area 4011</th>\n",
        "      <th>Weights R area 4012</th>\n",
        "      <th>Weights SAS area 02</th>\n",
        "      <th>Weights SAS area 11</th>\n",
        "      <th>Weights SAS area 4011</th>\n",
        "      <th>Weights SAS area 4012</th>\n",
        "      <th>Weights IPF area 02</th>\n",
        "      <th>Weights IPF area 11</th>\n",
        "      <th>Weights IPF area 4011</th>\n",
        "      <th>Weights IPF area 4012</th>\n",
        "    </tr>\n",
        "  </thead>\n",
        "  <tbody>\n",
        "    <tr>\n",
        "      <th>1</th>\n",
        "      <td> 71.964654</td>\n",
        "      <td> 174.246312</td>\n",
        "      <td> 24.696504</td>\n",
        "      <td> 5.330501</td>\n",
        "      <td> 80.044798</td>\n",
        "      <td> 193.978284</td>\n",
        "      <td> 27.521232</td>\n",
        "      <td> 5.924388</td>\n",
        "      <td> 71.272948</td>\n",
        "      <td> 177.431251</td>\n",
        "      <td> 24.878947</td>\n",
        "      <td> 5.451596</td>\n",
        "    </tr>\n",
        "    <tr>\n",
        "      <th>2</th>\n",
        "      <td> 54.174542</td>\n",
        "      <td>  78.532175</td>\n",
        "      <td> 17.784643</td>\n",
        "      <td> 3.126721</td>\n",
        "      <td> 59.225051</td>\n",
        "      <td>  85.854515</td>\n",
        "      <td> 19.455628</td>\n",
        "      <td> 3.428113</td>\n",
        "      <td> 55.371379</td>\n",
        "      <td>  84.112119</td>\n",
        "      <td> 17.952550</td>\n",
        "      <td> 3.246963</td>\n",
        "    </tr>\n",
        "    <tr>\n",
        "      <th>3</th>\n",
        "      <td> 54.174542</td>\n",
        "      <td>  78.532175</td>\n",
        "      <td> 17.784643</td>\n",
        "      <td> 3.126721</td>\n",
        "      <td> 59.225051</td>\n",
        "      <td>  85.854515</td>\n",
        "      <td> 19.455628</td>\n",
        "      <td> 3.428113</td>\n",
        "      <td> 55.371379</td>\n",
        "      <td>  84.112119</td>\n",
        "      <td> 17.952550</td>\n",
        "      <td> 3.246963</td>\n",
        "    </tr>\n",
        "    <tr>\n",
        "      <th>4</th>\n",
        "      <td> 69.697463</td>\n",
        "      <td> 119.098206</td>\n",
        "      <td> 26.663252</td>\n",
        "      <td> 4.018814</td>\n",
        "      <td> 76.039523</td>\n",
        "      <td> 129.819182</td>\n",
        "      <td> 28.986772</td>\n",
        "      <td> 4.359163</td>\n",
        "      <td> 68.366582</td>\n",
        "      <td> 114.421420</td>\n",
        "      <td> 25.979178</td>\n",
        "      <td> 3.941975</td>\n",
        "    </tr>\n",
        "    <tr>\n",
        "      <th>5</th>\n",
        "      <td> 62.729243</td>\n",
        "      <td>  83.635922</td>\n",
        "      <td> 29.325355</td>\n",
        "      <td> 4.797551</td>\n",
        "      <td> 70.084494</td>\n",
        "      <td>  93.172527</td>\n",
        "      <td> 32.312744</td>\n",
        "      <td> 5.349921</td>\n",
        "      <td> 62.671762</td>\n",
        "      <td>  90.585203</td>\n",
        "      <td> 28.938756</td>\n",
        "      <td> 4.511980</td>\n",
        "    </tr>\n",
        "  </tbody>\n",
        "</table>\n",
        "</div>"
       ],
       "metadata": {},
       "output_type": "pyout",
       "prompt_number": 497,
       "text": [
        "   Weights R area 02  Weights R area 11  Weights R area 4011  \\\n",
        "1          71.964654         174.246312            24.696504   \n",
        "2          54.174542          78.532175            17.784643   \n",
        "3          54.174542          78.532175            17.784643   \n",
        "4          69.697463         119.098206            26.663252   \n",
        "5          62.729243          83.635922            29.325355   \n",
        "\n",
        "   Weights R area 4012  Weights SAS area 02  Weights SAS area 11  \\\n",
        "1             5.330501            80.044798           193.978284   \n",
        "2             3.126721            59.225051            85.854515   \n",
        "3             3.126721            59.225051            85.854515   \n",
        "4             4.018814            76.039523           129.819182   \n",
        "5             4.797551            70.084494            93.172527   \n",
        "\n",
        "   Weights SAS area 4011  Weights SAS area 4012  Weights IPF area 02  \\\n",
        "1              27.521232               5.924388            71.272948   \n",
        "2              19.455628               3.428113            55.371379   \n",
        "3              19.455628               3.428113            55.371379   \n",
        "4              28.986772               4.359163            68.366582   \n",
        "5              32.312744               5.349921            62.671762   \n",
        "\n",
        "   Weights IPF area 11  Weights IPF area 4011  Weights IPF area 4012  \n",
        "1           177.431251              24.878947               5.451596  \n",
        "2            84.112119              17.952550               3.246963  \n",
        "3            84.112119              17.952550               3.246963  \n",
        "4           114.421420              25.979178               3.941975  \n",
        "5            90.585203              28.938756               4.511980  "
       ]
      }
     ],
     "prompt_number": 497
    },
    {
     "cell_type": "markdown",
     "metadata": {
      "slideshow": {
       "slide_type": "skip"
      }
     },
     "source": [
      "**Table 4:** Merged data for comparison"
     ]
    },
    {
     "cell_type": "code",
     "collapsed": false,
     "input": [
      "fig, [ax1, ax2, ax3] = plt.subplots(nrows=1, ncols=3, figsize=(16,6), sharey=True)\n",
      "plot_data.plot(kind=\"scatter\", x=\"Weights SAS area 02\", y=\"Weights R area 02\", ax=ax1)\n",
      "x1 = np.arange(min(plot_data[\"Weights SAS area 02\"]), max(plot_data[\"Weights SAS area 02\"]), 10)\n",
      "ax1.plot(x1, x1, linestyle='--', color=\"red\", linewidth=1)\n",
      "ax1.text(0.05, 0.92, \"(a)\", fontsize=16, transform = ax1.transAxes)\n",
      "plot_data.plot(kind=\"scatter\", x=\"Weights SAS area 02\", y=\"Weights IPF area 02\", ax=ax2)\n",
      "x2 = np.arange(min(plot_data[\"Weights SAS area 02\"]), max(plot_data[\"Weights SAS area 02\"]), 10)\n",
      "ax2.plot(x, x, linestyle='--', color=\"red\", linewidth=1)\n",
      "ax2.text(0.05, 0.92, \"(b)\", fontsize=16, transform = ax2.transAxes)\n",
      "plot_data.plot(kind=\"scatter\", x=\"Weights IPF area 02\", y=\"Weights R area 02\", ax=ax3)\n",
      "x3 = np.arange(min(plot_data[\"Weights SAS area 02\"]), max(plot_data[\"Weights SAS area 02\"]), 10)\n",
      "ax3.plot(x3, x3, linestyle='--', color=\"red\", linewidth=1)\n",
      "ax3.text(0.05, 0.92, \"(c)\", fontsize=16, transform = ax3.transAxes)\n",
      "ax2.set_title('Comparison of weights for simulation area 02');"
     ],
     "language": "python",
     "metadata": {},
     "outputs": [
      {
       "metadata": {},
       "output_type": "display_data",
       "png": "[encoded data removed]",
       "text": [
        "<matplotlib.figure.Figure at 0x7ffcfc0e50f0>"
       ]
      }
     ],
     "prompt_number": 498
    },
    {
     "cell_type": "markdown",
     "metadata": {
      "slideshow": {
       "slide_type": "skip"
      }
     },
     "source": [
      "**Figure 1:** Comparison between estimated weights of the GREGWT **SAS** and **R** implementations and **IPF** for simulation area 02."
     ]
    },
    {
     "cell_type": "heading",
     "level": 1,
     "metadata": {
      "slideshow": {
       "slide_type": "slide"
      }
     },
     "source": [
      "2. Total Absolute Error"
     ]
    },
    {
     "cell_type": "markdown",
     "metadata": {
      "slideshow": {
       "slide_type": "fragment"
      }
     },
     "source": [
      "This measure is commonly used for the internal validation of spatial microsimulation models. The total absolute error measures the absolute difference between benchmark totals of small areas and estimated marginal totals for the same area. Ideally this measure is close to 0."
     ]
    },
    {
     "cell_type": "markdown",
     "metadata": {
      "slideshow": {
       "slide_type": "fragment"
      }
     },
     "source": [
      "$$\n",
      "\\begin{equation}\n",
      "    TAE = \\sum_i^n |Tx - \\hat{t}x|\n",
      "\\end{equation}\n",
      "$$"
     ]
    },
    {
     "cell_type": "code",
     "collapsed": false,
     "input": [
      "area_codes = [\"02\", \"11\", \"4011\", \"4012\"]"
     ],
     "language": "python",
     "metadata": {},
     "outputs": [],
     "prompt_number": 499
    },
    {
     "cell_type": "code",
     "collapsed": false,
     "input": [
      "cat_index = []\n",
      "for col in [\"Age\", \"Marital.Status\", \"Household.Size\"]:\n",
      "    cat_index.extend(survey[col].cat.categories)\n",
      "cat_index.extend([\"pop\"])"
     ],
     "language": "python",
     "metadata": {
      "slideshow": {
       "slide_type": "skip"
      }
     },
     "outputs": [],
     "prompt_number": 500
    },
    {
     "cell_type": "code",
     "collapsed": false,
     "input": [
      "TAE = pd.DataFrame(index=cat_index)\n",
      "for language in [\"R\", \"SAS\", \"IPF\"]:\n",
      "    for area in area_codes:\n",
      "        dat = dict()\n",
      "        for col in [\"Age\", \"Marital.Status\", \"Household.Size\"]:\n",
      "            for cat in survey[col].cat.categories:\n",
      "                mar_sum = sum(plot_data[\"Weights {} area {}\".format(language, area)][survey[col] == cat])\n",
      "                dat[cat] = mar_sum\n",
      "        dat[\"pop\"] = sum(plot_data[\"Weights {} area {}\".format(language, area)])\n",
      "        dat = pd.Series(dat)\n",
      "        dat.reset_index\n",
      "        TAE[\"{} area {}\".format(language, area)] = dat\n",
      "census_dat = census.T\n",
      "census_dat.columns = area_codes\n",
      "TAE = pd.merge(TAE, census_dat, left_index=True, right_index=True)"
     ],
     "language": "python",
     "metadata": {
      "slideshow": {
       "slide_type": "skip"
      }
     },
     "outputs": [],
     "prompt_number": 501
    },
    {
     "cell_type": "code",
     "collapsed": false,
     "input": [
      "TAE.head()"
     ],
     "language": "python",
     "metadata": {
      "slideshow": {
       "slide_type": "fragment"
      }
     },
     "outputs": [
      {
       "html": [
        "<div style=\"max-height:1000px;max-width:1500px;overflow:auto;\">\n",
        "<table border=\"1\" class=\"dataframe\">\n",
        "  <thead>\n",
        "    <tr style=\"text-align: right;\">\n",
        "      <th></th>\n",
        "      <th>R area 02</th>\n",
        "      <th>R area 11</th>\n",
        "      <th>R area 4011</th>\n",
        "      <th>R area 4012</th>\n",
        "      <th>SAS area 02</th>\n",
        "      <th>SAS area 11</th>\n",
        "      <th>SAS area 4011</th>\n",
        "      <th>SAS area 4012</th>\n",
        "      <th>IPF area 02</th>\n",
        "      <th>IPF area 11</th>\n",
        "      <th>IPF area 4011</th>\n",
        "      <th>IPF area 4012</th>\n",
        "      <th>02</th>\n",
        "      <th>11</th>\n",
        "      <th>4011</th>\n",
        "      <th>4012</th>\n",
        "    </tr>\n",
        "  </thead>\n",
        "  <tbody>\n",
        "    <tr>\n",
        "      <th>Under.3</th>\n",
        "      <td>  47757</td>\n",
        "      <td>  94867</td>\n",
        "      <td> 12996</td>\n",
        "      <td> 2643</td>\n",
        "      <td>  47757</td>\n",
        "      <td>  94867</td>\n",
        "      <td> 12957.647642</td>\n",
        "      <td> 2643</td>\n",
        "      <td>  47762.760375</td>\n",
        "      <td>  94888.280304</td>\n",
        "      <td> 13001.914031</td>\n",
        "      <td> 2645.444455</td>\n",
        "      <td>  47757</td>\n",
        "      <td>  94867</td>\n",
        "      <td> 12996</td>\n",
        "      <td> 2643</td>\n",
        "    </tr>\n",
        "    <tr>\n",
        "      <th>3...5</th>\n",
        "      <td>  45575</td>\n",
        "      <td>  86753</td>\n",
        "      <td> 12714</td>\n",
        "      <td> 2822</td>\n",
        "      <td>  45575</td>\n",
        "      <td>  86753</td>\n",
        "      <td> 12691.106142</td>\n",
        "      <td> 2822</td>\n",
        "      <td>  45574.841749</td>\n",
        "      <td>  86752.422617</td>\n",
        "      <td> 12713.858053</td>\n",
        "      <td> 2821.934623</td>\n",
        "      <td>  45575</td>\n",
        "      <td>  86753</td>\n",
        "      <td> 12714</td>\n",
        "      <td> 2822</td>\n",
        "    </tr>\n",
        "    <tr>\n",
        "      <th>6...14</th>\n",
        "      <td> 132476</td>\n",
        "      <td> 239171</td>\n",
        "      <td> 41156</td>\n",
        "      <td> 8919</td>\n",
        "      <td> 132476</td>\n",
        "      <td> 239171</td>\n",
        "      <td> 41199.489107</td>\n",
        "      <td> 8919</td>\n",
        "      <td> 132475.540000</td>\n",
        "      <td> 239169.408253</td>\n",
        "      <td> 41155.540508</td>\n",
        "      <td> 8918.793370</td>\n",
        "      <td> 132476</td>\n",
        "      <td> 239171</td>\n",
        "      <td> 41156</td>\n",
        "      <td> 8919</td>\n",
        "    </tr>\n",
        "    <tr>\n",
        "      <th>15...17</th>\n",
        "      <td>  42239</td>\n",
        "      <td>  73592</td>\n",
        "      <td> 14431</td>\n",
        "      <td> 3199</td>\n",
        "      <td>  42239</td>\n",
        "      <td>  73592</td>\n",
        "      <td> 14445.151112</td>\n",
        "      <td> 3199</td>\n",
        "      <td>  42238.853332</td>\n",
        "      <td>  73591.510208</td>\n",
        "      <td> 14430.838883</td>\n",
        "      <td> 3198.925890</td>\n",
        "      <td>  42239</td>\n",
        "      <td>  73592</td>\n",
        "      <td> 14431</td>\n",
        "      <td> 3199</td>\n",
        "    </tr>\n",
        "    <tr>\n",
        "      <th>18...24</th>\n",
        "      <td> 138325</td>\n",
        "      <td> 271412</td>\n",
        "      <td> 49366</td>\n",
        "      <td> 9296</td>\n",
        "      <td> 138325</td>\n",
        "      <td> 271412</td>\n",
        "      <td> 49283.971675</td>\n",
        "      <td> 9296</td>\n",
        "      <td> 138324.519691</td>\n",
        "      <td> 271410.193620</td>\n",
        "      <td> 49365.448847</td>\n",
        "      <td> 9295.784642</td>\n",
        "      <td> 138325</td>\n",
        "      <td> 271412</td>\n",
        "      <td> 49366</td>\n",
        "      <td> 9296</td>\n",
        "    </tr>\n",
        "  </tbody>\n",
        "</table>\n",
        "</div>"
       ],
       "metadata": {},
       "output_type": "pyout",
       "prompt_number": 502,
       "text": [
        "         R area 02  R area 11  R area 4011  R area 4012  SAS area 02  \\\n",
        "Under.3      47757      94867        12996         2643        47757   \n",
        "3...5        45575      86753        12714         2822        45575   \n",
        "6...14      132476     239171        41156         8919       132476   \n",
        "15...17      42239      73592        14431         3199        42239   \n",
        "18...24     138325     271412        49366         9296       138325   \n",
        "\n",
        "         SAS area 11  SAS area 4011  SAS area 4012    IPF area 02  \\\n",
        "Under.3        94867   12957.647642           2643   47762.760375   \n",
        "3...5          86753   12691.106142           2822   45574.841749   \n",
        "6...14        239171   41199.489107           8919  132475.540000   \n",
        "15...17        73592   14445.151112           3199   42238.853332   \n",
        "18...24       271412   49283.971675           9296  138324.519691   \n",
        "\n",
        "           IPF area 11  IPF area 4011  IPF area 4012      02      11   4011  \\\n",
        "Under.3   94888.280304   13001.914031    2645.444455   47757   94867  12996   \n",
        "3...5     86752.422617   12713.858053    2821.934623   45575   86753  12714   \n",
        "6...14   239169.408253   41155.540508    8918.793370  132476  239171  41156   \n",
        "15...17   73591.510208   14430.838883    3198.925890   42239   73592  14431   \n",
        "18...24  271410.193620   49365.448847    9295.784642  138325  271412  49366   \n",
        "\n",
        "         4012  \n",
        "Under.3  2643  \n",
        "3...5    2822  \n",
        "6...14   8919  \n",
        "15...17  3199  \n",
        "18...24  9296  "
       ]
      }
     ],
     "prompt_number": 502
    },
    {
     "cell_type": "markdown",
     "metadata": {
      "slideshow": {
       "slide_type": "skip"
      }
     },
     "source": [
      "**Table 5:** Total absolute error $TAE$ for all categories and areas for both the SAS macros and the R implementation"
     ]
    },
    {
     "cell_type": "heading",
     "level": 2,
     "metadata": {
      "slideshow": {
       "slide_type": "slide"
      }
     },
     "source": [
      "2.1 Comparison of marginal totals between implementations"
     ]
    },
    {
     "cell_type": "code",
     "collapsed": false,
     "input": [
      "fig, [ax1, ax2, ax3] = plt.subplots(nrows=1, ncols=3, figsize=(16,6), sharey=True)\n",
      "TAE.plot(kind=\"scatter\", x=\"SAS area 02\", y=\"R area 02\", ax = ax1)\n",
      "x1 = np.arange(min(TAE[\"SAS area 02\"]), max(TAE[\"SAS area 02\"]), 10)\n",
      "ax1.text(0.05, 0.92, \"(a)\", fontsize=16, transform = ax1.transAxes)\n",
      "ax1.plot(x1, x1, linestyle='--', color=\"red\", linewidth=1)\n",
      "TAE.plot(kind=\"scatter\", x=\"SAS area 02\", y=\"IPF area 02\", ax = ax2)\n",
      "x2 = np.arange(min(TAE[\"SAS area 02\"]), max(TAE[\"SAS area 02\"]), 10)\n",
      "ax2.plot(x2, x2, linestyle='--', color=\"red\", linewidth=1)\n",
      "ax2.text(0.05, 0.92, \"(b)\", fontsize=16, transform = ax2.transAxes)\n",
      "TAE.plot(kind=\"scatter\", x=\"IPF area 02\", y=\"R area 02\", ax = ax3)\n",
      "x3 = np.arange(min(TAE[\"IPF area 02\"]), max(TAE[\"IPF area 02\"]), 10)\n",
      "ax3.plot(x3, x3, linestyle='--', color=\"red\", linewidth=1)\n",
      "ax3.text(0.05, 0.92, \"(c)\", fontsize=16, transform = ax3.transAxes)\n",
      "ax2.set_title('Comparison of marginal totals for simulation area 02');"
     ],
     "language": "python",
     "metadata": {},
     "outputs": [
      {
       "metadata": {},
       "output_type": "display_data",
       "png": "[encoded data removed]",
       "text": [
        "<matplotlib.figure.Figure at 0x7ffcee0d6240>"
       ]
      }
     ],
     "prompt_number": 503
    },
    {
     "cell_type": "markdown",
     "metadata": {
      "slideshow": {
       "slide_type": "skip"
      }
     },
     "source": [
      "**Figure 2:** Comparison between marginal sums of the **SAS** and **R** implementations and **IPF** for simulation area 02."
     ]
    },
    {
     "cell_type": "heading",
     "level": 2,
     "metadata": {
      "slideshow": {
       "slide_type": "slide"
      }
     },
     "source": [
      "2.2 Comparison of marginal totals between simulations and census data (TAE)"
     ]
    },
    {
     "cell_type": "code",
     "collapsed": false,
     "input": [
      "#for acode in area_codes:\n",
      "#    sns.jointplot(\"{}\".format(acode),\n",
      "#                  \"R area {}\".format(acode),\n",
      "#                   TAE, kind=\"reg\", color=\"seagreen\");"
     ],
     "language": "python",
     "metadata": {
      "slideshow": {
       "slide_type": "fragment"
      }
     },
     "outputs": [],
     "prompt_number": 504
    },
    {
     "cell_type": "code",
     "collapsed": false,
     "input": [
      "fig, [ax1, ax2, ax3] = plt.subplots(nrows=1, ncols=3, figsize=(16,6), sharey=True)\n",
      "TAE.plot(kind=\"scatter\", x=\"R area 02\", y=\"02\", ax=ax1)\n",
      "TAE.plot(kind=\"scatter\", x=\"SAS area 02\", y=\"02\", ax=ax2)\n",
      "TAE.plot(kind=\"scatter\", x=\"IPF area 02\", y=\"02\", ax=ax3)\n",
      "x1 = np.arange(min(TAE[\"R area 02\"]), max(TAE[\"R area 02\"]), 10)\n",
      "ax1.plot(x1, x1, linestyle='--', color=\"red\", linewidth=1)\n",
      "ax2.plot(x1, x1, linestyle='--', color=\"red\", linewidth=1)\n",
      "ax3.plot(x1, x1, linestyle='--', color=\"red\", linewidth=1)\n",
      "ax1.text(0.05, 0.92, \"(a)\", fontsize=16, transform = ax1.transAxes)\n",
      "ax2.text(0.05, 0.92, \"(b)\", fontsize=16, transform = ax2.transAxes)\n",
      "ax3.text(0.05, 0.92, \"(c)\", fontsize=16, transform = ax3.transAxes)\n",
      "ax1.set_ylabel(\"\")\n",
      "ax2.set_ylabel(\"\")\n",
      "ax3.set_ylabel(\"\")\n",
      "ax2.set_title('Comparison between estimated and real benchmarks for simulation area 02');"
     ],
     "language": "python",
     "metadata": {},
     "outputs": [
      {
       "metadata": {},
       "output_type": "display_data",
       "png": "[encoded data removed]",
       "text": [
        "<matplotlib.figure.Figure at 0x7ffcee298978>"
       ]
      }
     ],
     "prompt_number": 505
    },
    {
     "cell_type": "markdown",
     "metadata": {
      "slideshow": {
       "slide_type": "skip"
      }
     },
     "source": [
      "**Figure 3:** Comparison between simulated marginal sums and census constrains for: (a) the **R** implementation of the GREGWT algorithm; (b) the **SAS** macros; and (c) **IPF**."
     ]
    },
    {
     "cell_type": "heading",
     "level": 2,
     "metadata": {
      "slideshow": {
       "slide_type": "slide"
      }
     },
     "source": [
      "2.3 Total absolute error of the R and SAS implementations"
     ]
    },
    {
     "cell_type": "code",
     "collapsed": false,
     "input": [
      "TAE_val = pd.DataFrame(index=TAE.index)\n",
      "for language in [\"R\", \"SAS\", \"IPF\"]:\n",
      "    for area in area_codes:\n",
      "        TAE_val[\"{} area {}\".format(language, area)] = abs(TAE[\"{} area {}\".format(language, area)] - TAE[area])"
     ],
     "language": "python",
     "metadata": {
      "slideshow": {
       "slide_type": "skip"
      }
     },
     "outputs": [],
     "prompt_number": 506
    },
    {
     "cell_type": "code",
     "collapsed": false,
     "input": [
      "TAE_val.head()"
     ],
     "language": "python",
     "metadata": {
      "slideshow": {
       "slide_type": "fragment"
      }
     },
     "outputs": [
      {
       "html": [
        "<div style=\"max-height:1000px;max-width:1500px;overflow:auto;\">\n",
        "<table border=\"1\" class=\"dataframe\">\n",
        "  <thead>\n",
        "    <tr style=\"text-align: right;\">\n",
        "      <th></th>\n",
        "      <th>R area 02</th>\n",
        "      <th>R area 11</th>\n",
        "      <th>R area 4011</th>\n",
        "      <th>R area 4012</th>\n",
        "      <th>SAS area 02</th>\n",
        "      <th>SAS area 11</th>\n",
        "      <th>SAS area 4011</th>\n",
        "      <th>SAS area 4012</th>\n",
        "      <th>IPF area 02</th>\n",
        "      <th>IPF area 11</th>\n",
        "      <th>IPF area 4011</th>\n",
        "      <th>IPF area 4012</th>\n",
        "    </tr>\n",
        "  </thead>\n",
        "  <tbody>\n",
        "    <tr>\n",
        "      <th>Under.3</th>\n",
        "      <td> 5.820766e-11</td>\n",
        "      <td> 1.164153e-10</td>\n",
        "      <td> 1.818989e-11</td>\n",
        "      <td> 9.094947e-13</td>\n",
        "      <td> 1.631997e-08</td>\n",
        "      <td> 7.679046e-08</td>\n",
        "      <td> 38.352358</td>\n",
        "      <td> 1.018634e-10</td>\n",
        "      <td> 5.760375</td>\n",
        "      <td> 21.280304</td>\n",
        "      <td> 5.914031</td>\n",
        "      <td> 2.444455</td>\n",
        "    </tr>\n",
        "    <tr>\n",
        "      <th>3...5</th>\n",
        "      <td> 2.910383e-11</td>\n",
        "      <td> 1.018634e-10</td>\n",
        "      <td> 1.091394e-11</td>\n",
        "      <td> 9.094947e-13</td>\n",
        "      <td> 1.081207e-08</td>\n",
        "      <td> 4.858884e-08</td>\n",
        "      <td> 22.893858</td>\n",
        "      <td> 2.998604e-09</td>\n",
        "      <td> 0.158251</td>\n",
        "      <td>  0.577383</td>\n",
        "      <td> 0.141947</td>\n",
        "      <td> 0.065377</td>\n",
        "    </tr>\n",
        "    <tr>\n",
        "      <th>6...14</th>\n",
        "      <td> 8.731149e-11</td>\n",
        "      <td> 5.238689e-10</td>\n",
        "      <td> 4.365575e-11</td>\n",
        "      <td> 8.913048e-11</td>\n",
        "      <td> 3.899913e-09</td>\n",
        "      <td> 2.170564e-07</td>\n",
        "      <td> 43.489107</td>\n",
        "      <td> 7.405106e-09</td>\n",
        "      <td> 0.460000</td>\n",
        "      <td>  1.591747</td>\n",
        "      <td> 0.459492</td>\n",
        "      <td> 0.206630</td>\n",
        "    </tr>\n",
        "    <tr>\n",
        "      <th>15...17</th>\n",
        "      <td> 2.910383e-11</td>\n",
        "      <td> 8.440111e-10</td>\n",
        "      <td> 1.818989e-12</td>\n",
        "      <td> 1.045919e-11</td>\n",
        "      <td> 4.416506e-09</td>\n",
        "      <td> 3.541936e-08</td>\n",
        "      <td> 14.151112</td>\n",
        "      <td> 1.098670e-09</td>\n",
        "      <td> 0.146668</td>\n",
        "      <td>  0.489792</td>\n",
        "      <td> 0.161117</td>\n",
        "      <td> 0.074110</td>\n",
        "    </tr>\n",
        "    <tr>\n",
        "      <th>18...24</th>\n",
        "      <td> 4.074536e-10</td>\n",
        "      <td> 5.820766e-10</td>\n",
        "      <td> 5.820766e-11</td>\n",
        "      <td> 5.456968e-12</td>\n",
        "      <td> 6.318442e-08</td>\n",
        "      <td> 4.784670e-08</td>\n",
        "      <td> 82.028325</td>\n",
        "      <td> 4.676622e-09</td>\n",
        "      <td> 0.480309</td>\n",
        "      <td>  1.806380</td>\n",
        "      <td> 0.551153</td>\n",
        "      <td> 0.215358</td>\n",
        "    </tr>\n",
        "  </tbody>\n",
        "</table>\n",
        "</div>"
       ],
       "metadata": {},
       "output_type": "pyout",
       "prompt_number": 507,
       "text": [
        "            R area 02     R area 11   R area 4011   R area 4012   SAS area 02  \\\n",
        "Under.3  5.820766e-11  1.164153e-10  1.818989e-11  9.094947e-13  1.631997e-08   \n",
        "3...5    2.910383e-11  1.018634e-10  1.091394e-11  9.094947e-13  1.081207e-08   \n",
        "6...14   8.731149e-11  5.238689e-10  4.365575e-11  8.913048e-11  3.899913e-09   \n",
        "15...17  2.910383e-11  8.440111e-10  1.818989e-12  1.045919e-11  4.416506e-09   \n",
        "18...24  4.074536e-10  5.820766e-10  5.820766e-11  5.456968e-12  6.318442e-08   \n",
        "\n",
        "          SAS area 11  SAS area 4011  SAS area 4012  IPF area 02  IPF area 11  \\\n",
        "Under.3  7.679046e-08      38.352358   1.018634e-10     5.760375    21.280304   \n",
        "3...5    4.858884e-08      22.893858   2.998604e-09     0.158251     0.577383   \n",
        "6...14   2.170564e-07      43.489107   7.405106e-09     0.460000     1.591747   \n",
        "15...17  3.541936e-08      14.151112   1.098670e-09     0.146668     0.489792   \n",
        "18...24  4.784670e-08      82.028325   4.676622e-09     0.480309     1.806380   \n",
        "\n",
        "         IPF area 4011  IPF area 4012  \n",
        "Under.3       5.914031       2.444455  \n",
        "3...5         0.141947       0.065377  \n",
        "6...14        0.459492       0.206630  \n",
        "15...17       0.161117       0.074110  \n",
        "18...24       0.551153       0.215358  "
       ]
      }
     ],
     "prompt_number": 507
    },
    {
     "cell_type": "markdown",
     "metadata": {
      "slideshow": {
       "slide_type": "skip"
      }
     },
     "source": [
      "**Table 6:** Computed $TAE$ for individual benchmarks for all simulation."
     ]
    },
    {
     "cell_type": "code",
     "collapsed": false,
     "input": [
      "TAE_val.index = [\"const{:02d}\".format(i) + \"_\" + e for i, e in enumerate(TAE_val.index)]"
     ],
     "language": "python",
     "metadata": {
      "slideshow": {
       "slide_type": "skip"
      }
     },
     "outputs": [],
     "prompt_number": 508
    },
    {
     "cell_type": "heading",
     "level": 3,
     "metadata": {
      "slideshow": {
       "slide_type": "slide"
      }
     },
     "source": [
      "2.3.1 Total absolute error $TAE$ of the individual constrains for the diffrent simulations"
     ]
    },
    {
     "cell_type": "code",
     "collapsed": false,
     "input": [
      "f, (ax1, ax2, ax3) = plt.subplots(3, 1, figsize=(12, 6), sharex=True)\n",
      "sns.barplot(TAE_val.index, TAE_val[\"SAS area 02\"],\n",
      "            ci=None, palette=\"coolwarm\", hline=.1, ax=ax1)\n",
      "ax1.set_xlabel(\"\")\n",
      "sns.barplot(TAE_val.index, TAE_val[\"R area 02\"],\n",
      "            ci=None, palette=\"coolwarm\", hline=.1, ax=ax2)\n",
      "ax2.set_xlabel(\"\")\n",
      "sns.barplot(TAE_val.index, TAE_val[\"IPF area 02\"],\n",
      "            ci=None, palette=\"coolwarm\", hline=.1, ax=ax3)\n",
      "ax3.set_xlabel(\"\")\n",
      "sns.despine(bottom=True)\n",
      "plt.xticks(rotation=90);"
     ],
     "language": "python",
     "metadata": {
      "slideshow": {
       "slide_type": "fragment"
      }
     },
     "outputs": [
      {
       "metadata": {},
       "output_type": "display_data",
       "png": "[encoded data removed]",
       "text": [
        "<matplotlib.figure.Figure at 0x7ffcee252940>"
       ]
      }
     ],
     "prompt_number": 509
    },
    {
     "cell_type": "markdown",
     "metadata": {
      "slideshow": {
       "slide_type": "skip"
      }
     },
     "source": [
      "**Figure 4:** Total Absolute Error for all constrains for all simulations."
     ]
    },
    {
     "cell_type": "heading",
     "level": 3,
     "metadata": {
      "slideshow": {
       "slide_type": "slide"
      }
     },
     "source": [
      "2.3.2 Sum of the total absolute error $TAE$ for all simulation areas"
     ]
    },
    {
     "cell_type": "code",
     "collapsed": false,
     "input": [
      "TAE_sum = pd.DataFrame({\"sumTAE\":TAE_val.sum()})\n",
      "TAE_sum"
     ],
     "language": "python",
     "metadata": {
      "slideshow": {
       "slide_type": "fragment"
      }
     },
     "outputs": [
      {
       "html": [
        "<div style=\"max-height:1000px;max-width:1500px;overflow:auto;\">\n",
        "<table border=\"1\" class=\"dataframe\">\n",
        "  <thead>\n",
        "    <tr style=\"text-align: right;\">\n",
        "      <th></th>\n",
        "      <th>sumTAE</th>\n",
        "    </tr>\n",
        "  </thead>\n",
        "  <tbody>\n",
        "    <tr>\n",
        "      <th>R area 02</th>\n",
        "      <td>  206.000000</td>\n",
        "    </tr>\n",
        "    <tr>\n",
        "      <th>R area 11</th>\n",
        "      <td>  739.000000</td>\n",
        "    </tr>\n",
        "    <tr>\n",
        "      <th>R area 4011</th>\n",
        "      <td>  247.000000</td>\n",
        "    </tr>\n",
        "    <tr>\n",
        "      <th>R area 4012</th>\n",
        "      <td>  100.000000</td>\n",
        "    </tr>\n",
        "    <tr>\n",
        "      <th>SAS area 02</th>\n",
        "      <td>  206.000002</td>\n",
        "    </tr>\n",
        "    <tr>\n",
        "      <th>SAS area 11</th>\n",
        "      <td>  739.000004</td>\n",
        "    </tr>\n",
        "    <tr>\n",
        "      <th>SAS area 4011</th>\n",
        "      <td> 1435.344196</td>\n",
        "    </tr>\n",
        "    <tr>\n",
        "      <th>SAS area 4012</th>\n",
        "      <td>  100.000000</td>\n",
        "    </tr>\n",
        "    <tr>\n",
        "      <th>IPF area 02</th>\n",
        "      <td>  219.425058</td>\n",
        "    </tr>\n",
        "    <tr>\n",
        "      <th>IPF area 11</th>\n",
        "      <td>  788.022060</td>\n",
        "    </tr>\n",
        "    <tr>\n",
        "      <th>IPF area 4011</th>\n",
        "      <td>  260.792436</td>\n",
        "    </tr>\n",
        "    <tr>\n",
        "      <th>IPF area 4012</th>\n",
        "      <td>  105.650371</td>\n",
        "    </tr>\n",
        "  </tbody>\n",
        "</table>\n",
        "</div>"
       ],
       "metadata": {},
       "output_type": "pyout",
       "prompt_number": 510,
       "text": [
        "                    sumTAE\n",
        "R area 02       206.000000\n",
        "R area 11       739.000000\n",
        "R area 4011     247.000000\n",
        "R area 4012     100.000000\n",
        "SAS area 02     206.000002\n",
        "SAS area 11     739.000004\n",
        "SAS area 4011  1435.344196\n",
        "SAS area 4012   100.000000\n",
        "IPF area 02     219.425058\n",
        "IPF area 11     788.022060\n",
        "IPF area 4011   260.792436\n",
        "IPF area 4012   105.650371"
       ]
      }
     ],
     "prompt_number": 510
    },
    {
     "cell_type": "markdown",
     "metadata": {
      "slideshow": {
       "slide_type": "skip"
      }
     },
     "source": [
      "**Table 7:** Sum of the $TAE$ for all areas and both implementations of the GREGWT algorithm."
     ]
    },
    {
     "cell_type": "code",
     "collapsed": false,
     "input": [
      "TAE_sum.plot(kind=\"bar\");"
     ],
     "language": "python",
     "metadata": {
      "slideshow": {
       "slide_type": "subslide"
      }
     },
     "outputs": [
      {
       "metadata": {},
       "output_type": "display_data",
       "png": "[encoded data removed]",
       "text": [
        "<matplotlib.figure.Figure at 0x7ffcee260e48>"
       ]
      }
     ],
     "prompt_number": 511
    },
    {
     "cell_type": "markdown",
     "metadata": {
      "slideshow": {
       "slide_type": "skip"
      }
     },
     "source": [
      "**FIGURE 5:** Sum of the $TAE$ for all areas and all simulations."
     ]
    },
    {
     "cell_type": "heading",
     "level": 1,
     "metadata": {
      "slideshow": {
       "slide_type": "slide"
      }
     },
     "source": [
      "3. Percentage Absolute Error"
     ]
    },
    {
     "cell_type": "markdown",
     "metadata": {
      "slideshow": {
       "slide_type": "fragment"
      }
     },
     "source": [
      "The *Standardized absolute error* $SAE$ aims to make the $TAE$ measure comparable between simulation which\n",
      "normally use different samples for the simulation. The *Percentage Absolute Error* $PSAE$ is the same measure as the $SAE$ measure but express its result as a percentage value.\n",
      "\n",
      "$$\n",
      "PSAE = \\sum_i^n |Tx - \\hat{t}x| \\div pop_i \\times 100\n",
      "$$"
     ]
    },
    {
     "cell_type": "code",
     "collapsed": false,
     "input": [
      "population_totals = pd.DataFrame(\n",
      "    {\"Age\":census.loc[:,\"Under.3\":\"75.and.over\"].sum(axis=1),\n",
      "     \"Marital.Status\":census.loc[:,\"Single\":\"Civil.union.terminated\"].sum(axis=1),\n",
      "     \"Household.Size\":census.loc[:,\"1.person\":\"6.or.more.people\"].sum(axis=1)})\n",
      "population_totals[\"mean\"] = population_totals.mean(axis=1)"
     ],
     "language": "python",
     "metadata": {
      "slideshow": {
       "slide_type": "skip"
      }
     },
     "outputs": [],
     "prompt_number": 512
    },
    {
     "cell_type": "code",
     "collapsed": false,
     "input": [
      "population_totals"
     ],
     "language": "python",
     "metadata": {
      "slideshow": {
       "slide_type": "fragment"
      }
     },
     "outputs": [
      {
       "html": [
        "<div style=\"max-height:1000px;max-width:1500px;overflow:auto;\">\n",
        "<table border=\"1\" class=\"dataframe\">\n",
        "  <thead>\n",
        "    <tr style=\"text-align: right;\">\n",
        "      <th></th>\n",
        "      <th>Age</th>\n",
        "      <th>Household.Size</th>\n",
        "      <th>Marital.Status</th>\n",
        "      <th>mean</th>\n",
        "    </tr>\n",
        "    <tr>\n",
        "      <th>Area.Code</th>\n",
        "      <th></th>\n",
        "      <th></th>\n",
        "      <th></th>\n",
        "      <th></th>\n",
        "    </tr>\n",
        "  </thead>\n",
        "  <tbody>\n",
        "    <tr>\n",
        "      <th>2   </th>\n",
        "      <td> 1706696</td>\n",
        "      <td> 1668910</td>\n",
        "      <td> 1706490</td>\n",
        "      <td> 1694032.000000</td>\n",
        "    </tr>\n",
        "    <tr>\n",
        "      <th>11  </th>\n",
        "      <td> 3292365</td>\n",
        "      <td> 3245207</td>\n",
        "      <td> 3291626</td>\n",
        "      <td> 3276399.333333</td>\n",
        "    </tr>\n",
        "    <tr>\n",
        "      <th>4011</th>\n",
        "      <td>  542707</td>\n",
        "      <td>  533355</td>\n",
        "      <td>  542460</td>\n",
        "      <td>  539507.333333</td>\n",
        "    </tr>\n",
        "    <tr>\n",
        "      <th>4012</th>\n",
        "      <td>  108156</td>\n",
        "      <td>  106603</td>\n",
        "      <td>  108056</td>\n",
        "      <td>  107605.000000</td>\n",
        "    </tr>\n",
        "  </tbody>\n",
        "</table>\n",
        "</div>"
       ],
       "metadata": {},
       "output_type": "pyout",
       "prompt_number": 513,
       "text": [
        "               Age  Household.Size  Marital.Status            mean\n",
        "Area.Code                                                         \n",
        "2          1706696         1668910         1706490  1694032.000000\n",
        "11         3292365         3245207         3291626  3276399.333333\n",
        "4011        542707          533355          542460   539507.333333\n",
        "4012        108156          106603          108056   107605.000000"
       ]
      }
     ],
     "prompt_number": 513
    },
    {
     "cell_type": "markdown",
     "metadata": {
      "slideshow": {
       "slide_type": "skip"
      }
     },
     "source": [
      "**Table 8:** Estimated population totals for each simulation area."
     ]
    },
    {
     "cell_type": "markdown",
     "metadata": {
      "slideshow": {
       "slide_type": "fragment"
      }
     },
     "source": [
      "For the computation of the $PSAE$ error I use the estimated total population from benchmark `age` as this value is the one used in the re-weighting process for both implementations."
     ]
    },
    {
     "cell_type": "code",
     "collapsed": false,
     "input": [
      "PSAE = pd.DataFrame(index=TAE_val.index)\n",
      "for language in [\"R\", \"SAS\", \"IPF\"]:\n",
      "    for area in area_codes:\n",
      "        psae_val = TAE_val[\"{} area {}\".format(language, area)] / population_totals.loc[int(area), \"Age\"] * 100\n",
      "        PSAE[\"{} area {}\".format(language, area)] = psae_val"
     ],
     "language": "python",
     "metadata": {
      "slideshow": {
       "slide_type": "skip"
      }
     },
     "outputs": [],
     "prompt_number": 514
    },
    {
     "cell_type": "heading",
     "level": 2,
     "metadata": {
      "slideshow": {
       "slide_type": "slide"
      }
     },
     "source": [
      "3.1 Percentage absolute error $PSAE$ for the different simulations"
     ]
    },
    {
     "cell_type": "code",
     "collapsed": false,
     "input": [
      "f, (ax1, ax2, ax3) = plt.subplots(3, 1, figsize=(12, 6), sharex=True, sharey=True)#, sharex=True)\n",
      "sns.barplot(PSAE.index, PSAE[\"SAS area 02\"],   ci=None, palette=\"coolwarm\", hline=.0001, ax=ax1)\n",
      "ax1.set_xlabel(\"\")\n",
      "sns.barplot(PSAE.index, PSAE[\"R area 02\"],   ci=None, palette=\"coolwarm\", hline=.0001, ax=ax2)\n",
      "ax2.set_xlabel(\"\")\n",
      "sns.barplot(PSAE.index, PSAE[\"IPF area 02\"], ci=None, palette=\"coolwarm\", hline=.0001, ax=ax3)\n",
      "ax3.set_xlabel(\"\")\n",
      "\n",
      "sns.despine(bottom=True)\n",
      "plt.xticks(rotation=90);"
     ],
     "language": "python",
     "metadata": {
      "slideshow": {
       "slide_type": "fragment"
      }
     },
     "outputs": [
      {
       "metadata": {},
       "output_type": "display_data",
       "png": "[encoded data removed]",
       "text": [
        "<matplotlib.figure.Figure at 0x7ffcee1002e8>"
       ]
      }
     ],
     "prompt_number": 515
    },
    {
     "cell_type": "markdown",
     "metadata": {
      "slideshow": {
       "slide_type": "skip"
      }
     },
     "source": [
      "**Figure 6:** Percentage absolute error of simulation areas using simulation methods."
     ]
    },
    {
     "cell_type": "heading",
     "level": 2,
     "metadata": {
      "slideshow": {
       "slide_type": "slide"
      }
     },
     "source": [
      "3.2 Comparison of the sum of the percentage absolute error $PSAE$"
     ]
    },
    {
     "cell_type": "code",
     "collapsed": false,
     "input": [
      "PSAE_sum = pd.DataFrame(PSAE.sum(), columns=[\"PSAE\"])\n",
      "PSAE_sum"
     ],
     "language": "python",
     "metadata": {
      "slideshow": {
       "slide_type": "fragment"
      }
     },
     "outputs": [
      {
       "html": [
        "<div style=\"max-height:1000px;max-width:1500px;overflow:auto;\">\n",
        "<table border=\"1\" class=\"dataframe\">\n",
        "  <thead>\n",
        "    <tr style=\"text-align: right;\">\n",
        "      <th></th>\n",
        "      <th>PSAE</th>\n",
        "    </tr>\n",
        "  </thead>\n",
        "  <tbody>\n",
        "    <tr>\n",
        "      <th>R area 02</th>\n",
        "      <td> 0.012070</td>\n",
        "    </tr>\n",
        "    <tr>\n",
        "      <th>R area 11</th>\n",
        "      <td> 0.022446</td>\n",
        "    </tr>\n",
        "    <tr>\n",
        "      <th>R area 4011</th>\n",
        "      <td> 0.045513</td>\n",
        "    </tr>\n",
        "    <tr>\n",
        "      <th>R area 4012</th>\n",
        "      <td> 0.092459</td>\n",
        "    </tr>\n",
        "    <tr>\n",
        "      <th>SAS area 02</th>\n",
        "      <td> 0.012070</td>\n",
        "    </tr>\n",
        "    <tr>\n",
        "      <th>SAS area 11</th>\n",
        "      <td> 0.022446</td>\n",
        "    </tr>\n",
        "    <tr>\n",
        "      <th>SAS area 4011</th>\n",
        "      <td> 0.264479</td>\n",
        "    </tr>\n",
        "    <tr>\n",
        "      <th>SAS area 4012</th>\n",
        "      <td> 0.092459</td>\n",
        "    </tr>\n",
        "    <tr>\n",
        "      <th>IPF area 02</th>\n",
        "      <td> 0.012857</td>\n",
        "    </tr>\n",
        "    <tr>\n",
        "      <th>IPF area 11</th>\n",
        "      <td> 0.023935</td>\n",
        "    </tr>\n",
        "    <tr>\n",
        "      <th>IPF area 4011</th>\n",
        "      <td> 0.048054</td>\n",
        "    </tr>\n",
        "    <tr>\n",
        "      <th>IPF area 4012</th>\n",
        "      <td> 0.097683</td>\n",
        "    </tr>\n",
        "  </tbody>\n",
        "</table>\n",
        "</div>"
       ],
       "metadata": {},
       "output_type": "pyout",
       "prompt_number": 583,
       "text": [
        "                   PSAE\n",
        "R area 02      0.012070\n",
        "R area 11      0.022446\n",
        "R area 4011    0.045513\n",
        "R area 4012    0.092459\n",
        "SAS area 02    0.012070\n",
        "SAS area 11    0.022446\n",
        "SAS area 4011  0.264479\n",
        "SAS area 4012  0.092459\n",
        "IPF area 02    0.012857\n",
        "IPF area 11    0.023935\n",
        "IPF area 4011  0.048054\n",
        "IPF area 4012  0.097683"
       ]
      }
     ],
     "prompt_number": 583
    },
    {
     "cell_type": "markdown",
     "metadata": {
      "slideshow": {
       "slide_type": "skip"
      }
     },
     "source": [
      "**Table 13:** Sum of the percentage absolute error $PSAE$ for all simulation areas."
     ]
    },
    {
     "cell_type": "code",
     "collapsed": false,
     "input": [
      "PSAE_sum.plot(kind=\"bar\");"
     ],
     "language": "python",
     "metadata": {
      "slideshow": {
       "slide_type": "fragment"
      }
     },
     "outputs": [
      {
       "metadata": {},
       "output_type": "display_data",
       "png": "[encoded data removed]",
       "text": [
        "<matplotlib.figure.Figure at 0x7ffcee11ca20>"
       ]
      }
     ],
     "prompt_number": 517
    },
    {
     "cell_type": "markdown",
     "metadata": {
      "slideshow": {
       "slide_type": "skip"
      }
     },
     "source": [
      "**Figure 7:** Comparison between $PSAE$ of the **SAS** macros and the **R** implementation."
     ]
    },
    {
     "cell_type": "heading",
     "level": 1,
     "metadata": {
      "slideshow": {
       "slide_type": "slide"
      }
     },
     "source": [
      "4. Comparison of used categories"
     ]
    },
    {
     "cell_type": "markdown",
     "metadata": {
      "slideshow": {
       "slide_type": "fragment"
      }
     },
     "source": [
      "If I take the categories that were define as reference categories from the $PSAE$ error, the performance of the **R** implementation of the algorithm increases considerably while the performance of the **SAS** macros and teh **IPF** algorithm does not vary much."
     ]
    },
    {
     "cell_type": "code",
     "collapsed": true,
     "input": [
      "filter_criterion = {\n",
      "    \"02\"    :PSAE.index.map(lambda x: x not in [\"40...49\", \"Divorced\"]),\n",
      "    \"11\"    :PSAE.index.map(lambda x: x not in [\"15...17\", \"Civil.union.terminated\"]),\n",
      "    \"4011\"  :PSAE.index.map(lambda x: x not in [\"75.and.over\", \"Party.to.a.civil.union\"]),\n",
      "    \"4012\"  :PSAE.index.map(lambda x: x not in [\"6...14\", \"Civil.union.terminated\"])}\n",
      "PSAE_sum_cri = pd.DataFrame(index=PSAE.columns)\n",
      "PSAE_sum_cri[\"Filtered PSAE\"] = False\n",
      "for language in [\"R\", \"SAS\", \"IPF\"]:\n",
      "    for area in area_codes:\n",
      "        criterion = filter_criterion[\"{}\".format(area)]\n",
      "        loc = \"{} area {}\".format(language, area)\n",
      "        PSAE_sum_cri.ix[loc] = PSAE.loc[criterion,loc].sum()\n",
      "PSAE_sum_cri"
     ],
     "language": "python",
     "metadata": {},
     "outputs": [
      {
       "html": [
        "<div style=\"max-height:1000px;max-width:1500px;overflow:auto;\">\n",
        "<table border=\"1\" class=\"dataframe\">\n",
        "  <thead>\n",
        "    <tr style=\"text-align: right;\">\n",
        "      <th></th>\n",
        "      <th>Filtered PSAE</th>\n",
        "    </tr>\n",
        "  </thead>\n",
        "  <tbody>\n",
        "    <tr>\n",
        "      <th>R area 02</th>\n",
        "      <td> 0.012070</td>\n",
        "    </tr>\n",
        "    <tr>\n",
        "      <th>R area 11</th>\n",
        "      <td> 0.022446</td>\n",
        "    </tr>\n",
        "    <tr>\n",
        "      <th>R area 4011</th>\n",
        "      <td> 0.045513</td>\n",
        "    </tr>\n",
        "    <tr>\n",
        "      <th>R area 4012</th>\n",
        "      <td> 0.092459</td>\n",
        "    </tr>\n",
        "    <tr>\n",
        "      <th>SAS area 02</th>\n",
        "      <td> 0.012070</td>\n",
        "    </tr>\n",
        "    <tr>\n",
        "      <th>SAS area 11</th>\n",
        "      <td> 0.022446</td>\n",
        "    </tr>\n",
        "    <tr>\n",
        "      <th>SAS area 4011</th>\n",
        "      <td> 0.264479</td>\n",
        "    </tr>\n",
        "    <tr>\n",
        "      <th>SAS area 4012</th>\n",
        "      <td> 0.092459</td>\n",
        "    </tr>\n",
        "    <tr>\n",
        "      <th>IPF area 02</th>\n",
        "      <td> 0.012857</td>\n",
        "    </tr>\n",
        "    <tr>\n",
        "      <th>IPF area 11</th>\n",
        "      <td> 0.023935</td>\n",
        "    </tr>\n",
        "    <tr>\n",
        "      <th>IPF area 4011</th>\n",
        "      <td> 0.048054</td>\n",
        "    </tr>\n",
        "    <tr>\n",
        "      <th>IPF area 4012</th>\n",
        "      <td> 0.097683</td>\n",
        "    </tr>\n",
        "  </tbody>\n",
        "</table>\n",
        "</div>"
       ],
       "metadata": {},
       "output_type": "pyout",
       "prompt_number": 567,
       "text": [
        "               Filtered PSAE\n",
        "R area 02           0.012070\n",
        "R area 11           0.022446\n",
        "R area 4011         0.045513\n",
        "R area 4012         0.092459\n",
        "SAS area 02         0.012070\n",
        "SAS area 11         0.022446\n",
        "SAS area 4011       0.264479\n",
        "SAS area 4012       0.092459\n",
        "IPF area 02         0.012857\n",
        "IPF area 11         0.023935\n",
        "IPF area 4011       0.048054\n",
        "IPF area 4012       0.097683"
       ]
      }
     ],
     "prompt_number": 567
    },
    {
     "cell_type": "markdown",
     "metadata": {
      "slideshow": {
       "slide_type": "skip"
      }
     },
     "source": [
      "**Table 14:** Sum of the percentage absolute error $PSAE$, with categories filtered, error for all simulation areas."
     ]
    },
    {
     "cell_type": "code",
     "collapsed": false,
     "input": [
      "PSAE_sum_cri.plot(kind=\"bar\");"
     ],
     "language": "python",
     "metadata": {
      "slideshow": {
       "slide_type": "fragment"
      }
     },
     "outputs": [
      {
       "metadata": {},
       "output_type": "display_data",
       "png": "[encoded data removed]",
       "text": [
        "<matplotlib.figure.Figure at 0x7ffcee2190b8>"
       ]
      }
     ],
     "prompt_number": 568
    },
    {
     "cell_type": "markdown",
     "metadata": {
      "slideshow": {
       "slide_type": "skip"
      }
     },
     "source": [
      "**Figure 8:** Comparison between $PSAE$ of the **SAS** macros and the **R** implementation with categories filtered."
     ]
    },
    {
     "cell_type": "code",
     "collapsed": false,
     "input": [
      "PSAE_diff = pd.DataFrame(PSAE_sum[\"PSAE\"] - PSAE_sum_cri[\"Filtered PSAE\"], columns=[\"diff PSAE\"])"
     ],
     "language": "python",
     "metadata": {},
     "outputs": [],
     "prompt_number": 584
    },
    {
     "cell_type": "code",
     "collapsed": false,
     "input": [
      "PSAE_diff"
     ],
     "language": "python",
     "metadata": {},
     "outputs": [
      {
       "html": [
        "<div style=\"max-height:1000px;max-width:1500px;overflow:auto;\">\n",
        "<table border=\"1\" class=\"dataframe\">\n",
        "  <thead>\n",
        "    <tr style=\"text-align: right;\">\n",
        "      <th></th>\n",
        "      <th>diff PSAE</th>\n",
        "    </tr>\n",
        "  </thead>\n",
        "  <tbody>\n",
        "    <tr>\n",
        "      <th>R area 02</th>\n",
        "      <td>-1.734723e-18</td>\n",
        "    </tr>\n",
        "    <tr>\n",
        "      <th>R area 11</th>\n",
        "      <td> 3.469447e-18</td>\n",
        "    </tr>\n",
        "    <tr>\n",
        "      <th>R area 4011</th>\n",
        "      <td> 0.000000e+00</td>\n",
        "    </tr>\n",
        "    <tr>\n",
        "      <th>R area 4012</th>\n",
        "      <td> 1.387779e-17</td>\n",
        "    </tr>\n",
        "    <tr>\n",
        "      <th>SAS area 02</th>\n",
        "      <td> 0.000000e+00</td>\n",
        "    </tr>\n",
        "    <tr>\n",
        "      <th>SAS area 11</th>\n",
        "      <td> 3.469447e-18</td>\n",
        "    </tr>\n",
        "    <tr>\n",
        "      <th>SAS area 4011</th>\n",
        "      <td> 0.000000e+00</td>\n",
        "    </tr>\n",
        "    <tr>\n",
        "      <th>SAS area 4012</th>\n",
        "      <td> 2.775558e-17</td>\n",
        "    </tr>\n",
        "    <tr>\n",
        "      <th>IPF area 02</th>\n",
        "      <td> 0.000000e+00</td>\n",
        "    </tr>\n",
        "    <tr>\n",
        "      <th>IPF area 11</th>\n",
        "      <td> 0.000000e+00</td>\n",
        "    </tr>\n",
        "    <tr>\n",
        "      <th>IPF area 4011</th>\n",
        "      <td> 0.000000e+00</td>\n",
        "    </tr>\n",
        "    <tr>\n",
        "      <th>IPF area 4012</th>\n",
        "      <td> 1.387779e-17</td>\n",
        "    </tr>\n",
        "  </tbody>\n",
        "</table>\n",
        "</div>"
       ],
       "metadata": {},
       "output_type": "pyout",
       "prompt_number": 585,
       "text": [
        "                  diff PSAE\n",
        "R area 02     -1.734723e-18\n",
        "R area 11      3.469447e-18\n",
        "R area 4011    0.000000e+00\n",
        "R area 4012    1.387779e-17\n",
        "SAS area 02    0.000000e+00\n",
        "SAS area 11    3.469447e-18\n",
        "SAS area 4011  0.000000e+00\n",
        "SAS area 4012  2.775558e-17\n",
        "IPF area 02    0.000000e+00\n",
        "IPF area 11    0.000000e+00\n",
        "IPF area 4011  0.000000e+00\n",
        "IPF area 4012  1.387779e-17"
       ]
      }
     ],
     "prompt_number": 585
    }
   ],
   "metadata": {}
  }
 ]
}