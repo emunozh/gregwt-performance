{
 "cells": [
  {
   "cell_type": "markdown",
   "metadata": {
    "slideshow": {
     "slide_type": "slide"
    }
   },
   "source": [
    "# Performance of the GREGWT algorithm\n",
    "\n",
    "M. Esteban Muñoz H. <marcelo.hidalgo@hcu-hamburg.de>\n",
    "\n",
    "HafenCity Universität – Infrastrukturplanung und Stadttechnik"
   ]
  },
  {
   "cell_type": "markdown",
   "metadata": {
    "slideshow": {
     "slide_type": "fragment"
    }
   },
   "source": [
    "#Table of Contents\n",
    "* [1. The data used to comparte the performance of the GREGWT algorithm](#1.-The-data-used-to-comparte-the-performance-of-the-GREGWT-algorithm)\n",
    "\t* [1.1 Input data](#1.1-Input-data)\n",
    "\t\t* [1.1.1 The micro census data](#1.1.1-The-micro-census-data)\n",
    "\t\t* [1.1.2 The census data](#1.1.2-The-census-data)\n",
    "\t* [1.2 Simulation results](#1.2-Simulation-results)\n",
    "* [2. Weight distance](#2.-Weight-distance)\n",
    "\t* [2.1 Chi-squared distance](#2.1-Chi-squared-distance)\n",
    "\t* [2.2 Absolute weight distance](#2.2-Absolute-weight-distance)\n",
    "* [3. Weights difference](#3.-Weights-difference)\n",
    "* [4. Total Absolute Error](#4.-Total-Absolute-Error)\n",
    "\t* [4.1 Comparison of marginal totals between implementations](#4.1-Comparison-of-marginal-totals-between-implementations)\n",
    "\t* [4.2 Comparison of marginal totals between simulations and census data (TAE)](#4.2-Comparison-of-marginal-totals-between-simulations-and-census-data-%28TAE%29)\n",
    "\t* [4.3 Total absolute error of the R and SAS implementations](#4.3-Total-absolute-error-of-the-R-and-SAS-implementations)\n",
    "\t\t* [4.3.1 Total absolute error $TAE$ of the individual constrains for the diffrent simulations](#4.3.1-Total-absolute-error-$TAE$-of-the-individual-constrains-for-the-diffrent-simulations)\n",
    "\t\t* [4.3.2 Sum of the total absolute error $TAE$ for all simulation areas](#4.3.2-Sum-of-the-total-absolute-error-$TAE$-for-all-simulation-areas)\n",
    "* [5. Percentage Absolute Error](#5.-Percentage-Absolute-Error)\n",
    "\t* [5.1 Percentage absolute error $PSAE$ for the different simulations](#5.1-Percentage-absolute-error-$PSAE$-for-the-different-simulations)\n",
    "\t* [5.2 Comparison of the sum of the percentage absolute error $PSAE$](#5.2-Comparison-of-the-sum-of-the-percentage-absolute-error-$PSAE$)\n",
    "* [6. Comparison of used categories](#6.-Comparison-of-used-categories)\n"
   ]
  },
  {
   "cell_type": "markdown",
   "metadata": {
    "slideshow": {
     "slide_type": "slide"
    }
   },
   "source": [
    "# 1. The data used to comparte the performance of the GREGWT algorithm"
   ]
  },
  {
   "cell_type": "markdown",
   "metadata": {
    "slideshow": {
     "slide_type": "fragment"
    }
   },
   "source": [
    "For this comparison I use two datasets, both datasets are the result from a simulation with the same input data. Both datasets represent the estimated new weights for 4 small areas using:\n",
    "\n",
    "1. An implementation of the GREGWT algorithm in he **SAS** language; and\n",
    "2. An implementation of the GREGWT algorithm in the **R** language.\n",
    "\n",
    "First I compare the resulting weights from both datasets and in a second step I compare the Total Absolute Error $TAE$ and the Percentage Absolute Error $PSAE$."
   ]
  },
  {
   "cell_type": "code",
   "execution_count": 1,
   "metadata": {
    "collapsed": false,
    "format": "row",
    "slideshow": {
     "slide_type": "skip"
    }
   },
   "outputs": [],
   "source": [
    "# load some libraries\n",
    "import pandas as pd # library for data analysis\n",
    "import seaborn as sns # statistical graphics in Python\n",
    "import matplotlib.pyplot as plt\n",
    "from matplotlib import gridspec\n",
    "import numpy as np\n",
    "%matplotlib inline\n",
    "colors = plt.rcParams['axes.color_cycle']"
   ]
  },
  {
   "cell_type": "markdown",
   "metadata": {
    "slideshow": {
     "slide_type": "slide"
    }
   },
   "source": [
    "## 1.1 Input data"
   ]
  },
  {
   "cell_type": "markdown",
   "metadata": {
    "slideshow": {
     "slide_type": "fragment"
    }
   },
   "source": [
    "The input data consists of two datasets:\n",
    "\n",
    "1. A individual level survey; and\n",
    "2. Census records available at a district level, which correspond to the \"Nomenclature of Territorial Units for Statistics\" 3 **(NUTS 3)** aggregation level."
   ]
  },
  {
   "cell_type": "markdown",
   "metadata": {
    "slideshow": {
     "slide_type": "fragment"
    }
   },
   "source": [
    "### 1.1.1 The micro census data"
   ]
  },
  {
   "cell_type": "code",
   "execution_count": 2,
   "metadata": {
    "collapsed": false,
    "format": "row",
    "slideshow": {
     "slide_type": "skip"
    }
   },
   "outputs": [],
   "source": [
    "survey = pd.read_csv(\"./Mikrozensus-2010-cat.csv\", index_col=0, thousands=\",\")\n",
    "col = survey.columns[0:-1]\n",
    "for c in col: survey[c] = survey[c].astype('category')"
   ]
  },
  {
   "cell_type": "code",
   "execution_count": 3,
   "metadata": {
    "collapsed": false,
    "slideshow": {
     "slide_type": "fragment"
    }
   },
   "outputs": [
    {
     "data": {
      "text/html": [
       "<div>\n",
       "<table border=\"1\" class=\"dataframe\">\n",
       "  <thead>\n",
       "    <tr style=\"text-align: right;\">\n",
       "      <th></th>\n",
       "      <th>Age</th>\n",
       "      <th>Marital.Status</th>\n",
       "      <th>Household.Size</th>\n",
       "      <th>Heat.Expenditure</th>\n",
       "      <th>Weights</th>\n",
       "    </tr>\n",
       "  </thead>\n",
       "  <tbody>\n",
       "    <tr>\n",
       "      <th>1</th>\n",
       "      <td>65...74</td>\n",
       "      <td>Divorced</td>\n",
       "      <td>1.person</td>\n",
       "      <td>NaN</td>\n",
       "      <td>90173</td>\n",
       "    </tr>\n",
       "    <tr>\n",
       "      <th>2</th>\n",
       "      <td>40...49</td>\n",
       "      <td>Married</td>\n",
       "      <td>4.persons</td>\n",
       "      <td>NaN</td>\n",
       "      <td>119987</td>\n",
       "    </tr>\n",
       "    <tr>\n",
       "      <th>3</th>\n",
       "      <td>40...49</td>\n",
       "      <td>Married</td>\n",
       "      <td>4.persons</td>\n",
       "      <td>NaN</td>\n",
       "      <td>119987</td>\n",
       "    </tr>\n",
       "    <tr>\n",
       "      <th>4</th>\n",
       "      <td>18...24</td>\n",
       "      <td>Single</td>\n",
       "      <td>4.persons</td>\n",
       "      <td>NaN</td>\n",
       "      <td>119987</td>\n",
       "    </tr>\n",
       "    <tr>\n",
       "      <th>5</th>\n",
       "      <td>75.and.over</td>\n",
       "      <td>Widowed</td>\n",
       "      <td>4.persons</td>\n",
       "      <td>NaN</td>\n",
       "      <td>119987</td>\n",
       "    </tr>\n",
       "  </tbody>\n",
       "</table>\n",
       "</div>"
      ],
      "text/plain": [
       "           Age Marital.Status Household.Size Heat.Expenditure  Weights\n",
       "1      65...74       Divorced       1.person              NaN    90173\n",
       "2      40...49        Married      4.persons              NaN   119987\n",
       "3      40...49        Married      4.persons              NaN   119987\n",
       "4      18...24         Single      4.persons              NaN   119987\n",
       "5  75.and.over        Widowed      4.persons              NaN   119987"
      ]
     },
     "execution_count": 3,
     "metadata": {},
     "output_type": "execute_result"
    }
   ],
   "source": [
    "survey.head()"
   ]
  },
  {
   "cell_type": "markdown",
   "metadata": {
    "slideshow": {
     "slide_type": "skip"
    }
   },
   "source": [
    "**Table 1:** Description of the used survey data"
   ]
  },
  {
   "cell_type": "markdown",
   "metadata": {
    "slideshow": {
     "slide_type": "fragment"
    }
   },
   "source": [
    "This survey data contains $23374$ records and corresponds to the $3\\%$ of the official micro census data for scientific use ($1\\%$ of the total German population). This data set represents $0.03\\%$ of the German population. The file can be downloaded from [here](http://www.forschungsdatenzentrum.de/bestand/mikrozensus/cf/2002/) the official page of the German statistical office."
   ]
  },
  {
   "cell_type": "code",
   "execution_count": 4,
   "metadata": {
    "collapsed": false,
    "format": "row",
    "slideshow": {
     "slide_type": "skip"
    }
   },
   "outputs": [],
   "source": [
    "categories = pd.DataFrame({\"number of ctaegories\": [len(survey[col].cat.categories) for col in survey.columns[1:-1]],\n",
    "                           \"categories\": [[survey[col].cat.categories] for col in survey.columns[1:-1]]},\n",
    "                          index=survey.columns[1:-1])\n",
    "categories.loc[\"Weights\"] = [\"numeric\", \"/\"]"
   ]
  },
  {
   "cell_type": "code",
   "execution_count": 5,
   "metadata": {
    "collapsed": false,
    "slideshow": {
     "slide_type": "fragment"
    }
   },
   "outputs": [
    {
     "data": {
      "text/html": [
       "<div>\n",
       "<table border=\"1\" class=\"dataframe\">\n",
       "  <thead>\n",
       "    <tr style=\"text-align: right;\">\n",
       "      <th></th>\n",
       "      <th>categories</th>\n",
       "      <th>number of ctaegories</th>\n",
       "    </tr>\n",
       "  </thead>\n",
       "  <tbody>\n",
       "    <tr>\n",
       "      <th>Marital.Status</th>\n",
       "      <td>[[Civil.union.terminated, Divorced, Married, P...</td>\n",
       "      <td>6</td>\n",
       "    </tr>\n",
       "    <tr>\n",
       "      <th>Household.Size</th>\n",
       "      <td>[[1.person, 2.persons, 3.persons, 4.persons, 5...</td>\n",
       "      <td>6</td>\n",
       "    </tr>\n",
       "    <tr>\n",
       "      <th>Heat.Expenditure</th>\n",
       "      <td>[[100...150, 150...200, 200...300, 300...400, ...</td>\n",
       "      <td>6</td>\n",
       "    </tr>\n",
       "    <tr>\n",
       "      <th>Weights</th>\n",
       "      <td>numeric</td>\n",
       "      <td>/</td>\n",
       "    </tr>\n",
       "  </tbody>\n",
       "</table>\n",
       "</div>"
      ],
      "text/plain": [
       "                                                         categories  \\\n",
       "Marital.Status    [[Civil.union.terminated, Divorced, Married, P...   \n",
       "Household.Size    [[1.person, 2.persons, 3.persons, 4.persons, 5...   \n",
       "Heat.Expenditure  [[100...150, 150...200, 200...300, 300...400, ...   \n",
       "Weights                                                     numeric   \n",
       "\n",
       "                 number of ctaegories  \n",
       "Marital.Status                      6  \n",
       "Household.Size                      6  \n",
       "Heat.Expenditure                    6  \n",
       "Weights                             /  "
      ]
     },
     "execution_count": 5,
     "metadata": {},
     "output_type": "execute_result"
    }
   ],
   "source": [
    "categories"
   ]
  },
  {
   "cell_type": "markdown",
   "metadata": {
    "slideshow": {
     "slide_type": "skip"
    }
   },
   "source": [
    "**Table 2:** Number of categories of the survey variables"
   ]
  },
  {
   "cell_type": "markdown",
   "metadata": {
    "slideshow": {
     "slide_type": "slide"
    }
   },
   "source": [
    "### 1.1.2 The census data"
   ]
  },
  {
   "cell_type": "code",
   "execution_count": 6,
   "metadata": {
    "collapsed": false
   },
   "outputs": [],
   "source": [
    "census = pd.read_csv(\"./Zensus-2011-clean.csv\", index_col=\"Area.Code\")\n",
    "census = census.drop('Unnamed: 0', 1)\n",
    "census = census.loc[[2, 11, 4011, 4012]]\n",
    "total_pop = pd.read_csv(\"./total_pop.csv\", index_col=\"Area.ID\")\n",
    "total_pop = total_pop.drop('Unnamed: 0', 1)\n",
    "total_pop = total_pop.loc[[2, 11, 4011, 4012]]\n",
    "total_pop.columns = [\"pop\"]\n",
    "census = pd.merge(census, total_pop, left_index=True, right_index=True)"
   ]
  },
  {
   "cell_type": "code",
   "execution_count": 7,
   "metadata": {
    "collapsed": false,
    "slideshow": {
     "slide_type": "fragment"
    }
   },
   "outputs": [
    {
     "data": {
      "text/html": [
       "<div>\n",
       "<table border=\"1\" class=\"dataframe\">\n",
       "  <thead>\n",
       "    <tr style=\"text-align: right;\">\n",
       "      <th></th>\n",
       "      <th>Under.3</th>\n",
       "      <th>3...5</th>\n",
       "      <th>6...14</th>\n",
       "      <th>15...17</th>\n",
       "      <th>18...24</th>\n",
       "      <th>25...29</th>\n",
       "      <th>30...39</th>\n",
       "      <th>40...49</th>\n",
       "      <th>50...64</th>\n",
       "      <th>65...74</th>\n",
       "      <th>...</th>\n",
       "      <th>Divorced</th>\n",
       "      <th>Party.to.a.civil.union</th>\n",
       "      <th>Civil.union.terminated</th>\n",
       "      <th>1.person</th>\n",
       "      <th>2.persons</th>\n",
       "      <th>3.persons</th>\n",
       "      <th>4.persons</th>\n",
       "      <th>5.persons</th>\n",
       "      <th>6.or.more.people</th>\n",
       "      <th>pop</th>\n",
       "    </tr>\n",
       "    <tr>\n",
       "      <th>Area.Code</th>\n",
       "      <th></th>\n",
       "      <th></th>\n",
       "      <th></th>\n",
       "      <th></th>\n",
       "      <th></th>\n",
       "      <th></th>\n",
       "      <th></th>\n",
       "      <th></th>\n",
       "      <th></th>\n",
       "      <th></th>\n",
       "      <th></th>\n",
       "      <th></th>\n",
       "      <th></th>\n",
       "      <th></th>\n",
       "      <th></th>\n",
       "      <th></th>\n",
       "      <th></th>\n",
       "      <th></th>\n",
       "      <th></th>\n",
       "      <th></th>\n",
       "      <th></th>\n",
       "    </tr>\n",
       "  </thead>\n",
       "  <tbody>\n",
       "    <tr>\n",
       "      <th>2</th>\n",
       "      <td>47757</td>\n",
       "      <td>45575</td>\n",
       "      <td>132476</td>\n",
       "      <td>42239</td>\n",
       "      <td>138325</td>\n",
       "      <td>136313</td>\n",
       "      <td>258238</td>\n",
       "      <td>280671</td>\n",
       "      <td>301189</td>\n",
       "      <td>178471</td>\n",
       "      <td>...</td>\n",
       "      <td>143354</td>\n",
       "      <td>3353</td>\n",
       "      <td>412</td>\n",
       "      <td>400440</td>\n",
       "      <td>528441</td>\n",
       "      <td>303930</td>\n",
       "      <td>264486</td>\n",
       "      <td>103963</td>\n",
       "      <td>67650</td>\n",
       "      <td>1706696</td>\n",
       "    </tr>\n",
       "    <tr>\n",
       "      <th>11</th>\n",
       "      <td>94867</td>\n",
       "      <td>86753</td>\n",
       "      <td>239171</td>\n",
       "      <td>73592</td>\n",
       "      <td>271412</td>\n",
       "      <td>263554</td>\n",
       "      <td>464285</td>\n",
       "      <td>539688</td>\n",
       "      <td>624691</td>\n",
       "      <td>376088</td>\n",
       "      <td>...</td>\n",
       "      <td>333989</td>\n",
       "      <td>8709</td>\n",
       "      <td>930</td>\n",
       "      <td>860542</td>\n",
       "      <td>1092332</td>\n",
       "      <td>582501</td>\n",
       "      <td>427341</td>\n",
       "      <td>163306</td>\n",
       "      <td>119185</td>\n",
       "      <td>3292365</td>\n",
       "    </tr>\n",
       "    <tr>\n",
       "      <th>4011</th>\n",
       "      <td>12996</td>\n",
       "      <td>12714</td>\n",
       "      <td>41156</td>\n",
       "      <td>14431</td>\n",
       "      <td>49366</td>\n",
       "      <td>39910</td>\n",
       "      <td>68692</td>\n",
       "      <td>85587</td>\n",
       "      <td>104168</td>\n",
       "      <td>62164</td>\n",
       "      <td>...</td>\n",
       "      <td>48267</td>\n",
       "      <td>795</td>\n",
       "      <td>60</td>\n",
       "      <td>121056</td>\n",
       "      <td>172867</td>\n",
       "      <td>98675</td>\n",
       "      <td>84504</td>\n",
       "      <td>33651</td>\n",
       "      <td>22602</td>\n",
       "      <td>542707</td>\n",
       "    </tr>\n",
       "    <tr>\n",
       "      <th>4012</th>\n",
       "      <td>2643</td>\n",
       "      <td>2822</td>\n",
       "      <td>8919</td>\n",
       "      <td>3199</td>\n",
       "      <td>9296</td>\n",
       "      <td>6757</td>\n",
       "      <td>12021</td>\n",
       "      <td>16093</td>\n",
       "      <td>22277</td>\n",
       "      <td>13100</td>\n",
       "      <td>...</td>\n",
       "      <td>9723</td>\n",
       "      <td>89</td>\n",
       "      <td>15</td>\n",
       "      <td>26444</td>\n",
       "      <td>34910</td>\n",
       "      <td>18396</td>\n",
       "      <td>15138</td>\n",
       "      <td>6721</td>\n",
       "      <td>4994</td>\n",
       "      <td>108156</td>\n",
       "    </tr>\n",
       "  </tbody>\n",
       "</table>\n",
       "<p>4 rows × 24 columns</p>\n",
       "</div>"
      ],
      "text/plain": [
       "           Under.3  3...5  6...14  15...17  18...24  25...29  30...39  \\\n",
       "Area.Code                                                               \n",
       "2            47757  45575  132476    42239   138325   136313   258238   \n",
       "11           94867  86753  239171    73592   271412   263554   464285   \n",
       "4011         12996  12714   41156    14431    49366    39910    68692   \n",
       "4012          2643   2822    8919     3199     9296     6757    12021   \n",
       "\n",
       "           40...49  50...64  65...74   ...     Divorced  \\\n",
       "Area.Code                              ...                \n",
       "2           280671   301189   178471   ...       143354   \n",
       "11          539688   624691   376088   ...       333989   \n",
       "4011         85587   104168    62164   ...        48267   \n",
       "4012         16093    22277    13100   ...         9723   \n",
       "\n",
       "           Party.to.a.civil.union  Civil.union.terminated  1.person  \\\n",
       "Area.Code                                                             \n",
       "2                            3353                     412    400440   \n",
       "11                           8709                     930    860542   \n",
       "4011                          795                      60    121056   \n",
       "4012                           89                      15     26444   \n",
       "\n",
       "           2.persons  3.persons  4.persons  5.persons  6.or.more.people  \\\n",
       "Area.Code                                                                 \n",
       "2             528441     303930     264486     103963             67650   \n",
       "11           1092332     582501     427341     163306            119185   \n",
       "4011          172867      98675      84504      33651             22602   \n",
       "4012           34910      18396      15138       6721              4994   \n",
       "\n",
       "               pop  \n",
       "Area.Code           \n",
       "2          1706696  \n",
       "11         3292365  \n",
       "4011        542707  \n",
       "4012        108156  \n",
       "\n",
       "[4 rows x 24 columns]"
      ]
     },
     "execution_count": 7,
     "metadata": {},
     "output_type": "execute_result"
    }
   ],
   "source": [
    "census.head()"
   ]
  },
  {
   "cell_type": "markdown",
   "metadata": {
    "slideshow": {
     "slide_type": "skip"
    }
   },
   "source": [
    "**Table 3:** Description of the census data"
   ]
  },
  {
   "cell_type": "code",
   "execution_count": 8,
   "metadata": {
    "collapsed": false
   },
   "outputs": [
    {
     "data": {
      "text/plain": [
       "Area.Code\n",
       "2       1706696\n",
       "11      3292365\n",
       "4011     542707\n",
       "4012     108156\n",
       "dtype: int64"
      ]
     },
     "execution_count": 8,
     "metadata": {},
     "output_type": "execute_result"
    }
   ],
   "source": [
    "census.loc[:,\"Under.3\":\"75.and.over\"].sum(axis=1)"
   ]
  },
  {
   "cell_type": "markdown",
   "metadata": {
    "slideshow": {
     "slide_type": "fragment"
    }
   },
   "source": [
    "The census data listed above comes from the census 2011 and can be access [here](https://ergebnisse.zensus2011.de/). All the results from the census can be access through the web portal. Unfortunately there is no API to access the data remotely."
   ]
  },
  {
   "cell_type": "markdown",
   "metadata": {
    "slideshow": {
     "slide_type": "slide"
    }
   },
   "source": [
    "## 1.2 Simulation results"
   ]
  },
  {
   "cell_type": "code",
   "execution_count": 9,
   "metadata": {
    "collapsed": false,
    "format": "row",
    "slideshow": {
     "slide_type": "skip"
    }
   },
   "outputs": [],
   "source": [
    "#rgwData = pd.read_csv(\"./Simulation-Result-weights15.csv\", index_col=0) # original [SAS cat]\n",
    "#rgwData = pd.read_csv(\"./Simulation-Result-weights16.csv\", index_col=0) # population alignment [SAS cat]\n",
    "#rgwData = pd.read_csv(\"./Simulation-Result-weights18.csv\", index_col=0) # population alignment [new SAS cat] optimal cat\n",
    "#rgwData = pd.read_csv(\"./Simulation-Result-weights19.csv\", index_col=0) # population alignment [new SAS cat] sas cat\n",
    "rgwData = pd.read_csv(\"./Simulation-Result-weights20.csv\", index_col=0) # population alignment [new SAS cat] sas cat\n",
    "#rgwData = pd.read_csv(\"./Simulation-Result-weights21.csv\", index_col=0) # minamal PSAE\n",
    "ipfData = pd.read_csv(\"./Simulation-Result-ipf.csv\", index_col=0)\n",
    "#rgwData = pd.read_csv(\"./Simulation-Result-ipf.csv\", index_col=0)\n",
    "#sasData = pd.read_csv(\"./areawts_150206_wpopmin1class.csv\",index_col=\"Pers_ID\", usecols=[0,2,3,4,5])\n",
    "sasData = pd.read_csv(\"./areawts_150206_withpop.csv\",index_col=\"Pers_ID\", usecols=[0,2,3,4,5])\n",
    "#sasData = pd.read_csv(\"./areawts_150119.csv\",index_col=\"Pers_ID\", usecols=[0,2,3,4,5])"
   ]
  },
  {
   "cell_type": "code",
   "execution_count": 10,
   "metadata": {
    "collapsed": false,
    "format": "row",
    "slideshow": {
     "slide_type": "skip"
    }
   },
   "outputs": [],
   "source": [
    "plot_data = pd.merge(rgwData, sasData, left_index=True, right_index=True)\n",
    "plot_data = pd.merge(plot_data, ipfData, left_index=True, right_index=True)\n",
    "plot_data.columns = ['Weights R area 02',   'Weights R area 11',   'Weights R area 4011',   'Weights R area 4012',\n",
    "                     'Weights SAS area 02', 'Weights SAS area 11', 'Weights SAS area 4011', 'Weights SAS area 4012',\n",
    "                     'Weights IPF area 02', 'Weights IPF area 11', 'Weights IPF area 4011', 'Weights IPF area 4012']"
   ]
  },
  {
   "cell_type": "code",
   "execution_count": 11,
   "metadata": {
    "collapsed": false
   },
   "outputs": [],
   "source": [
    "plot_data.to_csv(\"results_merged.csv\")"
   ]
  },
  {
   "cell_type": "code",
   "execution_count": 12,
   "metadata": {
    "collapsed": false,
    "slideshow": {
     "slide_type": "fragment"
    }
   },
   "outputs": [
    {
     "data": {
      "text/html": [
       "<div>\n",
       "<table border=\"1\" class=\"dataframe\">\n",
       "  <thead>\n",
       "    <tr style=\"text-align: right;\">\n",
       "      <th></th>\n",
       "      <th>Weights R area 02</th>\n",
       "      <th>Weights R area 11</th>\n",
       "      <th>Weights R area 4011</th>\n",
       "      <th>Weights R area 4012</th>\n",
       "      <th>Weights SAS area 02</th>\n",
       "      <th>Weights SAS area 11</th>\n",
       "      <th>Weights SAS area 4011</th>\n",
       "      <th>Weights SAS area 4012</th>\n",
       "      <th>Weights IPF area 02</th>\n",
       "      <th>Weights IPF area 11</th>\n",
       "      <th>Weights IPF area 4011</th>\n",
       "      <th>Weights IPF area 4012</th>\n",
       "    </tr>\n",
       "  </thead>\n",
       "  <tbody>\n",
       "    <tr>\n",
       "      <th>1</th>\n",
       "      <td>80.044798</td>\n",
       "      <td>194.128895</td>\n",
       "      <td>27.633426</td>\n",
       "      <td>5.944768</td>\n",
       "      <td>80.044798</td>\n",
       "      <td>193.978284</td>\n",
       "      <td>27.521232</td>\n",
       "      <td>5.924388</td>\n",
       "      <td>79.434485</td>\n",
       "      <td>197.643758</td>\n",
       "      <td>27.752008</td>\n",
       "      <td>6.078195</td>\n",
       "    </tr>\n",
       "    <tr>\n",
       "      <th>2</th>\n",
       "      <td>59.225051</td>\n",
       "      <td>85.885031</td>\n",
       "      <td>19.430718</td>\n",
       "      <td>3.432242</td>\n",
       "      <td>59.225051</td>\n",
       "      <td>85.854515</td>\n",
       "      <td>19.455628</td>\n",
       "      <td>3.428113</td>\n",
       "      <td>60.707081</td>\n",
       "      <td>92.271993</td>\n",
       "      <td>19.681740</td>\n",
       "      <td>3.550656</td>\n",
       "    </tr>\n",
       "    <tr>\n",
       "      <th>3</th>\n",
       "      <td>59.225051</td>\n",
       "      <td>85.885031</td>\n",
       "      <td>19.430718</td>\n",
       "      <td>3.432242</td>\n",
       "      <td>59.225051</td>\n",
       "      <td>85.854515</td>\n",
       "      <td>19.455628</td>\n",
       "      <td>3.428113</td>\n",
       "      <td>60.707081</td>\n",
       "      <td>92.271993</td>\n",
       "      <td>19.681740</td>\n",
       "      <td>3.550656</td>\n",
       "    </tr>\n",
       "    <tr>\n",
       "      <th>4</th>\n",
       "      <td>76.039523</td>\n",
       "      <td>129.754047</td>\n",
       "      <td>29.136628</td>\n",
       "      <td>4.350349</td>\n",
       "      <td>76.039523</td>\n",
       "      <td>129.819182</td>\n",
       "      <td>28.986772</td>\n",
       "      <td>4.359163</td>\n",
       "      <td>74.669784</td>\n",
       "      <td>125.042120</td>\n",
       "      <td>28.379312</td>\n",
       "      <td>4.297351</td>\n",
       "    </tr>\n",
       "    <tr>\n",
       "      <th>5</th>\n",
       "      <td>70.084494</td>\n",
       "      <td>92.603630</td>\n",
       "      <td>32.681989</td>\n",
       "      <td>5.272939</td>\n",
       "      <td>70.084494</td>\n",
       "      <td>93.172527</td>\n",
       "      <td>32.312744</td>\n",
       "      <td>5.349921</td>\n",
       "      <td>69.923674</td>\n",
       "      <td>100.678268</td>\n",
       "      <td>32.264307</td>\n",
       "      <td>4.994161</td>\n",
       "    </tr>\n",
       "  </tbody>\n",
       "</table>\n",
       "</div>"
      ],
      "text/plain": [
       "   Weights R area 02  Weights R area 11  Weights R area 4011  \\\n",
       "1          80.044798         194.128895            27.633426   \n",
       "2          59.225051          85.885031            19.430718   \n",
       "3          59.225051          85.885031            19.430718   \n",
       "4          76.039523         129.754047            29.136628   \n",
       "5          70.084494          92.603630            32.681989   \n",
       "\n",
       "   Weights R area 4012  Weights SAS area 02  Weights SAS area 11  \\\n",
       "1             5.944768            80.044798           193.978284   \n",
       "2             3.432242            59.225051            85.854515   \n",
       "3             3.432242            59.225051            85.854515   \n",
       "4             4.350349            76.039523           129.819182   \n",
       "5             5.272939            70.084494            93.172527   \n",
       "\n",
       "   Weights SAS area 4011  Weights SAS area 4012  Weights IPF area 02  \\\n",
       "1              27.521232               5.924388            79.434485   \n",
       "2              19.455628               3.428113            60.707081   \n",
       "3              19.455628               3.428113            60.707081   \n",
       "4              28.986772               4.359163            74.669784   \n",
       "5              32.312744               5.349921            69.923674   \n",
       "\n",
       "   Weights IPF area 11  Weights IPF area 4011  Weights IPF area 4012  \n",
       "1           197.643758              27.752008               6.078195  \n",
       "2            92.271993              19.681740               3.550656  \n",
       "3            92.271993              19.681740               3.550656  \n",
       "4           125.042120              28.379312               4.297351  \n",
       "5           100.678268              32.264307               4.994161  "
      ]
     },
     "execution_count": 12,
     "metadata": {},
     "output_type": "execute_result"
    }
   ],
   "source": [
    "plot_data.head()"
   ]
  },
  {
   "cell_type": "markdown",
   "metadata": {
    "slideshow": {
     "slide_type": "skip"
    }
   },
   "source": [
    "**Table 4:** Merged data for comparison"
   ]
  },
  {
   "cell_type": "markdown",
   "metadata": {},
   "source": [
    "# 2. Weight distance"
   ]
  },
  {
   "cell_type": "markdown",
   "metadata": {},
   "source": [
    "## 2.1 Chi-squared distance"
   ]
  },
  {
   "cell_type": "markdown",
   "metadata": {},
   "source": [
    "$$\n",
    "\\begin{equation}\n",
    "    Chi_i = \\sum_j^m \\frac{\\left( w_j - d_j\\right)^2 }{2d_j}\n",
    "\\end{equation}\n",
    "$$"
   ]
  },
  {
   "cell_type": "code",
   "execution_count": 13,
   "metadata": {
    "collapsed": false,
    "slideshow": {
     "slide_type": "skip"
    }
   },
   "outputs": [],
   "source": [
    "population_totals = pd.DataFrame(\n",
    "    {\"Age\":census.loc[:,\"Under.3\":\"75.and.over\"].sum(axis=1),\n",
    "     \"Marital.Status\":census.loc[:,\"Single\":\"Civil.union.terminated\"].sum(axis=1),\n",
    "     \"Household.Size\":census.loc[:,\"1.person\":\"6.or.more.people\"].sum(axis=1)})\n",
    "population_totals[\"mean\"] = population_totals.mean(axis=1)"
   ]
  },
  {
   "cell_type": "code",
   "execution_count": 14,
   "metadata": {
    "collapsed": false
   },
   "outputs": [
    {
     "data": {
      "text/html": [
       "<div>\n",
       "<table border=\"1\" class=\"dataframe\">\n",
       "  <thead>\n",
       "    <tr style=\"text-align: right;\">\n",
       "      <th></th>\n",
       "      <th>Age</th>\n",
       "      <th>Household.Size</th>\n",
       "      <th>Marital.Status</th>\n",
       "      <th>mean</th>\n",
       "    </tr>\n",
       "    <tr>\n",
       "      <th>Area.Code</th>\n",
       "      <th></th>\n",
       "      <th></th>\n",
       "      <th></th>\n",
       "      <th></th>\n",
       "    </tr>\n",
       "  </thead>\n",
       "  <tbody>\n",
       "    <tr>\n",
       "      <th>2</th>\n",
       "      <td>1706696</td>\n",
       "      <td>1668910</td>\n",
       "      <td>1706490</td>\n",
       "      <td>1694032.000000</td>\n",
       "    </tr>\n",
       "    <tr>\n",
       "      <th>11</th>\n",
       "      <td>3292365</td>\n",
       "      <td>3245207</td>\n",
       "      <td>3291626</td>\n",
       "      <td>3276399.333333</td>\n",
       "    </tr>\n",
       "    <tr>\n",
       "      <th>4011</th>\n",
       "      <td>542707</td>\n",
       "      <td>533355</td>\n",
       "      <td>542460</td>\n",
       "      <td>539507.333333</td>\n",
       "    </tr>\n",
       "    <tr>\n",
       "      <th>4012</th>\n",
       "      <td>108156</td>\n",
       "      <td>106603</td>\n",
       "      <td>108056</td>\n",
       "      <td>107605.000000</td>\n",
       "    </tr>\n",
       "  </tbody>\n",
       "</table>\n",
       "</div>"
      ],
      "text/plain": [
       "               Age  Household.Size  Marital.Status            mean\n",
       "Area.Code                                                         \n",
       "2          1706696         1668910         1706490  1694032.000000\n",
       "11         3292365         3245207         3291626  3276399.333333\n",
       "4011        542707          533355          542460   539507.333333\n",
       "4012        108156          106603          108056   107605.000000"
      ]
     },
     "execution_count": 14,
     "metadata": {},
     "output_type": "execute_result"
    }
   ],
   "source": [
    "population_totals.head()"
   ]
  },
  {
   "cell_type": "code",
   "execution_count": 15,
   "metadata": {
    "collapsed": false
   },
   "outputs": [],
   "source": [
    "population_totals.Age = survey.Weights * population_totals.Age / sum(survey.Weights)"
   ]
  },
  {
   "cell_type": "code",
   "execution_count": 16,
   "metadata": {
    "collapsed": false
   },
   "outputs": [],
   "source": [
    "chi_dis = pd.DataFrame({\n",
    "\"R 02\":    (plot_data['Weights R area 02']     - population_totals.Age[2]   )**2 / (2 * population_totals.Age[2]   ),\n",
    "\"R 11\":    (plot_data['Weights R area 11']     - population_totals.Age[11]  )**2 / (2 * population_totals.Age[11]  ),\n",
    "\"R 4011\":  (plot_data['Weights R area 4011']   - population_totals.Age[4011])**2 / (2 * population_totals.Age[4011]),\n",
    "\"R 4012\":  (plot_data['Weights R area 4012']   - population_totals.Age[4012])**2 / (2 * population_totals.Age[4012]),\n",
    "\"SAS 02\":  (plot_data['Weights SAS area 02']   - population_totals.Age[2]   )**2 / (2 * population_totals.Age[2]   ),\n",
    "\"SAS 11\":  (plot_data['Weights SAS area 11']   - population_totals.Age[11]  )**2 / (2 * population_totals.Age[11]  ),\n",
    "\"SAS 4011\":(plot_data['Weights SAS area 4011'] - population_totals.Age[4011])**2 / (2 * population_totals.Age[4011]),\n",
    "\"SAS 4012\":(plot_data['Weights SAS area 4012'] - population_totals.Age[4012])**2 / (2 * population_totals.Age[4012]),\n",
    "\"IPF 02\":  (plot_data['Weights IPF area 02']   - population_totals.Age[2]   )**2 / (2 * population_totals.Age[2]   ),\n",
    "\"IPF 11\":  (plot_data['Weights IPF area 11']   - population_totals.Age[11]  )**2 / (2 * population_totals.Age[11]  ),\n",
    "\"IPF 4011\":(plot_data['Weights IPF area 4011'] - population_totals.Age[4011])**2 / (2 * population_totals.Age[4011]),\n",
    "\"IPF 4012\":(plot_data['Weights IPF area 4012'] - population_totals.Age[4012])**2 / (2 * population_totals.Age[4012])\n",
    "})"
   ]
  },
  {
   "cell_type": "code",
   "execution_count": 17,
   "metadata": {
    "collapsed": false
   },
   "outputs": [
    {
     "data": {
      "image/png": "[encoded data removed]",
      "text/plain": [
       "<matplotlib.figure.Figure at 0x7f6f87881b70>"
      ]
     },
     "metadata": {},
     "output_type": "display_data"
    }
   ],
   "source": [
    "fig, (ax1, ax2) = plt.subplots(ncols=2, figsize=(16,6), sharey=True)\n",
    "\n",
    "chi_dis = chi_dis.sort([\"R 02\"])\n",
    "ax1.plot(chi_dis[\"IPF 02\"], '.', label='IPF')\n",
    "ax1.plot(chi_dis[\"SAS 02\"], '.', label='SAS')\n",
    "ax1.plot(chi_dis[\"R 02\"], '.', label='R')\n",
    "ax1.set_yscale('log')\n",
    "ax1.set_ylabel('Chi-squared distance')\n",
    "ax1.legend(loc=4)\n",
    "ax1.set_xticks([])\n",
    "ax1.set_xticklabels([])\n",
    "ax1.text(0.03, 0.94, \"(a)\", fontsize=16, transform = ax1.transAxes)\n",
    "ax1.set_title(\"Simulation area 02\");\n",
    "\n",
    "chi_dis = chi_dis.sort([\"R 4011\"])\n",
    "ax2.plot(chi_dis[\"IPF 4011\"], '.', label='IPF')\n",
    "ax2.plot(chi_dis[\"SAS 4011\"], '.', label='SAS')\n",
    "ax2.plot(chi_dis[\"R 4011\"], '.', label='R')\n",
    "ax2.set_yscale('log')\n",
    "ax2.legend(loc=4)\n",
    "ax2.set_xticks([])\n",
    "ax2.set_xticklabels([])\n",
    "ax2.text(0.03, 0.94, \"(b)\", fontsize=16, transform = ax2.transAxes)\n",
    "ax2.set_title(\"Simulation area 4011\");\n",
    "plt.savefig(\"FIGURES/chisquared.pdf\", format=\"pdf\", bbox_inches='tight')"
   ]
  },
  {
   "cell_type": "markdown",
   "metadata": {},
   "source": [
    "**Figure 1.0:** Chi-squared distance between esimated and design weights for simulation area **02** and **4011**."
   ]
  },
  {
   "cell_type": "code",
   "execution_count": 18,
   "metadata": {
    "collapsed": false
   },
   "outputs": [
    {
     "data": {
      "image/png": "[encoded data removed]",
      "text/plain": [
       "<matplotlib.figure.Figure at 0x7f6f8709b630>"
      ]
     },
     "metadata": {},
     "output_type": "display_data"
    }
   ],
   "source": [
    "fig, (ax1, ax2) = plt.subplots(ncols=2, figsize=(16,6), sharey=True)\n",
    "\n",
    "chi_dis = chi_dis.sort([\"R 11\"])\n",
    "ax1.plot(chi_dis[\"IPF 11\"], '.', label='IPF')\n",
    "ax1.plot(chi_dis[\"SAS 11\"], '.', label='SAS')\n",
    "ax1.plot(chi_dis[\"R 11\"], '.', label='R')\n",
    "ax1.set_yscale('log')\n",
    "ax1.set_ylabel('Chi-squared distance')\n",
    "ax1.legend(loc=4)\n",
    "ax1.set_xticks([])\n",
    "ax1.set_xticklabels([])\n",
    "ax1.text(0.03, 0.94, \"(c)\", fontsize=16, transform = ax1.transAxes)\n",
    "ax1.set_title(\"Simulation area 11\");\n",
    "\n",
    "chi_dis = chi_dis.sort([\"R 4012\"])\n",
    "ax2.plot(chi_dis[\"IPF 4012\"], '.', label='IPF')\n",
    "ax2.plot(chi_dis[\"SAS 4012\"], '.', label='SAS')\n",
    "ax2.plot(chi_dis[\"R 4012\"], '.', label='R')\n",
    "ax2.set_yscale('log')\n",
    "ax2.legend(loc=4)\n",
    "ax2.set_xticks([])\n",
    "ax2.set_xticklabels([])\n",
    "ax2.text(0.03, 0.94, \"(d)\", fontsize=16, transform = ax2.transAxes)\n",
    "ax2.set_title(\"Simulation area 4012\");\n",
    "plt.savefig(\"FIGURES/chisquared2.pdf\", format=\"pdf\", bbox_inches='tight')"
   ]
  },
  {
   "cell_type": "markdown",
   "metadata": {},
   "source": [
    "**Figure 1.0:** Chi-squared distance between esimated and design weights for simulation area **11** and **4012**."
   ]
  },
  {
   "cell_type": "code",
   "execution_count": 19,
   "metadata": {
    "collapsed": false
   },
   "outputs": [
    {
     "data": {
      "text/html": [
       "<div>\n",
       "<table border=\"1\" class=\"dataframe\">\n",
       "  <thead>\n",
       "    <tr style=\"text-align: right;\">\n",
       "      <th></th>\n",
       "      <th>IPF</th>\n",
       "      <th>R</th>\n",
       "      <th>SAS</th>\n",
       "    </tr>\n",
       "  </thead>\n",
       "  <tbody>\n",
       "    <tr>\n",
       "      <th>Area 02</th>\n",
       "      <td>2.28E+05</td>\n",
       "      <td>2.26E+05</td>\n",
       "      <td>2.26E+05</td>\n",
       "    </tr>\n",
       "    <tr>\n",
       "      <th>Area 11</th>\n",
       "      <td>7.40E+05</td>\n",
       "      <td>7.36E+05</td>\n",
       "      <td>7.36E+05</td>\n",
       "    </tr>\n",
       "    <tr>\n",
       "      <th>Area 4011</th>\n",
       "      <td>6.39E+04</td>\n",
       "      <td>6.36E+04</td>\n",
       "      <td>6.35E+04</td>\n",
       "    </tr>\n",
       "    <tr>\n",
       "      <th>Area 4012</th>\n",
       "      <td>1.21E+04</td>\n",
       "      <td>1.21E+04</td>\n",
       "      <td>1.21E+04</td>\n",
       "    </tr>\n",
       "  </tbody>\n",
       "</table>\n",
       "</div>"
      ],
      "text/plain": [
       "                IPF         R       SAS\n",
       "Area 02    2.28E+05  2.26E+05  2.26E+05\n",
       "Area 11    7.40E+05  7.36E+05  7.36E+05\n",
       "Area 4011  6.39E+04  6.36E+04  6.35E+04\n",
       "Area 4012  1.21E+04  1.21E+04  1.21E+04"
      ]
     },
     "execution_count": 19,
     "metadata": {},
     "output_type": "execute_result"
    }
   ],
   "source": [
    "pd.DataFrame({\"SAS\":[\"{:0.2E}\".format(chi_dis.sum()[\"SAS 02\"]),\n",
    "                     \"{:0.2E}\".format(chi_dis.sum()[\"SAS 11\"]),\n",
    "                     \"{:0.2E}\".format(chi_dis.sum()[\"SAS 4011\"]),\n",
    "                     \"{:0.2E}\".format(chi_dis.sum()[\"SAS 4012\"])\n",
    "                     ],\n",
    "              \"R\":  [\"{:0.2E}\".format(chi_dis.sum()[\"R 02\"]),\n",
    "                     \"{:0.2E}\".format(chi_dis.sum()[\"R 11\"]),\n",
    "                     \"{:0.2E}\".format(chi_dis.sum()[\"R 4011\"]),\n",
    "                     \"{:0.2E}\".format(chi_dis.sum()[\"R 4012\"])\n",
    "                     ],\n",
    "              \"IPF\":[\"{:0.2E}\".format(chi_dis.sum()[\"IPF 02\"]),\n",
    "                     \"{:0.2E}\".format(chi_dis.sum()[\"IPF 11\"]),\n",
    "                     \"{:0.2E}\".format(chi_dis.sum()[\"IPF 4011\"]),\n",
    "                     \"{:0.2E}\".format(chi_dis.sum()[\"IPF 4012\"])\n",
    "                     ]},\n",
    "             index=[\"Area 02\", \"Area 11\", \"Area 4011\", \"Area 4012\"])"
   ]
  },
  {
   "cell_type": "markdown",
   "metadata": {},
   "source": [
    "**Table 5:** Sum Chi-squared distance for al simulation methods and all areas"
   ]
  },
  {
   "cell_type": "code",
   "execution_count": 20,
   "metadata": {
    "collapsed": false
   },
   "outputs": [
    {
     "data": {
      "text/html": [
       "<div>\n",
       "<table border=\"1\" class=\"dataframe\">\n",
       "  <thead>\n",
       "    <tr style=\"text-align: right;\">\n",
       "      <th></th>\n",
       "      <th>IPF</th>\n",
       "      <th>R</th>\n",
       "      <th>SAS</th>\n",
       "    </tr>\n",
       "  </thead>\n",
       "  <tbody>\n",
       "    <tr>\n",
       "      <th>Area 02</th>\n",
       "      <td>9.73E+00</td>\n",
       "      <td>9.65E+00</td>\n",
       "      <td>9.65E+00</td>\n",
       "    </tr>\n",
       "    <tr>\n",
       "      <th>Area 11</th>\n",
       "      <td>3.17E+01</td>\n",
       "      <td>3.15E+01</td>\n",
       "      <td>3.15E+01</td>\n",
       "    </tr>\n",
       "    <tr>\n",
       "      <th>Area 4011</th>\n",
       "      <td>2.73E+00</td>\n",
       "      <td>2.72E+00</td>\n",
       "      <td>2.72E+00</td>\n",
       "    </tr>\n",
       "    <tr>\n",
       "      <th>Area 4012</th>\n",
       "      <td>5.19E-01</td>\n",
       "      <td>5.18E-01</td>\n",
       "      <td>5.18E-01</td>\n",
       "    </tr>\n",
       "  </tbody>\n",
       "</table>\n",
       "</div>"
      ],
      "text/plain": [
       "                IPF         R       SAS\n",
       "Area 02    9.73E+00  9.65E+00  9.65E+00\n",
       "Area 11    3.17E+01  3.15E+01  3.15E+01\n",
       "Area 4011  2.73E+00  2.72E+00  2.72E+00\n",
       "Area 4012  5.19E-01  5.18E-01  5.18E-01"
      ]
     },
     "execution_count": 20,
     "metadata": {},
     "output_type": "execute_result"
    }
   ],
   "source": [
    "pd.DataFrame({\"SAS\":[\"{:0.2E}\".format(chi_dis.mean()[\"SAS 02\"]),\n",
    "                     \"{:0.2E}\".format(chi_dis.mean()[\"SAS 11\"]),\n",
    "                     \"{:0.2E}\".format(chi_dis.mean()[\"SAS 4011\"]),\n",
    "                     \"{:0.2E}\".format(chi_dis.mean()[\"SAS 4012\"])\n",
    "                     ],\n",
    "              \"R\":  [\"{:0.2E}\".format(chi_dis.mean()[\"R 02\"]),\n",
    "                     \"{:0.2E}\".format(chi_dis.mean()[\"R 11\"]),\n",
    "                     \"{:0.2E}\".format(chi_dis.mean()[\"R 4011\"]),\n",
    "                     \"{:0.2E}\".format(chi_dis.mean()[\"R 4012\"])\n",
    "                     ],\n",
    "              \"IPF\":[\"{:0.2E}\".format(chi_dis.mean()[\"IPF 02\"]),\n",
    "                     \"{:0.2E}\".format(chi_dis.mean()[\"IPF 11\"]),\n",
    "                     \"{:0.2E}\".format(chi_dis.mean()[\"IPF 4011\"]),\n",
    "                     \"{:0.2E}\".format(chi_dis.mean()[\"IPF 4012\"])\n",
    "                     ]},\n",
    "             index=[\"Area 02\", \"Area 11\", \"Area 4011\", \"Area 4012\"])"
   ]
  },
  {
   "cell_type": "markdown",
   "metadata": {},
   "source": [
    "**Table 5b:** mean Chi-squared distance for al simulation methods and all areas"
   ]
  },
  {
   "cell_type": "markdown",
   "metadata": {},
   "source": [
    "## 2.2 Absolute weight distance"
   ]
  },
  {
   "cell_type": "code",
   "execution_count": 21,
   "metadata": {
    "collapsed": false
   },
   "outputs": [],
   "source": [
    "abs_dis = pd.DataFrame({\n",
    "    \"R 02\":    abs(plot_data['Weights R area 02']     - population_totals.Age[2]),\n",
    "    \"R 11\":    abs(plot_data['Weights R area 11']     - population_totals.Age[11]),\n",
    "    \"R 4011\":  abs(plot_data['Weights R area 4011']   - population_totals.Age[4011]),\n",
    "    \"R 4012\":  abs(plot_data['Weights R area 4012']   - population_totals.Age[4012]),\n",
    "    \"SAS 02\":  abs(plot_data['Weights SAS area 02']   - population_totals.Age[2]),\n",
    "    \"SAS 11\":  abs(plot_data['Weights SAS area 11']   - population_totals.Age[11]),\n",
    "    \"SAS 4011\":abs(plot_data['Weights SAS area 4011'] - population_totals.Age[4011]),\n",
    "    \"SAS 4012\":abs(plot_data['Weights SAS area 4012'] - population_totals.Age[4012]),\n",
    "    \"IPF 02\":  abs(plot_data['Weights IPF area 02']   - population_totals.Age[2]),\n",
    "    \"IPF 11\":  abs(plot_data['Weights IPF area 11']   - population_totals.Age[11]),\n",
    "    \"IPF 4011\":abs(plot_data['Weights IPF area 4011'] - population_totals.Age[4011]),\n",
    "    \"IPF 4012\":abs(plot_data['Weights IPF area 4012'] - population_totals.Age[4012])\n",
    "})"
   ]
  },
  {
   "cell_type": "code",
   "execution_count": 22,
   "metadata": {
    "collapsed": false
   },
   "outputs": [
    {
     "data": {
      "image/png": "[encoded data removed]",
      "text/plain": [
       "<matplotlib.figure.Figure at 0x7f6f870b4400>"
      ]
     },
     "metadata": {},
     "output_type": "display_data"
    }
   ],
   "source": [
    "fig, (ax1, ax2) = plt.subplots(ncols=2, figsize=(16,6))#, sharey=True)\n",
    "\n",
    "abs_dis = abs_dis.sort([\"R 02\"])\n",
    "ax1.plot(abs_dis[\"SAS 02\"], '.', label='SAS')\n",
    "ax1.plot(abs_dis[\"IPF 02\"], '.', label='IPF')\n",
    "ax1.plot(abs_dis[\"R 02\"], '.', label='R')\n",
    "#ax1.set_yscale('log')\n",
    "ax1.set_ylabel('Absolute weight distance')\n",
    "ax1.legend(loc=1)\n",
    "ax1.set_xticks([])\n",
    "ax1.set_xticklabels([])\n",
    "ax1.text(0.03, 0.94, \"(a)\", fontsize=16, transform = ax1.transAxes)\n",
    "ax1.set_title(\"Simulation area 02\");\n",
    "\n",
    "abs_dis = abs_dis.sort([\"R 4011\"])\n",
    "ax2.plot(abs_dis[\"SAS 4011\"], '.', label='SAS')\n",
    "ax2.plot(abs_dis[\"IPF 4011\"], '.', label='IPF')\n",
    "ax2.plot(abs_dis[\"R 4011\"], '.', label='R')\n",
    "#ax2.set_yscale('log')\n",
    "ax2.legend(loc=1)\n",
    "ax2.set_xticks([])\n",
    "ax2.set_xticklabels([])\n",
    "ax2.text(0.03, 0.94, \"(b)\", fontsize=16, transform = ax2.transAxes)\n",
    "ax2.set_title(\"Simulation area 4011\");\n",
    "plt.savefig(\"FIGURES/abschisquared.pdf\", format=\"pdf\", bbox_inches='tight')"
   ]
  },
  {
   "cell_type": "code",
   "execution_count": 23,
   "metadata": {
    "collapsed": false
   },
   "outputs": [
    {
     "data": {
      "text/html": [
       "<div>\n",
       "<table border=\"1\" class=\"dataframe\">\n",
       "  <thead>\n",
       "    <tr style=\"text-align: right;\">\n",
       "      <th></th>\n",
       "      <th>IPF</th>\n",
       "      <th>R</th>\n",
       "      <th>SAS</th>\n",
       "    </tr>\n",
       "  </thead>\n",
       "  <tbody>\n",
       "    <tr>\n",
       "      <th>Area 02</th>\n",
       "      <td>6.96E+05</td>\n",
       "      <td>7.02E+05</td>\n",
       "      <td>7.02E+05</td>\n",
       "    </tr>\n",
       "    <tr>\n",
       "      <th>Area 11</th>\n",
       "      <td>1.32E+06</td>\n",
       "      <td>1.34E+06</td>\n",
       "      <td>1.34E+06</td>\n",
       "    </tr>\n",
       "    <tr>\n",
       "      <th>Area 4011</th>\n",
       "      <td>1.91E+05</td>\n",
       "      <td>1.94E+05</td>\n",
       "      <td>1.94E+05</td>\n",
       "    </tr>\n",
       "    <tr>\n",
       "      <th>Area 4012</th>\n",
       "      <td>3.46E+04</td>\n",
       "      <td>3.49E+04</td>\n",
       "      <td>3.49E+04</td>\n",
       "    </tr>\n",
       "  </tbody>\n",
       "</table>\n",
       "</div>"
      ],
      "text/plain": [
       "                IPF         R       SAS\n",
       "Area 02    6.96E+05  7.02E+05  7.02E+05\n",
       "Area 11    1.32E+06  1.34E+06  1.34E+06\n",
       "Area 4011  1.91E+05  1.94E+05  1.94E+05\n",
       "Area 4012  3.46E+04  3.49E+04  3.49E+04"
      ]
     },
     "execution_count": 23,
     "metadata": {},
     "output_type": "execute_result"
    }
   ],
   "source": [
    "pd.DataFrame({\"SAS\":[\"{:0.2E}\".format(abs_dis.sum()[\"SAS 02\"]),\n",
    "                     \"{:0.2E}\".format(abs_dis.sum()[\"SAS 11\"]),\n",
    "                     \"{:0.2E}\".format(abs_dis.sum()[\"SAS 4011\"]),\n",
    "                     \"{:0.2E}\".format(abs_dis.sum()[\"SAS 4012\"])\n",
    "                     ],\n",
    "              \"R\":  [\"{:0.2E}\".format(abs_dis.sum()[\"R 02\"]),\n",
    "                     \"{:0.2E}\".format(abs_dis.sum()[\"R 11\"]),\n",
    "                     \"{:0.2E}\".format(abs_dis.sum()[\"R 4011\"]),\n",
    "                     \"{:0.2E}\".format(abs_dis.sum()[\"R 4012\"])\n",
    "                     ],\n",
    "              \"IPF\":[\"{:0.2E}\".format(abs_dis.sum()[\"IPF 02\"]),\n",
    "                     \"{:0.2E}\".format(abs_dis.sum()[\"IPF 11\"]),\n",
    "                     \"{:0.2E}\".format(abs_dis.sum()[\"IPF 4011\"]),\n",
    "                     \"{:0.2E}\".format(abs_dis.sum()[\"IPF 4012\"])\n",
    "                     ]},\n",
    "             index=[\"Area 02\", \"Area 11\", \"Area 4011\", \"Area 4012\"])"
   ]
  },
  {
   "cell_type": "code",
   "execution_count": 24,
   "metadata": {
    "collapsed": false
   },
   "outputs": [
    {
     "data": {
      "text/html": [
       "<div>\n",
       "<table border=\"1\" class=\"dataframe\">\n",
       "  <thead>\n",
       "    <tr style=\"text-align: right;\">\n",
       "      <th></th>\n",
       "      <th>IPF</th>\n",
       "      <th>R</th>\n",
       "      <th>SAS</th>\n",
       "    </tr>\n",
       "  </thead>\n",
       "  <tbody>\n",
       "    <tr>\n",
       "      <th>Area 02</th>\n",
       "      <td>5.89E-03</td>\n",
       "      <td>3.61E-03</td>\n",
       "      <td>3.61E-03</td>\n",
       "    </tr>\n",
       "    <tr>\n",
       "      <th>Area 11</th>\n",
       "      <td>2.64E-03</td>\n",
       "      <td>2.01E-03</td>\n",
       "      <td>1.04E-03</td>\n",
       "    </tr>\n",
       "    <tr>\n",
       "      <th>Area 4011</th>\n",
       "      <td>1.44E-06</td>\n",
       "      <td>5.95E-04</td>\n",
       "      <td>7.05E-04</td>\n",
       "    </tr>\n",
       "    <tr>\n",
       "      <th>Area 4012</th>\n",
       "      <td>1.78E-04</td>\n",
       "      <td>1.83E-04</td>\n",
       "      <td>2.62E-05</td>\n",
       "    </tr>\n",
       "  </tbody>\n",
       "</table>\n",
       "</div>"
      ],
      "text/plain": [
       "                IPF         R       SAS\n",
       "Area 02    5.89E-03  3.61E-03  3.61E-03\n",
       "Area 11    2.64E-03  2.01E-03  1.04E-03\n",
       "Area 4011  1.44E-06  5.95E-04  7.05E-04\n",
       "Area 4012  1.78E-04  1.83E-04  2.62E-05"
      ]
     },
     "execution_count": 24,
     "metadata": {},
     "output_type": "execute_result"
    }
   ],
   "source": [
    "pd.DataFrame({\"SAS\":[\"{:0.2E}\".format(abs_dis.min()[\"SAS 02\"]),\n",
    "                     \"{:0.2E}\".format(abs_dis.min()[\"SAS 11\"]),\n",
    "                     \"{:0.2E}\".format(abs_dis.min()[\"SAS 4011\"]),\n",
    "                     \"{:0.2E}\".format(abs_dis.min()[\"SAS 4012\"])\n",
    "                     ],\n",
    "              \"R\":  [\"{:0.2E}\".format(abs_dis.min()[\"R 02\"]),\n",
    "                     \"{:0.2E}\".format(abs_dis.min()[\"R 11\"]),\n",
    "                     \"{:0.2E}\".format(abs_dis.min()[\"R 4011\"]),\n",
    "                     \"{:0.2E}\".format(abs_dis.min()[\"R 4012\"])\n",
    "                     ],\n",
    "              \"IPF\":[\"{:0.2E}\".format(abs_dis.min()[\"IPF 02\"]),\n",
    "                     \"{:0.2E}\".format(abs_dis.min()[\"IPF 11\"]),\n",
    "                     \"{:0.2E}\".format(abs_dis.min()[\"IPF 4011\"]),\n",
    "                     \"{:0.2E}\".format(abs_dis.min()[\"IPF 4012\"])\n",
    "                     ]},\n",
    "             index=[\"Area 02\", \"Area 11\", \"Area 4011\", \"Area 4012\"])"
   ]
  },
  {
   "cell_type": "markdown",
   "metadata": {},
   "source": [
    "# 3. Weights difference"
   ]
  },
  {
   "cell_type": "code",
   "execution_count": 25,
   "metadata": {
    "collapsed": true
   },
   "outputs": [],
   "source": [
    "import seaborn as sns"
   ]
  },
  {
   "cell_type": "code",
   "execution_count": 26,
   "metadata": {
    "collapsed": false
   },
   "outputs": [],
   "source": [
    "#fig, [ax1, ax2, ax3] = plt.subplots(nrows=1, ncols=3, figsize=(16,6), sharey=True)\n",
    "#g = sns.jointplot(x=\"Weights SAS area 02\", y=\"Weights IPF area 02\", data=plot_data, kind=\"reg\")"
   ]
  },
  {
   "cell_type": "code",
   "execution_count": 27,
   "metadata": {
    "collapsed": false
   },
   "outputs": [
    {
     "data": {
      "image/png": "[encoded data removed]",
      "text/plain": [
       "<matplotlib.figure.Figure at 0x7f6f87429940>"
      ]
     },
     "metadata": {},
     "output_type": "display_data"
    }
   ],
   "source": [
    "fig, [ax1, ax2, ax3] = plt.subplots(nrows=1, ncols=3, figsize=(16,6), sharey=True)\n",
    "\n",
    "plot_data.plot(kind=\"scatter\", x=\"Weights SAS area 02\", y=\"Weights R area 02\", ax=ax1)\n",
    "x1 = np.arange(min(plot_data[\"Weights SAS area 02\"]), max(plot_data[\"Weights SAS area 02\"]), 10)\n",
    "ax1.plot(x1, x1, linestyle='--', color=\"red\", linewidth=1)\n",
    "ax1.text(0.05, 0.92, \"(a)\", fontsize=16, transform = ax1.transAxes)\n",
    "\n",
    "plot_data.plot(kind=\"scatter\", x=\"Weights SAS area 02\", y=\"Weights IPF area 02\", ax=ax2)\n",
    "x2 = np.arange(min(plot_data[\"Weights SAS area 02\"]), max(plot_data[\"Weights SAS area 02\"]), 10)\n",
    "ax2.plot(x2, x2, linestyle='--', color=\"red\", linewidth=1)\n",
    "ax2.text(0.05, 0.92, \"(b)\", fontsize=16, transform = ax2.transAxes)\n",
    "\n",
    "plot_data.plot(kind=\"scatter\", x=\"Weights R area 02\", y=\"Weights IPF area 02\", ax=ax3)\n",
    "x3 = np.arange(min(plot_data[\"Weights SAS area 02\"]), max(plot_data[\"Weights SAS area 02\"]), 10)\n",
    "ax3.plot(x3, x3, linestyle='--', color=\"red\", linewidth=1)\n",
    "ax3.text(0.05, 0.92, \"(c)\", fontsize=16, transform = ax3.transAxes)\n",
    "title = 'Comparison of weights for simulation area 02'\n",
    "\n",
    "ax2.set_title(title)\n",
    "plt.savefig(\"FIGURES/weights02.pdf\", format=\"pdf\", bbox_inches='tight')"
   ]
  },
  {
   "cell_type": "markdown",
   "metadata": {
    "slideshow": {
     "slide_type": "skip"
    }
   },
   "source": [
    "**Figure 1.a:** Comparison between estimated weights of the GREGWT **SAS** and **R** implementations and **IPF** for simulation area 02."
   ]
  },
  {
   "cell_type": "code",
   "execution_count": 28,
   "metadata": {
    "collapsed": false
   },
   "outputs": [
    {
     "data": {
      "image/png": "[encoded data removed]",
      "text/plain": [
       "<matplotlib.figure.Figure at 0x7f6f86da70b8>"
      ]
     },
     "metadata": {},
     "output_type": "display_data"
    }
   ],
   "source": [
    "fig, [ax1, ax2, ax3] = plt.subplots(nrows=1, ncols=3, figsize=(16,6), sharey=True)\n",
    "\n",
    "plot_data.plot(kind=\"scatter\", x=\"Weights SAS area 4011\", y=\"Weights R area 4011\", ax=ax1)\n",
    "x1 = np.arange(min(plot_data[\"Weights SAS area 4011\"]), max(plot_data[\"Weights SAS area 4011\"]), 10)\n",
    "ax1.plot(x1, x1, linestyle='--', color=\"red\", linewidth=1)\n",
    "ax1.text(0.05, 0.92, \"(a)\", fontsize=16, transform = ax1.transAxes)\n",
    "\n",
    "plot_data.plot(kind=\"scatter\", x=\"Weights SAS area 4011\", y=\"Weights IPF area 4011\", ax=ax2)\n",
    "x2 = np.arange(min(plot_data[\"Weights SAS area 4011\"]), max(plot_data[\"Weights SAS area 4011\"]), 10)\n",
    "ax2.plot(x2, x2, linestyle='--', color=\"red\", linewidth=1)\n",
    "ax2.text(0.05, 0.92, \"(b)\", fontsize=16, transform = ax2.transAxes)\n",
    "\n",
    "plot_data.plot(kind=\"scatter\", x=\"Weights R area 4011\", y=\"Weights IPF area 4011\", ax=ax3)\n",
    "x3 = np.arange(min(plot_data[\"Weights SAS area 4011\"]), max(plot_data[\"Weights SAS area 4011\"]), 10)\n",
    "ax3.plot(x3, x3, linestyle='--', color=\"red\", linewidth=1)\n",
    "ax3.text(0.05, 0.92, \"(c)\", fontsize=16, transform = ax3.transAxes)\n",
    "\n",
    "title = 'Comparison of weights for simulation area 4011'\n",
    "ax2.set_title(title)\n",
    "plt.savefig(\"FIGURES/weights4011.pdf\", format=\"pdf\", bbox_inches='tight')"
   ]
  },
  {
   "cell_type": "markdown",
   "metadata": {},
   "source": [
    "**Figure 1.b:** Comparison between estimated weights of the GREGWT **SAS** and **R** implementations and **IPF** for simulation area 4011."
   ]
  },
  {
   "cell_type": "markdown",
   "metadata": {},
   "source": [
    "##Relative absolute weight diference"
   ]
  },
  {
   "cell_type": "markdown",
   "metadata": {},
   "source": [
    "$$\n",
    "\\begin{equation}\n",
    "    WD_j = \\left|\\frac{w_{i,j}^R}{pop_j} - \\frac{w_{i,j}^{SAS}}{pop_j} \\right| \\div n\n",
    "\\end{equation}\n",
    "$$"
   ]
  },
  {
   "cell_type": "code",
   "execution_count": 29,
   "metadata": {
    "collapsed": true
   },
   "outputs": [],
   "source": [
    "def getDiff(a, b, pop):\n",
    "    D = abs(plot_data[a].div(pop) - plot_data[b].div(pop)).mean()\n",
    "    return(D)"
   ]
  },
  {
   "cell_type": "code",
   "execution_count": 30,
   "metadata": {
    "collapsed": false
   },
   "outputs": [],
   "source": [
    "WD = pd.DataFrame({\n",
    "        \"IPF --- SAS\": [getDiff(\"Weights SAS area 02\", \"Weights IPF area 02\", population_totals.loc[2, \"Age\"]),\n",
    "                    getDiff(\"Weights SAS area 11\", \"Weights IPF area 11\", population_totals.loc[11, \"Age\"]),\n",
    "                    getDiff(\"Weights SAS area 4011\", \"Weights IPF area 4011\", population_totals.loc[4011, \"Age\"]),\n",
    "                    getDiff(\"Weights SAS area 4012\", \"Weights IPF area 4012\", population_totals.loc[4012, \"Age\"])],\n",
    "        #\"R - IPF\": [getDiff(\"Weights R area 02\", \"Weights IPF area 02\"),\n",
    "        #            getDiff(\"Weights R area 11\", \"Weights IPF area 11\"),\n",
    "        #            getDiff(\"Weights R area 4011\", \"Weights IPF area 4011\"),\n",
    "        #            getDiff(\"Weights R area 4012\", \"Weights IPF area 4012\")],\n",
    "        \"R --- SAS\": [getDiff(\"Weights R area 02\", \"Weights SAS area 02\", population_totals.loc[2, \"Age\"]),\n",
    "                    getDiff(\"Weights R area 11\", \"Weights SAS area 11\", population_totals.loc[11, \"Age\"]),\n",
    "                    getDiff(\"Weights R area 4011\", \"Weights SAS area 4011\", population_totals.loc[4011, \"Age\"]),\n",
    "                    getDiff(\"Weights R area 4012\", \"Weights SAS area 4012\",population_totals.loc[4012, \"Age\"])],\n",
    "    }, index=[\"Area 02\", \"Area 11\", \"Area 4011\", \"Area 4012\"])"
   ]
  },
  {
   "cell_type": "code",
   "execution_count": 31,
   "metadata": {
    "collapsed": false
   },
   "outputs": [
    {
     "data": {
      "text/html": [
       "<div>\n",
       "<table border=\"1\" class=\"dataframe\">\n",
       "  <thead>\n",
       "    <tr style=\"text-align: right;\">\n",
       "      <th></th>\n",
       "      <th>IPF --- SAS</th>\n",
       "      <th>R --- SAS</th>\n",
       "    </tr>\n",
       "  </thead>\n",
       "  <tbody>\n",
       "    <tr>\n",
       "      <th>Area 02</th>\n",
       "      <td>0.017706</td>\n",
       "      <td>8.047782e-12</td>\n",
       "    </tr>\n",
       "    <tr>\n",
       "      <th>Area 11</th>\n",
       "      <td>0.029411</td>\n",
       "      <td>8.849590e-04</td>\n",
       "    </tr>\n",
       "    <tr>\n",
       "      <th>Area 4011</th>\n",
       "      <td>0.020021</td>\n",
       "      <td>3.309373e-03</td>\n",
       "    </tr>\n",
       "    <tr>\n",
       "      <th>Area 4012</th>\n",
       "      <td>0.015893</td>\n",
       "      <td>2.794543e-03</td>\n",
       "    </tr>\n",
       "  </tbody>\n",
       "</table>\n",
       "</div>"
      ],
      "text/plain": [
       "           IPF --- SAS     R --- SAS\n",
       "Area 02       0.017706  8.047782e-12\n",
       "Area 11       0.029411  8.849590e-04\n",
       "Area 4011     0.020021  3.309373e-03\n",
       "Area 4012     0.015893  2.794543e-03"
      ]
     },
     "execution_count": 31,
     "metadata": {},
     "output_type": "execute_result"
    }
   ],
   "source": [
    "WD"
   ]
  },
  {
   "cell_type": "code",
   "execution_count": 32,
   "metadata": {
    "collapsed": false
   },
   "outputs": [],
   "source": [
    "with open(\"TABLES/weight_difference.tex\", \"w\") as f:\n",
    "    f.write(\"\\\\begin{table}[htb]\\n\")\n",
    "    f.write(\"\\\\caption{Absolute weight difference between implementations}\\label{tab:wd}\\n\")\n",
    "    f.write(\"\\\\centering\\n\")\n",
    "    f.write(WD.to_latex(float_format=lambda x: '%0.3e' % x, bold_rows = True))\n",
    "    f.write(\"\\\\end{table}\")\n",
    "#print(WD.to_latex(float_format=lambda x: '%0.3e' % x))"
   ]
  },
  {
   "cell_type": "markdown",
   "metadata": {
    "slideshow": {
     "slide_type": "slide"
    }
   },
   "source": [
    "# 4. Total Absolute Error"
   ]
  },
  {
   "cell_type": "markdown",
   "metadata": {
    "slideshow": {
     "slide_type": "fragment"
    }
   },
   "source": [
    "This measure is commonly used for the internal validation of spatial microsimulation models. The total absolute error measures the absolute difference between benchmark totals of small areas and estimated marginal totals for the same area. Ideally this measure is close to 0."
   ]
  },
  {
   "cell_type": "markdown",
   "metadata": {
    "slideshow": {
     "slide_type": "fragment"
    }
   },
   "source": [
    "$$\n",
    "\\begin{equation}\n",
    "    TAE = \\sum_i^n |Tx - \\hat{t}x|\n",
    "\\end{equation}\n",
    "$$"
   ]
  },
  {
   "cell_type": "code",
   "execution_count": 33,
   "metadata": {
    "collapsed": false
   },
   "outputs": [],
   "source": [
    "area_codes = [\"02\", \"11\", \"4011\", \"4012\"]"
   ]
  },
  {
   "cell_type": "code",
   "execution_count": 34,
   "metadata": {
    "collapsed": false,
    "slideshow": {
     "slide_type": "skip"
    }
   },
   "outputs": [],
   "source": [
    "cat_index = []\n",
    "for col in [\"Age\", \"Marital.Status\", \"Household.Size\"]:\n",
    "    cat_index.extend(survey[col].cat.categories)\n",
    "cat_index.extend([\"pop\"])"
   ]
  },
  {
   "cell_type": "code",
   "execution_count": 35,
   "metadata": {
    "collapsed": false,
    "slideshow": {
     "slide_type": "skip"
    }
   },
   "outputs": [],
   "source": [
    "TAE = pd.DataFrame(index=cat_index)\n",
    "for language in [\"R\", \"SAS\", \"IPF\"]:\n",
    "    for area in area_codes:\n",
    "        dat = dict()\n",
    "        for col in [\"Age\", \"Marital.Status\", \"Household.Size\"]:\n",
    "            for cat in survey[col].cat.categories:\n",
    "                mar_sum = sum(plot_data[\"Weights {} area {}\".format(language, area)][survey[col] == cat])\n",
    "                dat[cat] = mar_sum\n",
    "        dat[\"pop\"] = sum(plot_data[\"Weights {} area {}\".format(language, area)])\n",
    "        dat = pd.Series(dat)\n",
    "        dat.reset_index\n",
    "        TAE[\"{} area {}\".format(language, area)] = dat\n",
    "census_dat = census.T\n",
    "census_dat.columns = area_codes\n",
    "TAE = pd.merge(TAE, census_dat, left_index=True, right_index=True)"
   ]
  },
  {
   "cell_type": "markdown",
   "metadata": {
    "slideshow": {
     "slide_type": "skip"
    }
   },
   "source": [
    "**Table 5:** Total absolute error $TAE$ for all categories and areas for both the SAS macros and the R implementation"
   ]
  },
  {
   "cell_type": "markdown",
   "metadata": {
    "slideshow": {
     "slide_type": "slide"
    }
   },
   "source": [
    "## 4.1 Comparison of marginal totals between implementations"
   ]
  },
  {
   "cell_type": "code",
   "execution_count": 36,
   "metadata": {
    "collapsed": false
   },
   "outputs": [
    {
     "data": {
      "image/png": "[encoded data removed]",
      "text/plain": [
       "<matplotlib.figure.Figure at 0x7f6f87046320>"
      ]
     },
     "metadata": {},
     "output_type": "display_data"
    }
   ],
   "source": [
    "fig, [ax1, ax2, ax3] = plt.subplots(nrows=1, ncols=3, figsize=(16,6), sharey=True)\n",
    "TAE.plot(kind=\"scatter\", x=\"SAS area 02\", y=\"R area 02\", ax = ax1)\n",
    "x1 = np.arange(min(TAE[\"SAS area 02\"]), max(TAE[\"SAS area 02\"]), 10)\n",
    "ax1.text(0.05, 0.92, \"(a)\", fontsize=16, transform = ax1.transAxes)\n",
    "ax1.plot(x1, x1, linestyle='--', color=\"red\", linewidth=1)\n",
    "TAE.plot(kind=\"scatter\", x=\"SAS area 02\", y=\"IPF area 02\", ax = ax2)\n",
    "x2 = np.arange(min(TAE[\"SAS area 02\"]), max(TAE[\"SAS area 02\"]), 10)\n",
    "ax2.plot(x2, x2, linestyle='--', color=\"red\", linewidth=1)\n",
    "ax2.text(0.05, 0.92, \"(b)\", fontsize=16, transform = ax2.transAxes)\n",
    "TAE.plot(kind=\"scatter\", x=\"IPF area 02\", y=\"R area 02\", ax = ax3)\n",
    "x3 = np.arange(min(TAE[\"IPF area 02\"]), max(TAE[\"IPF area 02\"]), 10)\n",
    "ax3.plot(x3, x3, linestyle='--', color=\"red\", linewidth=1)\n",
    "ax3.text(0.05, 0.92, \"(c)\", fontsize=16, transform = ax3.transAxes)\n",
    "title = 'Comparison of marginal totals for simulation area 02'\n",
    "ax2.set_title(title)\n",
    "plt.savefig(\"FIGURES/marginaltot02.pdf\", format=\"pdf\", bbox_inches='tight')"
   ]
  },
  {
   "cell_type": "markdown",
   "metadata": {
    "slideshow": {
     "slide_type": "skip"
    }
   },
   "source": [
    "**Figure 2:** Comparison between marginal sums of the **SAS** and **R** implementations and **IPF** for simulation area 02."
   ]
  },
  {
   "cell_type": "markdown",
   "metadata": {
    "slideshow": {
     "slide_type": "slide"
    }
   },
   "source": [
    "## 4.2 Comparison of marginal totals between simulations and census data (TAE)"
   ]
  },
  {
   "cell_type": "code",
   "execution_count": 37,
   "metadata": {
    "collapsed": false,
    "slideshow": {
     "slide_type": "fragment"
    }
   },
   "outputs": [],
   "source": [
    "#for acode in area_codes:\n",
    "#    sns.jointplot(\"{}\".format(acode),\n",
    "#                  \"R area {}\".format(acode),\n",
    "#                   TAE, kind=\"reg\", color=\"seagreen\");"
   ]
  },
  {
   "cell_type": "code",
   "execution_count": 38,
   "metadata": {
    "collapsed": false
   },
   "outputs": [
    {
     "data": {
      "image/png": "[encoded data removed]",
      "text/plain": [
       "<matplotlib.figure.Figure at 0x7f6f86e88588>"
      ]
     },
     "metadata": {},
     "output_type": "display_data"
    }
   ],
   "source": [
    "fig, [ax1, ax2, ax3] = plt.subplots(nrows=1, ncols=3, figsize=(16,6), sharey=True)\n",
    "TAE.plot(kind=\"scatter\", x=\"R area 02\", y=\"02\", ax=ax1)\n",
    "TAE.plot(kind=\"scatter\", x=\"SAS area 02\", y=\"02\", ax=ax2)\n",
    "TAE.plot(kind=\"scatter\", x=\"IPF area 02\", y=\"02\", ax=ax3)\n",
    "x1 = np.arange(min(TAE[\"R area 02\"]), max(TAE[\"R area 02\"]), 10)\n",
    "ax1.plot(x1, x1, linestyle='--', color=\"red\", linewidth=1)\n",
    "ax2.plot(x1, x1, linestyle='--', color=\"red\", linewidth=1)\n",
    "ax3.plot(x1, x1, linestyle='--', color=\"red\", linewidth=1)\n",
    "ax1.text(0.05, 0.92, \"(a)\", fontsize=16, transform = ax1.transAxes)\n",
    "ax2.text(0.05, 0.92, \"(b)\", fontsize=16, transform = ax2.transAxes)\n",
    "ax3.text(0.05, 0.92, \"(c)\", fontsize=16, transform = ax3.transAxes)\n",
    "ax1.set_ylabel(\"Observed\")\n",
    "ax2.set_ylabel(\"\")\n",
    "ax3.set_ylabel(\"\")\n",
    "title = 'Comparison between estimated and real benchmarks for simulation area 02'\n",
    "ax2.set_title(title)\n",
    "plt.savefig(\"FIGURES/marginaltotTAE.pdf\", format=\"pdf\", bbox_inches='tight')"
   ]
  },
  {
   "cell_type": "markdown",
   "metadata": {
    "slideshow": {
     "slide_type": "skip"
    }
   },
   "source": [
    "**Figure 3:** Comparison between simulated marginal sums and census constrains for: (a) the **R** implementation of the GREGWT algorithm; (b) the **SAS** macros; and (c) **IPF**."
   ]
  },
  {
   "cell_type": "markdown",
   "metadata": {
    "slideshow": {
     "slide_type": "slide"
    }
   },
   "source": [
    "## 4.3 Total absolute error of the R and SAS implementations"
   ]
  },
  {
   "cell_type": "code",
   "execution_count": 39,
   "metadata": {
    "collapsed": false,
    "slideshow": {
     "slide_type": "skip"
    }
   },
   "outputs": [],
   "source": [
    "TAE_val = pd.DataFrame(index=TAE.index)\n",
    "for language in [\"R\", \"SAS\", \"IPF\"]:\n",
    "    for area in area_codes:\n",
    "        TAE_val[\"{} area {}\".format(language, area)] = abs(TAE[\"{} area {}\".format(language, area)] - TAE[area])"
   ]
  },
  {
   "cell_type": "code",
   "execution_count": 40,
   "metadata": {
    "collapsed": false,
    "slideshow": {
     "slide_type": "fragment"
    }
   },
   "outputs": [
    {
     "data": {
      "text/html": [
       "<div>\n",
       "<table border=\"1\" class=\"dataframe\">\n",
       "  <thead>\n",
       "    <tr style=\"text-align: right;\">\n",
       "      <th></th>\n",
       "      <th>R area 02</th>\n",
       "      <th>R area 11</th>\n",
       "      <th>R area 4011</th>\n",
       "      <th>R area 4012</th>\n",
       "      <th>SAS area 02</th>\n",
       "      <th>SAS area 11</th>\n",
       "      <th>SAS area 4011</th>\n",
       "      <th>SAS area 4012</th>\n",
       "      <th>IPF area 02</th>\n",
       "      <th>IPF area 11</th>\n",
       "      <th>IPF area 4011</th>\n",
       "      <th>IPF area 4012</th>\n",
       "    </tr>\n",
       "  </thead>\n",
       "  <tbody>\n",
       "    <tr>\n",
       "      <th>Under.3</th>\n",
       "      <td>2.182787e-11</td>\n",
       "      <td>4.365575e-11</td>\n",
       "      <td>1.818989e-12</td>\n",
       "      <td>9.094947e-13</td>\n",
       "      <td>1.631997e-08</td>\n",
       "      <td>7.679046e-08</td>\n",
       "      <td>38.352358</td>\n",
       "      <td>1.018634e-10</td>\n",
       "      <td>5.760375</td>\n",
       "      <td>21.280306</td>\n",
       "      <td>5.914031</td>\n",
       "      <td>2.444455</td>\n",
       "    </tr>\n",
       "    <tr>\n",
       "      <th>3...5</th>\n",
       "      <td>8.003553e-11</td>\n",
       "      <td>2.910383e-11</td>\n",
       "      <td>5.456968e-12</td>\n",
       "      <td>1.364242e-12</td>\n",
       "      <td>1.081207e-08</td>\n",
       "      <td>4.858884e-08</td>\n",
       "      <td>22.893858</td>\n",
       "      <td>2.998604e-09</td>\n",
       "      <td>0.158251</td>\n",
       "      <td>0.577320</td>\n",
       "      <td>0.141947</td>\n",
       "      <td>0.065376</td>\n",
       "    </tr>\n",
       "    <tr>\n",
       "      <th>6...14</th>\n",
       "      <td>3.201421e-10</td>\n",
       "      <td>2.328306e-10</td>\n",
       "      <td>5.093170e-11</td>\n",
       "      <td>5.456968e-12</td>\n",
       "      <td>3.899913e-09</td>\n",
       "      <td>2.170564e-07</td>\n",
       "      <td>43.489107</td>\n",
       "      <td>7.405106e-09</td>\n",
       "      <td>0.460000</td>\n",
       "      <td>1.591777</td>\n",
       "      <td>0.459492</td>\n",
       "      <td>0.206630</td>\n",
       "    </tr>\n",
       "    <tr>\n",
       "      <th>15...17</th>\n",
       "      <td>7.275958e-12</td>\n",
       "      <td>4.365575e-11</td>\n",
       "      <td>2.182787e-11</td>\n",
       "      <td>1.364242e-12</td>\n",
       "      <td>4.416506e-09</td>\n",
       "      <td>3.541936e-08</td>\n",
       "      <td>14.151112</td>\n",
       "      <td>1.098670e-09</td>\n",
       "      <td>0.146668</td>\n",
       "      <td>0.489733</td>\n",
       "      <td>0.161116</td>\n",
       "      <td>0.074110</td>\n",
       "    </tr>\n",
       "    <tr>\n",
       "      <th>18...24</th>\n",
       "      <td>2.619345e-10</td>\n",
       "      <td>2.328306e-10</td>\n",
       "      <td>1.527951e-10</td>\n",
       "      <td>1.455192e-11</td>\n",
       "      <td>6.318442e-08</td>\n",
       "      <td>4.784670e-08</td>\n",
       "      <td>82.028325</td>\n",
       "      <td>4.676622e-09</td>\n",
       "      <td>0.480309</td>\n",
       "      <td>1.806173</td>\n",
       "      <td>0.551152</td>\n",
       "      <td>0.215357</td>\n",
       "    </tr>\n",
       "  </tbody>\n",
       "</table>\n",
       "</div>"
      ],
      "text/plain": [
       "            R area 02     R area 11   R area 4011   R area 4012   SAS area 02  \\\n",
       "Under.3  2.182787e-11  4.365575e-11  1.818989e-12  9.094947e-13  1.631997e-08   \n",
       "3...5    8.003553e-11  2.910383e-11  5.456968e-12  1.364242e-12  1.081207e-08   \n",
       "6...14   3.201421e-10  2.328306e-10  5.093170e-11  5.456968e-12  3.899913e-09   \n",
       "15...17  7.275958e-12  4.365575e-11  2.182787e-11  1.364242e-12  4.416506e-09   \n",
       "18...24  2.619345e-10  2.328306e-10  1.527951e-10  1.455192e-11  6.318442e-08   \n",
       "\n",
       "          SAS area 11  SAS area 4011  SAS area 4012  IPF area 02  IPF area 11  \\\n",
       "Under.3  7.679046e-08      38.352358   1.018634e-10     5.760375    21.280306   \n",
       "3...5    4.858884e-08      22.893858   2.998604e-09     0.158251     0.577320   \n",
       "6...14   2.170564e-07      43.489107   7.405106e-09     0.460000     1.591777   \n",
       "15...17  3.541936e-08      14.151112   1.098670e-09     0.146668     0.489733   \n",
       "18...24  4.784670e-08      82.028325   4.676622e-09     0.480309     1.806173   \n",
       "\n",
       "         IPF area 4011  IPF area 4012  \n",
       "Under.3       5.914031       2.444455  \n",
       "3...5         0.141947       0.065376  \n",
       "6...14        0.459492       0.206630  \n",
       "15...17       0.161116       0.074110  \n",
       "18...24       0.551152       0.215357  "
      ]
     },
     "execution_count": 40,
     "metadata": {},
     "output_type": "execute_result"
    }
   ],
   "source": [
    "TAE_val.head()"
   ]
  },
  {
   "cell_type": "markdown",
   "metadata": {
    "slideshow": {
     "slide_type": "skip"
    }
   },
   "source": [
    "**Table 6:** Computed $TAE$ for individual benchmarks for all simulation."
   ]
  },
  {
   "cell_type": "code",
   "execution_count": 41,
   "metadata": {
    "collapsed": false,
    "slideshow": {
     "slide_type": "skip"
    }
   },
   "outputs": [],
   "source": [
    "TAE_val.index = [\"const{:02d}\".format(i) + \"_\" + e for i, e in enumerate(TAE_val.index)]"
   ]
  },
  {
   "cell_type": "code",
   "execution_count": 42,
   "metadata": {
    "collapsed": true
   },
   "outputs": [],
   "source": [
    "TAE_val.to_csv(\"TAE.csv\")"
   ]
  },
  {
   "cell_type": "markdown",
   "metadata": {
    "slideshow": {
     "slide_type": "slide"
    }
   },
   "source": [
    "### 4.3.1 Total absolute error $TAE$ of the individual constrains for the diffrent simulations"
   ]
  },
  {
   "cell_type": "code",
   "execution_count": 43,
   "metadata": {
    "collapsed": false
   },
   "outputs": [
    {
     "data": {
      "text/plain": [
       "24"
      ]
     },
     "execution_count": 43,
     "metadata": {},
     "output_type": "execute_result"
    }
   ],
   "source": [
    "len(TAE_val.index.tolist())"
   ]
  },
  {
   "cell_type": "code",
   "execution_count": 44,
   "metadata": {
    "collapsed": false
   },
   "outputs": [
    {
     "data": {
      "text/plain": [
       "24"
      ]
     },
     "execution_count": 44,
     "metadata": {},
     "output_type": "execute_result"
    }
   ],
   "source": [
    "TAE_val.shape[0]"
   ]
  },
  {
   "cell_type": "code",
   "execution_count": 45,
   "metadata": {
    "collapsed": false,
    "slideshow": {
     "slide_type": "fragment"
    }
   },
   "outputs": [
    {
     "data": {
      "image/png": "[encoded data removed]",
      "text/plain": [
       "<matplotlib.figure.Figure at 0x7f6f86e41358>"
      ]
     },
     "metadata": {},
     "output_type": "display_data"
    }
   ],
   "source": [
    "xlab = [a.replace(\"const\", \"\") for a in TAE_val.index.tolist()]\n",
    "f, (ax1, ax2, ax3, ax4) = plt.subplots(4, 1, figsize=(12, 8), sharex=True)\n",
    "ind = np.arange(TAE_val.shape[0])\n",
    "width = 0.33\n",
    "\n",
    "rects1 = ax1.bar(ind, TAE_val[\"SAS area 02\"], width, color=colors[0])\n",
    "rects2 = ax1.bar(ind+width, TAE_val[\"R area 02\"], width, color=colors[1])\n",
    "rects3 = ax1.bar(ind+width+width, TAE_val[\"IPF area 02\"], width, color=colors[2])\n",
    "ax1.set_title('Total Absolute Error for all constrains\\n\\n(a) simulation area 02')\n",
    "\n",
    "rects1 = ax2.bar(ind, TAE_val[\"SAS area 11\"], width, color=colors[0])\n",
    "rects2 = ax2.bar(ind+width, TAE_val[\"R area 11\"], width, color=colors[1])\n",
    "rects3 = ax2.bar(ind+width+width, TAE_val[\"IPF area 11\"], width, color=colors[2])\n",
    "ax2.set_title('(b) simulation area 11')\n",
    "\n",
    "rects1 = ax3.bar(ind, TAE_val[\"SAS area 4011\"], width, color=colors[0])\n",
    "rects2 = ax3.bar(ind+width, TAE_val[\"R area 4011\"], width, color=colors[1])\n",
    "rects3 = ax3.bar(ind+width+width, TAE_val[\"IPF area 4011\"], width, color=colors[2])\n",
    "ax3.set_title('(c) simulation area 4011')\n",
    "\n",
    "rects1 = ax4.bar(ind, TAE_val[\"SAS area 4012\"], width, color=colors[0])\n",
    "rects2 = ax4.bar(ind+width, TAE_val[\"R area 4012\"], width, color=colors[1])\n",
    "rects3 = ax4.bar(ind+width+width, TAE_val[\"IPF area 4012\"], width, color=colors[2])\n",
    "ax4.set_title('(d) simulation area 4012')\n",
    "\n",
    "ax4.set_xticks(ind + width)\n",
    "ax4.set_xticklabels( xlab )\n",
    "\n",
    "ax1.legend( (rects1[0], rects2[0], rects3[0]), ('SAS', 'R', 'IPF') )\n",
    "plt.xticks(rotation=90);\n",
    "plt.savefig(\"FIGURES/TAE02.pdf\", format=\"pdf\", bbox_inches='tight', pad_inches=0)"
   ]
  },
  {
   "cell_type": "markdown",
   "metadata": {
    "slideshow": {
     "slide_type": "skip"
    }
   },
   "source": [
    "**Figure 4:** Total Absolute Error for all constrains for all simulations."
   ]
  },
  {
   "cell_type": "markdown",
   "metadata": {
    "slideshow": {
     "slide_type": "slide"
    }
   },
   "source": [
    "### 4.3.2 Sum of the total absolute error $TAE$ for all simulation areas"
   ]
  },
  {
   "cell_type": "code",
   "execution_count": 46,
   "metadata": {
    "collapsed": false
   },
   "outputs": [],
   "source": [
    "tuples = [(i.split(\" \")[0], i.split(\" \")[-1]) for i in TAE_val.columns.tolist()]\n",
    "index = pd.MultiIndex.from_tuples(tuples, names=['implementation', 'area'])"
   ]
  },
  {
   "cell_type": "code",
   "execution_count": 47,
   "metadata": {
    "collapsed": false,
    "slideshow": {
     "slide_type": "fragment"
    }
   },
   "outputs": [
    {
     "data": {
      "text/html": [
       "<div>\n",
       "<table border=\"1\" class=\"dataframe\">\n",
       "  <thead>\n",
       "    <tr style=\"text-align: right;\">\n",
       "      <th></th>\n",
       "      <th></th>\n",
       "      <th>sumTAE</th>\n",
       "    </tr>\n",
       "    <tr>\n",
       "      <th>implementation</th>\n",
       "      <th>area</th>\n",
       "      <th></th>\n",
       "    </tr>\n",
       "  </thead>\n",
       "  <tbody>\n",
       "    <tr>\n",
       "      <th rowspan=\"4\" valign=\"top\">R</th>\n",
       "      <th>02</th>\n",
       "      <td>206.000000</td>\n",
       "    </tr>\n",
       "    <tr>\n",
       "      <th>11</th>\n",
       "      <td>739.000000</td>\n",
       "    </tr>\n",
       "    <tr>\n",
       "      <th>4011</th>\n",
       "      <td>247.000000</td>\n",
       "    </tr>\n",
       "    <tr>\n",
       "      <th>4012</th>\n",
       "      <td>100.000000</td>\n",
       "    </tr>\n",
       "    <tr>\n",
       "      <th rowspan=\"4\" valign=\"top\">SAS</th>\n",
       "      <th>02</th>\n",
       "      <td>206.000002</td>\n",
       "    </tr>\n",
       "    <tr>\n",
       "      <th>11</th>\n",
       "      <td>739.000004</td>\n",
       "    </tr>\n",
       "    <tr>\n",
       "      <th>4011</th>\n",
       "      <td>1435.344196</td>\n",
       "    </tr>\n",
       "    <tr>\n",
       "      <th>4012</th>\n",
       "      <td>100.000000</td>\n",
       "    </tr>\n",
       "    <tr>\n",
       "      <th rowspan=\"4\" valign=\"top\">IPF</th>\n",
       "      <th>02</th>\n",
       "      <td>219.425104</td>\n",
       "    </tr>\n",
       "    <tr>\n",
       "      <th>11</th>\n",
       "      <td>788.027313</td>\n",
       "    </tr>\n",
       "    <tr>\n",
       "      <th>4011</th>\n",
       "      <td>260.792200</td>\n",
       "    </tr>\n",
       "    <tr>\n",
       "      <th>4012</th>\n",
       "      <td>105.650207</td>\n",
       "    </tr>\n",
       "  </tbody>\n",
       "</table>\n",
       "</div>"
      ],
      "text/plain": [
       "                          sumTAE\n",
       "implementation area             \n",
       "R              02     206.000000\n",
       "               11     739.000000\n",
       "               4011   247.000000\n",
       "               4012   100.000000\n",
       "SAS            02     206.000002\n",
       "               11     739.000004\n",
       "               4011  1435.344196\n",
       "               4012   100.000000\n",
       "IPF            02     219.425104\n",
       "               11     788.027313\n",
       "               4011   260.792200\n",
       "               4012   105.650207"
      ]
     },
     "execution_count": 47,
     "metadata": {},
     "output_type": "execute_result"
    }
   ],
   "source": [
    "TAE_sum = pd.DataFrame({\"sumTAE\":TAE_val.sum().tolist()}, index=index)\n",
    "TAE_sum"
   ]
  },
  {
   "cell_type": "markdown",
   "metadata": {
    "slideshow": {
     "slide_type": "skip"
    }
   },
   "source": [
    "**Table 7:** Sum of the $TAE$ for all areas and both implementations of the GREGWT algorithm."
   ]
  },
  {
   "cell_type": "code",
   "execution_count": 50,
   "metadata": {
    "collapsed": false
   },
   "outputs": [
    {
     "data": {
      "image/png": "[encoded data removed]",
      "text/plain": [
       "<matplotlib.figure.Figure at 0x7f6f86e410f0>"
      ]
     },
     "metadata": {},
     "output_type": "display_data"
    }
   ],
   "source": [
    "f, (ax1) = plt.subplots(1, 1, figsize=(8, 4), sharey=True)\n",
    "ind = np.arange(4)\n",
    "width = 0.23\n",
    "rects1 = ax1.bar(ind+width, TAE_sum.loc[[\"SAS\"],\"sumTAE\"].tolist(), width, color=colors[0])\n",
    "rects2 = ax1.bar(ind, TAE_sum.loc[[\"R\"],\"sumTAE\"].tolist(), width, color=colors[1])\n",
    "rects3 = ax1.bar(ind+width+width, TAE_sum.loc[[\"IPF\"],\"sumTAE\"].tolist(), width, color=colors[2])\n",
    "\n",
    "ax1.set_xticks(ind + width)\n",
    "ax1.set_xticklabels( [\"02\", \"11\", \"4011\", \"4012\"] )\n",
    "\n",
    "ax1.set_ylabel(\"TAE\")\n",
    "ax1.set_xlabel(\"Areas\")\n",
    "\n",
    "ax1.legend( (rects1[0], rects2[0], rects3[0]), ('SAS', 'R', 'IPF') )\n",
    "#plt.xticks(rotation=90);\n",
    "\n",
    "ax1.set_title('Total Absolute Error for the different implementations')\n",
    "plt.savefig(\"FIGURES/TAE03.pdf\", format=\"pdf\", bbox_inches='tight', pad_inches=0)"
   ]
  },
  {
   "cell_type": "markdown",
   "metadata": {
    "slideshow": {
     "slide_type": "skip"
    }
   },
   "source": [
    "**FIGURE 5:** Sum of the $TAE$ for all areas and all simulations."
   ]
  },
  {
   "cell_type": "markdown",
   "metadata": {
    "slideshow": {
     "slide_type": "slide"
    }
   },
   "source": [
    "# 5. Percentage Absolute Error"
   ]
  },
  {
   "cell_type": "markdown",
   "metadata": {
    "slideshow": {
     "slide_type": "fragment"
    }
   },
   "source": [
    "The *Standardized absolute error* $SAE$ aims to make the $TAE$ measure comparable between simulation which\n",
    "normally use different samples for the simulation. The *Percentage Absolute Error* $PSAE$ is the same measure as the $SAE$ measure but express its result as a percentage value.\n",
    "\n",
    "$$\n",
    "PSAE = \\sum_i^n |Tx - \\hat{t}x| \\div pop_i \\times 100\n",
    "$$"
   ]
  },
  {
   "cell_type": "code",
   "execution_count": 52,
   "metadata": {
    "collapsed": true
   },
   "outputs": [],
   "source": [
    "population_totals = pd.DataFrame(\n",
    "    {\"Age\":census.loc[:,\"Under.3\":\"75.and.over\"].sum(axis=1),\n",
    "     \"Marital.Status\":census.loc[:,\"Single\":\"Civil.union.terminated\"].sum(axis=1),\n",
    "     \"Household.Size\":census.loc[:,\"1.person\":\"6.or.more.people\"].sum(axis=1)})\n",
    "population_totals[\"mean\"] = population_totals.mean(axis=1)"
   ]
  },
  {
   "cell_type": "code",
   "execution_count": 53,
   "metadata": {
    "collapsed": false,
    "slideshow": {
     "slide_type": "fragment"
    }
   },
   "outputs": [
    {
     "data": {
      "text/html": [
       "<div>\n",
       "<table border=\"1\" class=\"dataframe\">\n",
       "  <thead>\n",
       "    <tr style=\"text-align: right;\">\n",
       "      <th></th>\n",
       "      <th>Age</th>\n",
       "      <th>Household.Size</th>\n",
       "      <th>Marital.Status</th>\n",
       "      <th>mean</th>\n",
       "    </tr>\n",
       "    <tr>\n",
       "      <th>Area.Code</th>\n",
       "      <th></th>\n",
       "      <th></th>\n",
       "      <th></th>\n",
       "      <th></th>\n",
       "    </tr>\n",
       "  </thead>\n",
       "  <tbody>\n",
       "    <tr>\n",
       "      <th>2</th>\n",
       "      <td>1706696</td>\n",
       "      <td>1668910</td>\n",
       "      <td>1706490</td>\n",
       "      <td>1694032.000000</td>\n",
       "    </tr>\n",
       "    <tr>\n",
       "      <th>11</th>\n",
       "      <td>3292365</td>\n",
       "      <td>3245207</td>\n",
       "      <td>3291626</td>\n",
       "      <td>3276399.333333</td>\n",
       "    </tr>\n",
       "    <tr>\n",
       "      <th>4011</th>\n",
       "      <td>542707</td>\n",
       "      <td>533355</td>\n",
       "      <td>542460</td>\n",
       "      <td>539507.333333</td>\n",
       "    </tr>\n",
       "    <tr>\n",
       "      <th>4012</th>\n",
       "      <td>108156</td>\n",
       "      <td>106603</td>\n",
       "      <td>108056</td>\n",
       "      <td>107605.000000</td>\n",
       "    </tr>\n",
       "  </tbody>\n",
       "</table>\n",
       "</div>"
      ],
      "text/plain": [
       "               Age  Household.Size  Marital.Status            mean\n",
       "Area.Code                                                         \n",
       "2          1706696         1668910         1706490  1694032.000000\n",
       "11         3292365         3245207         3291626  3276399.333333\n",
       "4011        542707          533355          542460   539507.333333\n",
       "4012        108156          106603          108056   107605.000000"
      ]
     },
     "execution_count": 53,
     "metadata": {},
     "output_type": "execute_result"
    }
   ],
   "source": [
    "population_totals"
   ]
  },
  {
   "cell_type": "markdown",
   "metadata": {
    "slideshow": {
     "slide_type": "skip"
    }
   },
   "source": [
    "**Table 8:** Estimated population totals for each simulation area."
   ]
  },
  {
   "cell_type": "markdown",
   "metadata": {
    "slideshow": {
     "slide_type": "fragment"
    }
   },
   "source": [
    "For the computation of the $PSAE$ error I use the estimated total population from benchmark `age` as this value is the one used in the re-weighting process for both implementations."
   ]
  },
  {
   "cell_type": "code",
   "execution_count": 54,
   "metadata": {
    "collapsed": false,
    "slideshow": {
     "slide_type": "skip"
    }
   },
   "outputs": [],
   "source": [
    "PSAE = pd.DataFrame(index=TAE_val.index)\n",
    "for language in [\"R\", \"SAS\", \"IPF\"]:\n",
    "    for area in area_codes:\n",
    "        psae_val = TAE_val[\"{} area {}\".format(language, area)] / population_totals.loc[int(area), \"Age\"] * 100\n",
    "        PSAE[\"{} area {}\".format(language, area)] = psae_val"
   ]
  },
  {
   "cell_type": "code",
   "execution_count": 56,
   "metadata": {
    "collapsed": true
   },
   "outputs": [],
   "source": [
    "PSAE.to_csv(\"PSAE.csv\")"
   ]
  },
  {
   "cell_type": "markdown",
   "metadata": {
    "slideshow": {
     "slide_type": "slide"
    }
   },
   "source": [
    "## 5.1 Percentage absolute error $PSAE$ for the different simulations"
   ]
  },
  {
   "cell_type": "code",
   "execution_count": 57,
   "metadata": {
    "collapsed": false
   },
   "outputs": [],
   "source": [
    "PSAE.index = [i.split(\"_\")[-1] for i in PSAE.index]"
   ]
  },
  {
   "cell_type": "code",
   "execution_count": 58,
   "metadata": {
    "collapsed": true
   },
   "outputs": [],
   "source": [
    "from matplotlib.ticker import FormatStrFormatter"
   ]
  },
  {
   "cell_type": "code",
   "execution_count": 59,
   "metadata": {
    "collapsed": false
   },
   "outputs": [
    {
     "data": {
      "image/png": "[encoded data removed]",
      "text/plain": [
       "<matplotlib.figure.Figure at 0x7f6f86e16f98>"
      ]
     },
     "metadata": {},
     "output_type": "display_data"
    }
   ],
   "source": [
    "#f, (ax1, ax2, ax3) = plt.subplots(1, 3, figsize=(12, 6))\n",
    "f = plt.figure(figsize=(12, 4)) \n",
    "gs = gridspec.GridSpec(2, 3, width_ratios=[11, 6, 6]) \n",
    "ax1 = plt.subplot(gs[0])\n",
    "ax2 = plt.subplot(gs[1])\n",
    "ax3 = plt.subplot(gs[2])\n",
    "\n",
    "PSAE.ix[:11,[\"02\" in i for i in PSAE.columns]].plot(\n",
    "    kind='bar', ax=ax1, title=\"(a) Age\")\n",
    "PSAE.ix[11:17,[\"02\" in i for i in PSAE.columns]].plot(\n",
    "    kind='bar', ax=ax2, title=\"(b) Marital Status\", legend=False)\n",
    "PSAE.ix[17:-1,[\"02\" in i for i in PSAE.columns]].plot(\n",
    "    kind='bar', ax=ax3, title=\"(c) Household Size\", legend=False)\n",
    "ax1.yaxis.set_major_formatter(FormatStrFormatter('%0.0e'))\n",
    "ax2.yaxis.set_major_formatter(FormatStrFormatter('%0.0e'))\n",
    "ax3.yaxis.set_major_formatter(FormatStrFormatter('%0.0e'))\n",
    "#ax1.set_xticks(\"\")\n",
    "ax1.set_xticklabels(\"\")\n",
    "ax2.set_xticklabels(\"\")\n",
    "ax3.set_xticklabels(\"\")\n",
    "ax1.set_ylabel(\"PSAE [%] Area 02\")\n",
    "\n",
    "plt.savefig(\"FIGURES/PSAEcat1.pdf\", format=\"pdf\", bbox_inches='tight', pad_inches=0)"
   ]
  },
  {
   "cell_type": "code",
   "execution_count": 60,
   "metadata": {
    "collapsed": false
   },
   "outputs": [
    {
     "data": {
      "image/png": "[encoded data removed]",
      "text/plain": [
       "<matplotlib.figure.Figure at 0x7f6f84fb89b0>"
      ]
     },
     "metadata": {},
     "output_type": "display_data"
    }
   ],
   "source": [
    "#f, (ax1, ax2, ax3) = plt.subplots(1, 3, figsize=(12, 6))\n",
    "f = plt.figure(figsize=(12, 4)) \n",
    "gs = gridspec.GridSpec(2, 3, width_ratios=[11, 6, 6]) \n",
    "ax1 = plt.subplot(gs[0])\n",
    "ax2 = plt.subplot(gs[1])\n",
    "ax3 = plt.subplot(gs[2])\n",
    "\n",
    "PSAE.ix[:11,[(\"11\" in i and not \"4011\" in i) for i in PSAE.columns]].plot(\n",
    "    kind='bar', ax=ax1, legend=False)\n",
    "PSAE.ix[11:17,[(\"11\" in i and not \"4011\" in i) for i in PSAE.columns]].plot(\n",
    "    kind='bar', ax=ax2, legend=False)\n",
    "PSAE.ix[17:-1,[(\"11\" in i and not \"4011\" in i) for i in PSAE.columns]].plot(\n",
    "    kind='bar', ax=ax3, legend=False)\n",
    "ax1.yaxis.set_major_formatter(FormatStrFormatter('%0.0e'))\n",
    "ax2.yaxis.set_major_formatter(FormatStrFormatter('%0.0e'))\n",
    "ax3.yaxis.set_major_formatter(FormatStrFormatter('%0.0e'))\n",
    "ax1.set_ylabel(\"PSAE [%] Area 11\")\n",
    "ax1.set_xticklabels(\"\")\n",
    "ax2.set_xticklabels(\"\")\n",
    "ax3.set_xticklabels(\"\")\n",
    "\n",
    "plt.savefig(\"FIGURES/PSAEcat2.pdf\", format=\"pdf\", bbox_inches='tight', pad_inches=0)"
   ]
  },
  {
   "cell_type": "code",
   "execution_count": 61,
   "metadata": {
    "collapsed": false
   },
   "outputs": [
    {
     "data": {
      "image/png": "[encoded data removed]",
      "text/plain": [
       "<matplotlib.figure.Figure at 0x7f6f84dd00b8>"
      ]
     },
     "metadata": {},
     "output_type": "display_data"
    }
   ],
   "source": [
    "#f, (ax1, ax2, ax3) = plt.subplots(1, 3, figsize=(12, 6))\n",
    "f = plt.figure(figsize=(12, 4)) \n",
    "gs = gridspec.GridSpec(2, 3, width_ratios=[11, 6, 6]) \n",
    "ax1 = plt.subplot(gs[0])\n",
    "ax2 = plt.subplot(gs[1])\n",
    "ax3 = plt.subplot(gs[2])\n",
    "\n",
    "PSAE.ix[:11,[\"4011\" in i for i in PSAE.columns]].plot(\n",
    "    kind='bar', ax=ax1, legend=False)\n",
    "PSAE.ix[11:17,[\"4011\" in i for i in PSAE.columns]].plot(\n",
    "    kind='bar', ax=ax2, legend=False)\n",
    "PSAE.ix[17:-1,[\"4011\" in i for i in PSAE.columns]].plot(\n",
    "    kind='bar', ax=ax3, legend=False)\n",
    "ax1.yaxis.set_major_formatter(FormatStrFormatter('%0.0e'))\n",
    "ax2.yaxis.set_major_formatter(FormatStrFormatter('%0.0e'))\n",
    "ax3.yaxis.set_major_formatter(FormatStrFormatter('%0.0e'))\n",
    "#ax1.set_xticks(\"\")\n",
    "ax1.set_xticklabels(\"\")\n",
    "ax2.set_xticklabels(\"\")\n",
    "ax3.set_xticklabels(\"\")\n",
    "ax1.set_ylabel(\"PSAE [%] Area 4011\")\n",
    "\n",
    "plt.savefig(\"FIGURES/PSAEcat3.pdf\", format=\"pdf\", bbox_inches='tight', pad_inches=0)"
   ]
  },
  {
   "cell_type": "code",
   "execution_count": 62,
   "metadata": {
    "collapsed": false
   },
   "outputs": [
    {
     "data": {
      "image/png": "[encoded data removed]",
      "text/plain": [
       "<matplotlib.figure.Figure at 0x7f6f84d65c18>"
      ]
     },
     "metadata": {},
     "output_type": "display_data"
    }
   ],
   "source": [
    "f = plt.figure(figsize=(12, 4)) \n",
    "gs = gridspec.GridSpec(2, 3, width_ratios=[11, 6, 6]) \n",
    "ax1 = plt.subplot(gs[0])\n",
    "ax2 = plt.subplot(gs[1])\n",
    "ax3 = plt.subplot(gs[2])\n",
    "\n",
    "PSAE.ix[:11,[\"4012\" in i for i in PSAE.columns]].plot(\n",
    "    kind='bar', ax=ax1, legend=False)\n",
    "PSAE.ix[11:17,[\"4012\" in i for i in PSAE.columns]].plot(\n",
    "    kind='bar', ax=ax2, legend=False)\n",
    "PSAE.ix[17:-1,[\"4012\" in i for i in PSAE.columns]].plot(\n",
    "    kind='bar', ax=ax3, legend=False)\n",
    "ax1.yaxis.set_major_formatter(FormatStrFormatter('%0.0e'))\n",
    "ax2.yaxis.set_major_formatter(FormatStrFormatter('%0.0e'))\n",
    "ax3.yaxis.set_major_formatter(FormatStrFormatter('%0.0e'))\n",
    "#ax1.set_xticks(\"\")\n",
    "#ax1.set_xticklabels(\"\")\n",
    "#ax2.set_xticklabels(\"\")\n",
    "#ax3.set_xticklabels(\"\")\n",
    "ax1.set_ylabel(\"PSAE [%] Area 4012\")\n",
    "\n",
    "plt.savefig(\"FIGURES/PSAEcat4.pdf\", format=\"pdf\", bbox_inches='tight', pad_inches=0)"
   ]
  },
  {
   "cell_type": "markdown",
   "metadata": {
    "slideshow": {
     "slide_type": "slide"
    }
   },
   "source": [
    "## 5.2 Comparison of the sum of the percentage absolute error $PSAE$"
   ]
  },
  {
   "cell_type": "code",
   "execution_count": 63,
   "metadata": {
    "collapsed": false,
    "slideshow": {
     "slide_type": "fragment"
    }
   },
   "outputs": [],
   "source": [
    "PSAE_sum = pd.DataFrame([\"{:E}\".format(psae) for psae in PSAE.sum()], columns=[\"PSAE\"])\n",
    "PSAE_sum.index = PSAE.columns"
   ]
  },
  {
   "cell_type": "markdown",
   "metadata": {
    "slideshow": {
     "slide_type": "skip"
    }
   },
   "source": [
    "**Table 13:** Sum of the percentage absolute error $PSAE$ for all simulation areas."
   ]
  },
  {
   "cell_type": "code",
   "execution_count": 64,
   "metadata": {
    "collapsed": false,
    "slideshow": {
     "slide_type": "fragment"
    }
   },
   "outputs": [
    {
     "data": {
      "image/png": "[encoded data removed]",
      "text/plain": [
       "<matplotlib.figure.Figure at 0x7f6f853b5390>"
      ]
     },
     "metadata": {},
     "output_type": "display_data"
    }
   ],
   "source": [
    "PSAE.sum().plot(kind=\"bar\");\n",
    "title = \"comparison between PSAE of the SAS macros and both R implementations\"\n",
    "plt.title(title);\n",
    "plt.savefig(\"FIGURES/sumPSAE02.pdf\", format=\"pdf\", bbox_inches='tight', pad_inches=0)"
   ]
  },
  {
   "cell_type": "markdown",
   "metadata": {
    "slideshow": {
     "slide_type": "skip"
    }
   },
   "source": [
    "**Figure 7:** Comparison between $PSAE$ of the **SAS** macros and the **R** implementation."
   ]
  },
  {
   "cell_type": "code",
   "execution_count": 65,
   "metadata": {
    "collapsed": false
   },
   "outputs": [
    {
     "data": {
      "text/html": [
       "<div>\n",
       "<table border=\"1\" class=\"dataframe\">\n",
       "  <thead>\n",
       "    <tr style=\"text-align: right;\">\n",
       "      <th></th>\n",
       "      <th>PSAE</th>\n",
       "    </tr>\n",
       "  </thead>\n",
       "  <tbody>\n",
       "    <tr>\n",
       "      <th>R area 02</th>\n",
       "      <td>0.012070</td>\n",
       "    </tr>\n",
       "    <tr>\n",
       "      <th>R area 11</th>\n",
       "      <td>0.022446</td>\n",
       "    </tr>\n",
       "    <tr>\n",
       "      <th>R area 4011</th>\n",
       "      <td>0.045513</td>\n",
       "    </tr>\n",
       "    <tr>\n",
       "      <th>R area 4012</th>\n",
       "      <td>0.092459</td>\n",
       "    </tr>\n",
       "    <tr>\n",
       "      <th>SAS area 02</th>\n",
       "      <td>0.012070</td>\n",
       "    </tr>\n",
       "    <tr>\n",
       "      <th>SAS area 11</th>\n",
       "      <td>0.022446</td>\n",
       "    </tr>\n",
       "    <tr>\n",
       "      <th>SAS area 4011</th>\n",
       "      <td>0.264479</td>\n",
       "    </tr>\n",
       "    <tr>\n",
       "      <th>SAS area 4012</th>\n",
       "      <td>0.092459</td>\n",
       "    </tr>\n",
       "    <tr>\n",
       "      <th>IPF area 02</th>\n",
       "      <td>0.012857</td>\n",
       "    </tr>\n",
       "    <tr>\n",
       "      <th>IPF area 11</th>\n",
       "      <td>0.023935</td>\n",
       "    </tr>\n",
       "    <tr>\n",
       "      <th>IPF area 4011</th>\n",
       "      <td>0.048054</td>\n",
       "    </tr>\n",
       "    <tr>\n",
       "      <th>IPF area 4012</th>\n",
       "      <td>0.097683</td>\n",
       "    </tr>\n",
       "  </tbody>\n",
       "</table>\n",
       "</div>"
      ],
      "text/plain": [
       "                   PSAE\n",
       "R area 02      0.012070\n",
       "R area 11      0.022446\n",
       "R area 4011    0.045513\n",
       "R area 4012    0.092459\n",
       "SAS area 02    0.012070\n",
       "SAS area 11    0.022446\n",
       "SAS area 4011  0.264479\n",
       "SAS area 4012  0.092459\n",
       "IPF area 02    0.012857\n",
       "IPF area 11    0.023935\n",
       "IPF area 4011  0.048054\n",
       "IPF area 4012  0.097683"
      ]
     },
     "execution_count": 65,
     "metadata": {},
     "output_type": "execute_result"
    }
   ],
   "source": [
    "pd.DataFrame(PSAE.sum(), columns=[\"PSAE\"])"
   ]
  },
  {
   "cell_type": "code",
   "execution_count": 73,
   "metadata": {
    "collapsed": false
   },
   "outputs": [],
   "source": [
    "PSAE_sum = PSAE.sum()\n",
    "PSAE_sum = pd.DataFrame({\n",
    "        \"GREGWT-R\": [PSAE_sum.loc[[(\"R\" in i) for i in PSAE_sum.index]].sum()],\n",
    "        \"IPF-R\": [PSAE_sum.loc[[(\"IPF\" in i) for i in PSAE_sum.index]].sum()],\n",
    "        #\"GREGWT-SAS\": [PSAE_sum.loc[[(\"SAS\" in i) for i in PSAE_sum.index]].sum()]\n",
    "    }, index=[\"PSAE\"])"
   ]
  },
  {
   "cell_type": "code",
   "execution_count": 75,
   "metadata": {
    "collapsed": false
   },
   "outputs": [
    {
     "data": {
      "image/png": "[encoded data removed]",
      "text/plain": [
       "<matplotlib.figure.Figure at 0x7f6f84ae2cc0>"
      ]
     },
     "metadata": {},
     "output_type": "display_data"
    }
   ],
   "source": [
    "ax = PSAE_sum.sum().plot(kind=\"bar\", ylim=[0.17, 0.185]);\n",
    "title = \"comparison between PSAE of the SAS macros and both R implementations\"\n",
    "plt.title(title);\n",
    "plt.savefig(\"FIGURES/sumPSAE03.pdf\", format=\"pdf\", bbox_inches='tight', pad_inches=0)"
   ]
  },
  {
   "cell_type": "markdown",
   "metadata": {},
   "source": [
    "**Figure 8:** Comparison between the sum of $PSAE$ of the **SAS** macros and the **R** implementation."
   ]
  },
  {
   "cell_type": "code",
   "execution_count": 68,
   "metadata": {
    "collapsed": false
   },
   "outputs": [
    {
     "data": {
      "text/html": [
       "<div>\n",
       "<table border=\"1\" class=\"dataframe\">\n",
       "  <thead>\n",
       "    <tr style=\"text-align: right;\">\n",
       "      <th></th>\n",
       "      <th>PSAE</th>\n",
       "    </tr>\n",
       "  </thead>\n",
       "  <tbody>\n",
       "    <tr>\n",
       "      <th>GREGWT-R</th>\n",
       "      <td>0.172488</td>\n",
       "    </tr>\n",
       "    <tr>\n",
       "      <th>GREGWT-SAS</th>\n",
       "      <td>0.391454</td>\n",
       "    </tr>\n",
       "    <tr>\n",
       "      <th>IPF-R</th>\n",
       "      <td>0.182529</td>\n",
       "    </tr>\n",
       "  </tbody>\n",
       "</table>\n",
       "</div>"
      ],
      "text/plain": [
       "                PSAE\n",
       "GREGWT-R    0.172488\n",
       "GREGWT-SAS  0.391454\n",
       "IPF-R       0.182529"
      ]
     },
     "execution_count": 68,
     "metadata": {},
     "output_type": "execute_result"
    }
   ],
   "source": [
    "PSAE_sum.T"
   ]
  },
  {
   "cell_type": "code",
   "execution_count": null,
   "metadata": {
    "collapsed": true
   },
   "outputs": [],
   "source": []
  }
 ],
 "metadata": {
  "gist_id": "29b31bc74c613c0bff47",
  "hide_input": false,
  "kernelspec": {
   "display_name": "Python 3",
   "language": "python",
   "name": "python3"
  },
  "language_info": {
   "codemirror_mode": {
    "name": "ipython",
    "version": 3
   },
   "file_extension": ".py",
   "mimetype": "text/x-python",
   "name": "python",
   "nbconvert_exporter": "python",
   "pygments_lexer": "ipython3",
   "version": "3.4.3"
  }
 },
 "nbformat": 4,
 "nbformat_minor": 0
}
